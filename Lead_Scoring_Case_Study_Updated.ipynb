{
 "cells": [
  {
   "cell_type": "code",
   "execution_count": 2558,
   "id": "c3ffdbd3",
   "metadata": {},
   "outputs": [],
   "source": [
    "import pandas as pd\n",
    "import numpy as np\n",
    "import seaborn as sns\n",
    "import matplotlib.pyplot as plt"
   ]
  },
  {
   "cell_type": "markdown",
   "id": "51dbdbe6",
   "metadata": {},
   "source": [
    "### Reading the Data"
   ]
  },
  {
   "cell_type": "code",
   "execution_count": 2559,
   "id": "2612097b",
   "metadata": {},
   "outputs": [],
   "source": [
    "df=pd.read_csv(\"Leads.csv\")"
   ]
  },
  {
   "cell_type": "code",
   "execution_count": 2560,
   "id": "dd0ce4f2",
   "metadata": {},
   "outputs": [
    {
     "data": {
      "text/html": [
       "<div>\n",
       "<style scoped>\n",
       "    .dataframe tbody tr th:only-of-type {\n",
       "        vertical-align: middle;\n",
       "    }\n",
       "\n",
       "    .dataframe tbody tr th {\n",
       "        vertical-align: top;\n",
       "    }\n",
       "\n",
       "    .dataframe thead th {\n",
       "        text-align: right;\n",
       "    }\n",
       "</style>\n",
       "<table border=\"1\" class=\"dataframe\">\n",
       "  <thead>\n",
       "    <tr style=\"text-align: right;\">\n",
       "      <th></th>\n",
       "      <th>Prospect ID</th>\n",
       "      <th>Lead Number</th>\n",
       "      <th>Lead Origin</th>\n",
       "      <th>Lead Source</th>\n",
       "      <th>Do Not Email</th>\n",
       "      <th>Do Not Call</th>\n",
       "      <th>Converted</th>\n",
       "      <th>TotalVisits</th>\n",
       "      <th>Total Time Spent on Website</th>\n",
       "      <th>Page Views Per Visit</th>\n",
       "      <th>Last Activity</th>\n",
       "      <th>Country</th>\n",
       "      <th>Specialization</th>\n",
       "      <th>How did you hear about X Education</th>\n",
       "      <th>What is your current occupation</th>\n",
       "      <th>What matters most to you in choosing a course</th>\n",
       "      <th>Search</th>\n",
       "      <th>Magazine</th>\n",
       "      <th>Newspaper Article</th>\n",
       "      <th>X Education Forums</th>\n",
       "      <th>Newspaper</th>\n",
       "      <th>Digital Advertisement</th>\n",
       "      <th>Through Recommendations</th>\n",
       "      <th>Receive More Updates About Our Courses</th>\n",
       "      <th>Tags</th>\n",
       "      <th>Lead Quality</th>\n",
       "      <th>Update me on Supply Chain Content</th>\n",
       "      <th>Get updates on DM Content</th>\n",
       "      <th>Lead Profile</th>\n",
       "      <th>City</th>\n",
       "      <th>Asymmetrique Activity Index</th>\n",
       "      <th>Asymmetrique Profile Index</th>\n",
       "      <th>Asymmetrique Activity Score</th>\n",
       "      <th>Asymmetrique Profile Score</th>\n",
       "      <th>I agree to pay the amount through cheque</th>\n",
       "      <th>A free copy of Mastering The Interview</th>\n",
       "      <th>Last Notable Activity</th>\n",
       "    </tr>\n",
       "  </thead>\n",
       "  <tbody>\n",
       "    <tr>\n",
       "      <th>0</th>\n",
       "      <td>7927b2df-8bba-4d29-b9a2-b6e0beafe620</td>\n",
       "      <td>660737</td>\n",
       "      <td>API</td>\n",
       "      <td>Olark Chat</td>\n",
       "      <td>No</td>\n",
       "      <td>No</td>\n",
       "      <td>0</td>\n",
       "      <td>0.0</td>\n",
       "      <td>0</td>\n",
       "      <td>0.0</td>\n",
       "      <td>Page Visited on Website</td>\n",
       "      <td>NaN</td>\n",
       "      <td>Select</td>\n",
       "      <td>Select</td>\n",
       "      <td>Unemployed</td>\n",
       "      <td>Better Career Prospects</td>\n",
       "      <td>No</td>\n",
       "      <td>No</td>\n",
       "      <td>No</td>\n",
       "      <td>No</td>\n",
       "      <td>No</td>\n",
       "      <td>No</td>\n",
       "      <td>No</td>\n",
       "      <td>No</td>\n",
       "      <td>Interested in other courses</td>\n",
       "      <td>Low in Relevance</td>\n",
       "      <td>No</td>\n",
       "      <td>No</td>\n",
       "      <td>Select</td>\n",
       "      <td>Select</td>\n",
       "      <td>02.Medium</td>\n",
       "      <td>02.Medium</td>\n",
       "      <td>15.0</td>\n",
       "      <td>15.0</td>\n",
       "      <td>No</td>\n",
       "      <td>No</td>\n",
       "      <td>Modified</td>\n",
       "    </tr>\n",
       "    <tr>\n",
       "      <th>1</th>\n",
       "      <td>2a272436-5132-4136-86fa-dcc88c88f482</td>\n",
       "      <td>660728</td>\n",
       "      <td>API</td>\n",
       "      <td>Organic Search</td>\n",
       "      <td>No</td>\n",
       "      <td>No</td>\n",
       "      <td>0</td>\n",
       "      <td>5.0</td>\n",
       "      <td>674</td>\n",
       "      <td>2.5</td>\n",
       "      <td>Email Opened</td>\n",
       "      <td>India</td>\n",
       "      <td>Select</td>\n",
       "      <td>Select</td>\n",
       "      <td>Unemployed</td>\n",
       "      <td>Better Career Prospects</td>\n",
       "      <td>No</td>\n",
       "      <td>No</td>\n",
       "      <td>No</td>\n",
       "      <td>No</td>\n",
       "      <td>No</td>\n",
       "      <td>No</td>\n",
       "      <td>No</td>\n",
       "      <td>No</td>\n",
       "      <td>Ringing</td>\n",
       "      <td>NaN</td>\n",
       "      <td>No</td>\n",
       "      <td>No</td>\n",
       "      <td>Select</td>\n",
       "      <td>Select</td>\n",
       "      <td>02.Medium</td>\n",
       "      <td>02.Medium</td>\n",
       "      <td>15.0</td>\n",
       "      <td>15.0</td>\n",
       "      <td>No</td>\n",
       "      <td>No</td>\n",
       "      <td>Email Opened</td>\n",
       "    </tr>\n",
       "    <tr>\n",
       "      <th>2</th>\n",
       "      <td>8cc8c611-a219-4f35-ad23-fdfd2656bd8a</td>\n",
       "      <td>660727</td>\n",
       "      <td>Landing Page Submission</td>\n",
       "      <td>Direct Traffic</td>\n",
       "      <td>No</td>\n",
       "      <td>No</td>\n",
       "      <td>1</td>\n",
       "      <td>2.0</td>\n",
       "      <td>1532</td>\n",
       "      <td>2.0</td>\n",
       "      <td>Email Opened</td>\n",
       "      <td>India</td>\n",
       "      <td>Business Administration</td>\n",
       "      <td>Select</td>\n",
       "      <td>Student</td>\n",
       "      <td>Better Career Prospects</td>\n",
       "      <td>No</td>\n",
       "      <td>No</td>\n",
       "      <td>No</td>\n",
       "      <td>No</td>\n",
       "      <td>No</td>\n",
       "      <td>No</td>\n",
       "      <td>No</td>\n",
       "      <td>No</td>\n",
       "      <td>Will revert after reading the email</td>\n",
       "      <td>Might be</td>\n",
       "      <td>No</td>\n",
       "      <td>No</td>\n",
       "      <td>Potential Lead</td>\n",
       "      <td>Mumbai</td>\n",
       "      <td>02.Medium</td>\n",
       "      <td>01.High</td>\n",
       "      <td>14.0</td>\n",
       "      <td>20.0</td>\n",
       "      <td>No</td>\n",
       "      <td>Yes</td>\n",
       "      <td>Email Opened</td>\n",
       "    </tr>\n",
       "    <tr>\n",
       "      <th>3</th>\n",
       "      <td>0cc2df48-7cf4-4e39-9de9-19797f9b38cc</td>\n",
       "      <td>660719</td>\n",
       "      <td>Landing Page Submission</td>\n",
       "      <td>Direct Traffic</td>\n",
       "      <td>No</td>\n",
       "      <td>No</td>\n",
       "      <td>0</td>\n",
       "      <td>1.0</td>\n",
       "      <td>305</td>\n",
       "      <td>1.0</td>\n",
       "      <td>Unreachable</td>\n",
       "      <td>India</td>\n",
       "      <td>Media and Advertising</td>\n",
       "      <td>Word Of Mouth</td>\n",
       "      <td>Unemployed</td>\n",
       "      <td>Better Career Prospects</td>\n",
       "      <td>No</td>\n",
       "      <td>No</td>\n",
       "      <td>No</td>\n",
       "      <td>No</td>\n",
       "      <td>No</td>\n",
       "      <td>No</td>\n",
       "      <td>No</td>\n",
       "      <td>No</td>\n",
       "      <td>Ringing</td>\n",
       "      <td>Not Sure</td>\n",
       "      <td>No</td>\n",
       "      <td>No</td>\n",
       "      <td>Select</td>\n",
       "      <td>Mumbai</td>\n",
       "      <td>02.Medium</td>\n",
       "      <td>01.High</td>\n",
       "      <td>13.0</td>\n",
       "      <td>17.0</td>\n",
       "      <td>No</td>\n",
       "      <td>No</td>\n",
       "      <td>Modified</td>\n",
       "    </tr>\n",
       "    <tr>\n",
       "      <th>4</th>\n",
       "      <td>3256f628-e534-4826-9d63-4a8b88782852</td>\n",
       "      <td>660681</td>\n",
       "      <td>Landing Page Submission</td>\n",
       "      <td>Google</td>\n",
       "      <td>No</td>\n",
       "      <td>No</td>\n",
       "      <td>1</td>\n",
       "      <td>2.0</td>\n",
       "      <td>1428</td>\n",
       "      <td>1.0</td>\n",
       "      <td>Converted to Lead</td>\n",
       "      <td>India</td>\n",
       "      <td>Select</td>\n",
       "      <td>Other</td>\n",
       "      <td>Unemployed</td>\n",
       "      <td>Better Career Prospects</td>\n",
       "      <td>No</td>\n",
       "      <td>No</td>\n",
       "      <td>No</td>\n",
       "      <td>No</td>\n",
       "      <td>No</td>\n",
       "      <td>No</td>\n",
       "      <td>No</td>\n",
       "      <td>No</td>\n",
       "      <td>Will revert after reading the email</td>\n",
       "      <td>Might be</td>\n",
       "      <td>No</td>\n",
       "      <td>No</td>\n",
       "      <td>Select</td>\n",
       "      <td>Mumbai</td>\n",
       "      <td>02.Medium</td>\n",
       "      <td>01.High</td>\n",
       "      <td>15.0</td>\n",
       "      <td>18.0</td>\n",
       "      <td>No</td>\n",
       "      <td>No</td>\n",
       "      <td>Modified</td>\n",
       "    </tr>\n",
       "  </tbody>\n",
       "</table>\n",
       "</div>"
      ],
      "text/plain": [
       "                            Prospect ID  Lead Number              Lead Origin  \\\n",
       "0  7927b2df-8bba-4d29-b9a2-b6e0beafe620       660737                      API   \n",
       "1  2a272436-5132-4136-86fa-dcc88c88f482       660728                      API   \n",
       "2  8cc8c611-a219-4f35-ad23-fdfd2656bd8a       660727  Landing Page Submission   \n",
       "3  0cc2df48-7cf4-4e39-9de9-19797f9b38cc       660719  Landing Page Submission   \n",
       "4  3256f628-e534-4826-9d63-4a8b88782852       660681  Landing Page Submission   \n",
       "\n",
       "      Lead Source Do Not Email Do Not Call  Converted  TotalVisits  \\\n",
       "0      Olark Chat           No          No          0          0.0   \n",
       "1  Organic Search           No          No          0          5.0   \n",
       "2  Direct Traffic           No          No          1          2.0   \n",
       "3  Direct Traffic           No          No          0          1.0   \n",
       "4          Google           No          No          1          2.0   \n",
       "\n",
       "   Total Time Spent on Website  Page Views Per Visit            Last Activity  \\\n",
       "0                            0                   0.0  Page Visited on Website   \n",
       "1                          674                   2.5             Email Opened   \n",
       "2                         1532                   2.0             Email Opened   \n",
       "3                          305                   1.0              Unreachable   \n",
       "4                         1428                   1.0        Converted to Lead   \n",
       "\n",
       "  Country           Specialization How did you hear about X Education  \\\n",
       "0     NaN                   Select                             Select   \n",
       "1   India                   Select                             Select   \n",
       "2   India  Business Administration                             Select   \n",
       "3   India    Media and Advertising                      Word Of Mouth   \n",
       "4   India                   Select                              Other   \n",
       "\n",
       "  What is your current occupation  \\\n",
       "0                      Unemployed   \n",
       "1                      Unemployed   \n",
       "2                         Student   \n",
       "3                      Unemployed   \n",
       "4                      Unemployed   \n",
       "\n",
       "  What matters most to you in choosing a course Search Magazine  \\\n",
       "0                       Better Career Prospects     No       No   \n",
       "1                       Better Career Prospects     No       No   \n",
       "2                       Better Career Prospects     No       No   \n",
       "3                       Better Career Prospects     No       No   \n",
       "4                       Better Career Prospects     No       No   \n",
       "\n",
       "  Newspaper Article X Education Forums Newspaper Digital Advertisement  \\\n",
       "0                No                 No        No                    No   \n",
       "1                No                 No        No                    No   \n",
       "2                No                 No        No                    No   \n",
       "3                No                 No        No                    No   \n",
       "4                No                 No        No                    No   \n",
       "\n",
       "  Through Recommendations Receive More Updates About Our Courses  \\\n",
       "0                      No                                     No   \n",
       "1                      No                                     No   \n",
       "2                      No                                     No   \n",
       "3                      No                                     No   \n",
       "4                      No                                     No   \n",
       "\n",
       "                                  Tags      Lead Quality  \\\n",
       "0          Interested in other courses  Low in Relevance   \n",
       "1                              Ringing               NaN   \n",
       "2  Will revert after reading the email          Might be   \n",
       "3                              Ringing          Not Sure   \n",
       "4  Will revert after reading the email          Might be   \n",
       "\n",
       "  Update me on Supply Chain Content Get updates on DM Content    Lead Profile  \\\n",
       "0                                No                        No          Select   \n",
       "1                                No                        No          Select   \n",
       "2                                No                        No  Potential Lead   \n",
       "3                                No                        No          Select   \n",
       "4                                No                        No          Select   \n",
       "\n",
       "     City Asymmetrique Activity Index Asymmetrique Profile Index  \\\n",
       "0  Select                   02.Medium                  02.Medium   \n",
       "1  Select                   02.Medium                  02.Medium   \n",
       "2  Mumbai                   02.Medium                    01.High   \n",
       "3  Mumbai                   02.Medium                    01.High   \n",
       "4  Mumbai                   02.Medium                    01.High   \n",
       "\n",
       "   Asymmetrique Activity Score  Asymmetrique Profile Score  \\\n",
       "0                         15.0                        15.0   \n",
       "1                         15.0                        15.0   \n",
       "2                         14.0                        20.0   \n",
       "3                         13.0                        17.0   \n",
       "4                         15.0                        18.0   \n",
       "\n",
       "  I agree to pay the amount through cheque  \\\n",
       "0                                       No   \n",
       "1                                       No   \n",
       "2                                       No   \n",
       "3                                       No   \n",
       "4                                       No   \n",
       "\n",
       "  A free copy of Mastering The Interview Last Notable Activity  \n",
       "0                                     No              Modified  \n",
       "1                                     No          Email Opened  \n",
       "2                                    Yes          Email Opened  \n",
       "3                                     No              Modified  \n",
       "4                                     No              Modified  "
      ]
     },
     "execution_count": 2560,
     "metadata": {},
     "output_type": "execute_result"
    }
   ],
   "source": [
    "pd.set_option(\"display.max_columns\",37)\n",
    "df.head()\n"
   ]
  },
  {
   "cell_type": "code",
   "execution_count": 2561,
   "id": "52d1e7de",
   "metadata": {},
   "outputs": [
    {
     "data": {
      "text/plain": [
       "(9240, 37)"
      ]
     },
     "execution_count": 2561,
     "metadata": {},
     "output_type": "execute_result"
    }
   ],
   "source": [
    "df.shape"
   ]
  },
  {
   "cell_type": "markdown",
   "id": "fb2f218c",
   "metadata": {},
   "source": [
    "The data has 37 Columns and 9240 rows to start with. The Column __Converted__ is the Target column."
   ]
  },
  {
   "cell_type": "code",
   "execution_count": 2562,
   "id": "5ef5e560",
   "metadata": {},
   "outputs": [
    {
     "name": "stdout",
     "output_type": "stream",
     "text": [
      "<class 'pandas.core.frame.DataFrame'>\n",
      "RangeIndex: 9240 entries, 0 to 9239\n",
      "Data columns (total 37 columns):\n",
      " #   Column                                         Non-Null Count  Dtype  \n",
      "---  ------                                         --------------  -----  \n",
      " 0   Prospect ID                                    9240 non-null   object \n",
      " 1   Lead Number                                    9240 non-null   int64  \n",
      " 2   Lead Origin                                    9240 non-null   object \n",
      " 3   Lead Source                                    9204 non-null   object \n",
      " 4   Do Not Email                                   9240 non-null   object \n",
      " 5   Do Not Call                                    9240 non-null   object \n",
      " 6   Converted                                      9240 non-null   int64  \n",
      " 7   TotalVisits                                    9103 non-null   float64\n",
      " 8   Total Time Spent on Website                    9240 non-null   int64  \n",
      " 9   Page Views Per Visit                           9103 non-null   float64\n",
      " 10  Last Activity                                  9137 non-null   object \n",
      " 11  Country                                        6779 non-null   object \n",
      " 12  Specialization                                 7802 non-null   object \n",
      " 13  How did you hear about X Education             7033 non-null   object \n",
      " 14  What is your current occupation                6550 non-null   object \n",
      " 15  What matters most to you in choosing a course  6531 non-null   object \n",
      " 16  Search                                         9240 non-null   object \n",
      " 17  Magazine                                       9240 non-null   object \n",
      " 18  Newspaper Article                              9240 non-null   object \n",
      " 19  X Education Forums                             9240 non-null   object \n",
      " 20  Newspaper                                      9240 non-null   object \n",
      " 21  Digital Advertisement                          9240 non-null   object \n",
      " 22  Through Recommendations                        9240 non-null   object \n",
      " 23  Receive More Updates About Our Courses         9240 non-null   object \n",
      " 24  Tags                                           5887 non-null   object \n",
      " 25  Lead Quality                                   4473 non-null   object \n",
      " 26  Update me on Supply Chain Content              9240 non-null   object \n",
      " 27  Get updates on DM Content                      9240 non-null   object \n",
      " 28  Lead Profile                                   6531 non-null   object \n",
      " 29  City                                           7820 non-null   object \n",
      " 30  Asymmetrique Activity Index                    5022 non-null   object \n",
      " 31  Asymmetrique Profile Index                     5022 non-null   object \n",
      " 32  Asymmetrique Activity Score                    5022 non-null   float64\n",
      " 33  Asymmetrique Profile Score                     5022 non-null   float64\n",
      " 34  I agree to pay the amount through cheque       9240 non-null   object \n",
      " 35  A free copy of Mastering The Interview         9240 non-null   object \n",
      " 36  Last Notable Activity                          9240 non-null   object \n",
      "dtypes: float64(4), int64(3), object(30)\n",
      "memory usage: 2.6+ MB\n"
     ]
    }
   ],
   "source": [
    "df.info() #looking for information of the columns and checking to see if Null values exist"
   ]
  },
  {
   "cell_type": "markdown",
   "id": "e3f67723",
   "metadata": {},
   "source": [
    "* All datatypes are correctly identified. Hence no need to do any processing on typecasting datatypes"
   ]
  },
  {
   "cell_type": "code",
   "execution_count": 2563,
   "id": "38a2bbac",
   "metadata": {},
   "outputs": [
    {
     "data": {
      "text/html": [
       "<div>\n",
       "<style scoped>\n",
       "    .dataframe tbody tr th:only-of-type {\n",
       "        vertical-align: middle;\n",
       "    }\n",
       "\n",
       "    .dataframe tbody tr th {\n",
       "        vertical-align: top;\n",
       "    }\n",
       "\n",
       "    .dataframe thead th {\n",
       "        text-align: right;\n",
       "    }\n",
       "</style>\n",
       "<table border=\"1\" class=\"dataframe\">\n",
       "  <thead>\n",
       "    <tr style=\"text-align: right;\">\n",
       "      <th></th>\n",
       "      <th>Lead Number</th>\n",
       "      <th>Converted</th>\n",
       "      <th>TotalVisits</th>\n",
       "      <th>Total Time Spent on Website</th>\n",
       "      <th>Page Views Per Visit</th>\n",
       "      <th>Asymmetrique Activity Score</th>\n",
       "      <th>Asymmetrique Profile Score</th>\n",
       "    </tr>\n",
       "  </thead>\n",
       "  <tbody>\n",
       "    <tr>\n",
       "      <th>count</th>\n",
       "      <td>9240.000000</td>\n",
       "      <td>9240.000000</td>\n",
       "      <td>9103.000000</td>\n",
       "      <td>9240.000000</td>\n",
       "      <td>9103.000000</td>\n",
       "      <td>5022.000000</td>\n",
       "      <td>5022.000000</td>\n",
       "    </tr>\n",
       "    <tr>\n",
       "      <th>mean</th>\n",
       "      <td>617188.435606</td>\n",
       "      <td>0.385390</td>\n",
       "      <td>3.445238</td>\n",
       "      <td>487.698268</td>\n",
       "      <td>2.362820</td>\n",
       "      <td>14.306252</td>\n",
       "      <td>16.344883</td>\n",
       "    </tr>\n",
       "    <tr>\n",
       "      <th>std</th>\n",
       "      <td>23405.995698</td>\n",
       "      <td>0.486714</td>\n",
       "      <td>4.854853</td>\n",
       "      <td>548.021466</td>\n",
       "      <td>2.161418</td>\n",
       "      <td>1.386694</td>\n",
       "      <td>1.811395</td>\n",
       "    </tr>\n",
       "    <tr>\n",
       "      <th>min</th>\n",
       "      <td>579533.000000</td>\n",
       "      <td>0.000000</td>\n",
       "      <td>0.000000</td>\n",
       "      <td>0.000000</td>\n",
       "      <td>0.000000</td>\n",
       "      <td>7.000000</td>\n",
       "      <td>11.000000</td>\n",
       "    </tr>\n",
       "    <tr>\n",
       "      <th>25%</th>\n",
       "      <td>596484.500000</td>\n",
       "      <td>0.000000</td>\n",
       "      <td>1.000000</td>\n",
       "      <td>12.000000</td>\n",
       "      <td>1.000000</td>\n",
       "      <td>14.000000</td>\n",
       "      <td>15.000000</td>\n",
       "    </tr>\n",
       "    <tr>\n",
       "      <th>50%</th>\n",
       "      <td>615479.000000</td>\n",
       "      <td>0.000000</td>\n",
       "      <td>3.000000</td>\n",
       "      <td>248.000000</td>\n",
       "      <td>2.000000</td>\n",
       "      <td>14.000000</td>\n",
       "      <td>16.000000</td>\n",
       "    </tr>\n",
       "    <tr>\n",
       "      <th>75%</th>\n",
       "      <td>637387.250000</td>\n",
       "      <td>1.000000</td>\n",
       "      <td>5.000000</td>\n",
       "      <td>936.000000</td>\n",
       "      <td>3.000000</td>\n",
       "      <td>15.000000</td>\n",
       "      <td>18.000000</td>\n",
       "    </tr>\n",
       "    <tr>\n",
       "      <th>max</th>\n",
       "      <td>660737.000000</td>\n",
       "      <td>1.000000</td>\n",
       "      <td>251.000000</td>\n",
       "      <td>2272.000000</td>\n",
       "      <td>55.000000</td>\n",
       "      <td>18.000000</td>\n",
       "      <td>20.000000</td>\n",
       "    </tr>\n",
       "  </tbody>\n",
       "</table>\n",
       "</div>"
      ],
      "text/plain": [
       "         Lead Number    Converted  TotalVisits  Total Time Spent on Website  \\\n",
       "count    9240.000000  9240.000000  9103.000000                  9240.000000   \n",
       "mean   617188.435606     0.385390     3.445238                   487.698268   \n",
       "std     23405.995698     0.486714     4.854853                   548.021466   \n",
       "min    579533.000000     0.000000     0.000000                     0.000000   \n",
       "25%    596484.500000     0.000000     1.000000                    12.000000   \n",
       "50%    615479.000000     0.000000     3.000000                   248.000000   \n",
       "75%    637387.250000     1.000000     5.000000                   936.000000   \n",
       "max    660737.000000     1.000000   251.000000                  2272.000000   \n",
       "\n",
       "       Page Views Per Visit  Asymmetrique Activity Score  \\\n",
       "count           9103.000000                  5022.000000   \n",
       "mean               2.362820                    14.306252   \n",
       "std                2.161418                     1.386694   \n",
       "min                0.000000                     7.000000   \n",
       "25%                1.000000                    14.000000   \n",
       "50%                2.000000                    14.000000   \n",
       "75%                3.000000                    15.000000   \n",
       "max               55.000000                    18.000000   \n",
       "\n",
       "       Asymmetrique Profile Score  \n",
       "count                 5022.000000  \n",
       "mean                    16.344883  \n",
       "std                      1.811395  \n",
       "min                     11.000000  \n",
       "25%                     15.000000  \n",
       "50%                     16.000000  \n",
       "75%                     18.000000  \n",
       "max                     20.000000  "
      ]
     },
     "execution_count": 2563,
     "metadata": {},
     "output_type": "execute_result"
    }
   ],
   "source": [
    "df.describe()"
   ]
  },
  {
   "cell_type": "markdown",
   "id": "b2e8a9d4",
   "metadata": {},
   "source": [
    "### Checking for Null values in the columns"
   ]
  },
  {
   "cell_type": "code",
   "execution_count": 2564,
   "id": "f342ca73",
   "metadata": {},
   "outputs": [
    {
     "data": {
      "text/plain": [
       "Prospect ID                                         0\n",
       "Lead Number                                         0\n",
       "Lead Origin                                         0\n",
       "Lead Source                                        36\n",
       "Do Not Email                                        0\n",
       "Do Not Call                                         0\n",
       "Converted                                           0\n",
       "TotalVisits                                       137\n",
       "Total Time Spent on Website                         0\n",
       "Page Views Per Visit                              137\n",
       "Last Activity                                     103\n",
       "Country                                          2461\n",
       "Specialization                                   1438\n",
       "How did you hear about X Education               2207\n",
       "What is your current occupation                  2690\n",
       "What matters most to you in choosing a course    2709\n",
       "Search                                              0\n",
       "Magazine                                            0\n",
       "Newspaper Article                                   0\n",
       "X Education Forums                                  0\n",
       "Newspaper                                           0\n",
       "Digital Advertisement                               0\n",
       "Through Recommendations                             0\n",
       "Receive More Updates About Our Courses              0\n",
       "Tags                                             3353\n",
       "Lead Quality                                     4767\n",
       "Update me on Supply Chain Content                   0\n",
       "Get updates on DM Content                           0\n",
       "Lead Profile                                     2709\n",
       "City                                             1420\n",
       "Asymmetrique Activity Index                      4218\n",
       "Asymmetrique Profile Index                       4218\n",
       "Asymmetrique Activity Score                      4218\n",
       "Asymmetrique Profile Score                       4218\n",
       "I agree to pay the amount through cheque            0\n",
       "A free copy of Mastering The Interview              0\n",
       "Last Notable Activity                               0\n",
       "dtype: int64"
      ]
     },
     "execution_count": 2564,
     "metadata": {},
     "output_type": "execute_result"
    }
   ],
   "source": [
    "df.isna().sum()"
   ]
  },
  {
   "cell_type": "code",
   "execution_count": 2565,
   "id": "4ce71ac4",
   "metadata": {},
   "outputs": [
    {
     "data": {
      "text/plain": [
       "Prospect ID                                       0.000000\n",
       "Lead Number                                       0.000000\n",
       "Lead Origin                                       0.000000\n",
       "Lead Source                                       0.389610\n",
       "Do Not Email                                      0.000000\n",
       "Do Not Call                                       0.000000\n",
       "Converted                                         0.000000\n",
       "TotalVisits                                       1.482684\n",
       "Total Time Spent on Website                       0.000000\n",
       "Page Views Per Visit                              1.482684\n",
       "Last Activity                                     1.114719\n",
       "Country                                          26.634199\n",
       "Specialization                                   15.562771\n",
       "How did you hear about X Education               23.885281\n",
       "What is your current occupation                  29.112554\n",
       "What matters most to you in choosing a course    29.318182\n",
       "Search                                            0.000000\n",
       "Magazine                                          0.000000\n",
       "Newspaper Article                                 0.000000\n",
       "X Education Forums                                0.000000\n",
       "Newspaper                                         0.000000\n",
       "Digital Advertisement                             0.000000\n",
       "Through Recommendations                           0.000000\n",
       "Receive More Updates About Our Courses            0.000000\n",
       "Tags                                             36.287879\n",
       "Lead Quality                                     51.590909\n",
       "Update me on Supply Chain Content                 0.000000\n",
       "Get updates on DM Content                         0.000000\n",
       "Lead Profile                                     29.318182\n",
       "City                                             15.367965\n",
       "Asymmetrique Activity Index                      45.649351\n",
       "Asymmetrique Profile Index                       45.649351\n",
       "Asymmetrique Activity Score                      45.649351\n",
       "Asymmetrique Profile Score                       45.649351\n",
       "I agree to pay the amount through cheque          0.000000\n",
       "A free copy of Mastering The Interview            0.000000\n",
       "Last Notable Activity                             0.000000\n",
       "dtype: float64"
      ]
     },
     "execution_count": 2565,
     "metadata": {},
     "output_type": "execute_result"
    }
   ],
   "source": [
    "(df.isna().sum()/len(df)*100)"
   ]
  },
  {
   "cell_type": "markdown",
   "id": "dad92757",
   "metadata": {},
   "source": [
    "__The column $Lead Quality$ has missing values greater than 51%. Hence analysing this column further before dropping.__"
   ]
  },
  {
   "cell_type": "code",
   "execution_count": 2566,
   "id": "5bd44c32",
   "metadata": {},
   "outputs": [
    {
     "data": {
      "text/plain": [
       "Might be             1560\n",
       "Not Sure             1092\n",
       "High in Relevance     637\n",
       "Worst                 601\n",
       "Low in Relevance      583\n",
       "Name: Lead Quality, dtype: int64"
      ]
     },
     "execution_count": 2566,
     "metadata": {},
     "output_type": "execute_result"
    }
   ],
   "source": [
    "df[\"Lead Quality\"].value_counts() #Probing all unique entries in this column"
   ]
  },
  {
   "cell_type": "code",
   "execution_count": 2567,
   "id": "5d8f535a",
   "metadata": {},
   "outputs": [],
   "source": [
    "df2=df.copy()"
   ]
  },
  {
   "cell_type": "markdown",
   "id": "abcf43f3",
   "metadata": {},
   "source": [
    "The entry of Lead quality though is based on intuition of the employee,\n",
    "1. It seems to have a high accuracy of __94.62%__ for actual percentage of converts in the \"High in Relevance\" category.\n",
    "2. Similarly it is __75.57%__ for \"Might be\" category\n",
    "3. For \"Low in Relevance\" category it is 81.81%\n",
    "4. For \"Worst\" category the accuracy of the lead not being converted is (1-1.99%) = 98.01%. Thus is highly negatively correlated."
   ]
  },
  {
   "cell_type": "code",
   "execution_count": 2568,
   "id": "9617cd0c",
   "metadata": {},
   "outputs": [
    {
     "data": {
      "text/plain": [
       "94.66248037676608"
      ]
     },
     "execution_count": 2568,
     "metadata": {},
     "output_type": "execute_result"
    }
   ],
   "source": [
    "df2[df2[\"Lead Quality\"]==\"High in Relevance\"].Converted.sum()/len(df2[df2[\"Lead Quality\"]==\"High in Relevance\"])*100"
   ]
  },
  {
   "cell_type": "code",
   "execution_count": 2569,
   "id": "6cc667bf",
   "metadata": {},
   "outputs": [
    {
     "data": {
      "text/plain": [
       "75.57692307692308"
      ]
     },
     "execution_count": 2569,
     "metadata": {},
     "output_type": "execute_result"
    }
   ],
   "source": [
    "df2[df2[\"Lead Quality\"]==\"Might be\"].Converted.sum()/len(df2[df2[\"Lead Quality\"]==\"Might be\"])*100"
   ]
  },
  {
   "cell_type": "code",
   "execution_count": 2570,
   "id": "7ddc0e13",
   "metadata": {},
   "outputs": [
    {
     "data": {
      "text/plain": [
       "81.81818181818183"
      ]
     },
     "execution_count": 2570,
     "metadata": {},
     "output_type": "execute_result"
    }
   ],
   "source": [
    "df2[df2[\"Lead Quality\"]==\"Low in Relevance\"].Converted.sum()/len(df2[df2[\"Lead Quality\"]==\"Low in Relevance\"])*100"
   ]
  },
  {
   "cell_type": "code",
   "execution_count": 2571,
   "id": "d4351823",
   "metadata": {},
   "outputs": [
    {
     "data": {
      "text/plain": [
       "24.358974358974358"
      ]
     },
     "execution_count": 2571,
     "metadata": {},
     "output_type": "execute_result"
    }
   ],
   "source": [
    "df2[df2[\"Lead Quality\"]==\"Not Sure\"].Converted.sum()/len(df2[df2[\"Lead Quality\"]==\"Not Sure\"])*100"
   ]
  },
  {
   "cell_type": "code",
   "execution_count": 2572,
   "id": "b68b5008",
   "metadata": {},
   "outputs": [
    {
     "data": {
      "text/plain": [
       "1.9966722129783694"
      ]
     },
     "execution_count": 2572,
     "metadata": {},
     "output_type": "execute_result"
    }
   ],
   "source": [
    "df2[df2[\"Lead Quality\"]==\"Worst\"].Converted.sum()/len(df2[df2[\"Lead Quality\"]==\"Worst\"])*100"
   ]
  },
  {
   "cell_type": "markdown",
   "id": "c5008480",
   "metadata": {},
   "source": [
    "Thus this seems like important information that can aid the model predictions. Hence it will be useful to retain the column.\n",
    "Further, all other entires such as- \"Low in Relevance\", \"Not Sure\" and \"Blank\" can be rolled up as __NA__ untill further analysis."
   ]
  },
  {
   "cell_type": "code",
   "execution_count": 2573,
   "id": "edbd1275",
   "metadata": {},
   "outputs": [],
   "source": [
    "df2[\"Lead Quality\"]=np.where(df2[\"Lead Quality\"]==\"Low in Relevance\" , np.nan, df2['Lead Quality'])\n",
    "df2[\"Lead Quality\"]=np.where(df2[\"Lead Quality\"]==\"Not Sure\", np.nan, df2['Lead Quality'])"
   ]
  },
  {
   "cell_type": "code",
   "execution_count": 2574,
   "id": "b1aebb80",
   "metadata": {},
   "outputs": [
    {
     "data": {
      "text/plain": [
       "6442"
      ]
     },
     "execution_count": 2574,
     "metadata": {},
     "output_type": "execute_result"
    }
   ],
   "source": [
    "len(df2[df2[\"Lead Quality\"].isna()])"
   ]
  },
  {
   "cell_type": "code",
   "execution_count": 2575,
   "id": "6365a08f",
   "metadata": {},
   "outputs": [
    {
     "data": {
      "text/plain": [
       "Might be             1560\n",
       "High in Relevance     637\n",
       "Worst                 601\n",
       "Name: Lead Quality, dtype: int64"
      ]
     },
     "execution_count": 2575,
     "metadata": {},
     "output_type": "execute_result"
    }
   ],
   "source": [
    "df2[\"Lead Quality\"].value_counts()"
   ]
  },
  {
   "cell_type": "markdown",
   "id": "5a7513e2",
   "metadata": {},
   "source": [
    "## Dropping Columns with null values greater than 35%"
   ]
  },
  {
   "cell_type": "code",
   "execution_count": 2576,
   "id": "238456d0",
   "metadata": {},
   "outputs": [],
   "source": [
    "df=df.drop([\"Lead Quality\",\"Asymmetrique Activity Index\",\"Asymmetrique Profile Index\", \"Asymmetrique Activity Score\",\"Asymmetrique Profile Score\",\"Tags\"],axis=1)"
   ]
  },
  {
   "cell_type": "code",
   "execution_count": 2577,
   "id": "f03ba3c2",
   "metadata": {},
   "outputs": [
    {
     "data": {
      "text/plain": [
       "Prospect ID                                       0.000000\n",
       "Lead Number                                       0.000000\n",
       "Lead Origin                                       0.000000\n",
       "Lead Source                                       0.389610\n",
       "Do Not Email                                      0.000000\n",
       "Do Not Call                                       0.000000\n",
       "Converted                                         0.000000\n",
       "TotalVisits                                       1.482684\n",
       "Total Time Spent on Website                       0.000000\n",
       "Page Views Per Visit                              1.482684\n",
       "Last Activity                                     1.114719\n",
       "Country                                          26.634199\n",
       "Specialization                                   15.562771\n",
       "How did you hear about X Education               23.885281\n",
       "What is your current occupation                  29.112554\n",
       "What matters most to you in choosing a course    29.318182\n",
       "Search                                            0.000000\n",
       "Magazine                                          0.000000\n",
       "Newspaper Article                                 0.000000\n",
       "X Education Forums                                0.000000\n",
       "Newspaper                                         0.000000\n",
       "Digital Advertisement                             0.000000\n",
       "Through Recommendations                           0.000000\n",
       "Receive More Updates About Our Courses            0.000000\n",
       "Update me on Supply Chain Content                 0.000000\n",
       "Get updates on DM Content                         0.000000\n",
       "Lead Profile                                     29.318182\n",
       "City                                             15.367965\n",
       "I agree to pay the amount through cheque          0.000000\n",
       "A free copy of Mastering The Interview            0.000000\n",
       "Last Notable Activity                             0.000000\n",
       "dtype: float64"
      ]
     },
     "execution_count": 2577,
     "metadata": {},
     "output_type": "execute_result"
    }
   ],
   "source": [
    "(df.isna().sum()/len(df)*100)"
   ]
  },
  {
   "cell_type": "markdown",
   "id": "dfb127e1",
   "metadata": {},
   "source": [
    "## Analysing columns with less than 35% of Null Values"
   ]
  },
  {
   "cell_type": "raw",
   "id": "b381520d",
   "metadata": {},
   "source": [
    "temp=df['Tags'].value_counts()\n",
    "temp"
   ]
  },
  {
   "cell_type": "raw",
   "id": "7863da6b",
   "metadata": {},
   "source": [
    "a=dict()\n",
    "for i in df['Tags'].value_counts().index:\n",
    "    converts=df[df.Tags==i][\"Converted\"].sum()\n",
    "    a[i]=converts"
   ]
  },
  {
   "cell_type": "raw",
   "id": "3cc7d714",
   "metadata": {},
   "source": [
    "a"
   ]
  },
  {
   "cell_type": "raw",
   "id": "4d38ca6a",
   "metadata": {},
   "source": [
    "#Calculating the percentage of Converts for each category of Tags\n",
    "b=dict()\n",
    "for k,v in a.items():\n",
    "    x=v/temp[k]*100\n",
    "    b[k]=x"
   ]
  },
  {
   "cell_type": "raw",
   "id": "af3d5ead",
   "metadata": {},
   "source": [
    "b"
   ]
  },
  {
   "cell_type": "raw",
   "id": "3bba2dd4",
   "metadata": {},
   "source": [
    "From the above result it can be seen that the percentage of converts is only significant for the following categories of __*Tags*__ </br>\n",
    "'Will revert after reading the email', 'Closed by Horizzon', 'Lost to EINS', 'Interested in Next batch'\n",
    "The rest can be rolled up as __Na__"
   ]
  },
  {
   "cell_type": "raw",
   "id": "974c2707",
   "metadata": {},
   "source": [
    "df.replace(['Ringing','Interested in other courses',\n",
    "            'Already a student','switched off', 'Busy',\n",
    "            'Not doing further education', 'Interested  in full time MBA',\n",
    "            'Graduation in progress', 'invalid number',\n",
    "            'Diploma holder (Not Eligible)', 'wrong number given', 'opp hangup',\n",
    "            'number not provided', 'in touch with EINS', 'Lost to Others',\n",
    "            'Still Thinking', 'Want to take admission but has financial problems',\n",
    "            'In confusion whether part time or DLP', 'Interested in Next batch',\n",
    "            'Shall take in the next coming month','University not recognized',\n",
    "            'Recognition issue (DEC approval)'],np.nan,inplace=True)"
   ]
  },
  {
   "cell_type": "raw",
   "id": "ddc8dc9b",
   "metadata": {},
   "source": [
    "df['Tags'].value_counts()"
   ]
  },
  {
   "cell_type": "code",
   "execution_count": 2578,
   "id": "92df5fc5",
   "metadata": {},
   "outputs": [
    {
     "data": {
      "text/plain": [
       "Prospect ID                                       0.000000\n",
       "Lead Number                                       0.000000\n",
       "Lead Origin                                       0.000000\n",
       "Lead Source                                       0.389610\n",
       "Do Not Email                                      0.000000\n",
       "Do Not Call                                       0.000000\n",
       "Converted                                         0.000000\n",
       "TotalVisits                                       1.482684\n",
       "Total Time Spent on Website                       0.000000\n",
       "Page Views Per Visit                              1.482684\n",
       "Last Activity                                     1.114719\n",
       "Country                                          26.634199\n",
       "Specialization                                   15.562771\n",
       "How did you hear about X Education               23.885281\n",
       "What is your current occupation                  29.112554\n",
       "What matters most to you in choosing a course    29.318182\n",
       "Search                                            0.000000\n",
       "Magazine                                          0.000000\n",
       "Newspaper Article                                 0.000000\n",
       "X Education Forums                                0.000000\n",
       "Newspaper                                         0.000000\n",
       "Digital Advertisement                             0.000000\n",
       "Through Recommendations                           0.000000\n",
       "Receive More Updates About Our Courses            0.000000\n",
       "Update me on Supply Chain Content                 0.000000\n",
       "Get updates on DM Content                         0.000000\n",
       "Lead Profile                                     29.318182\n",
       "City                                             15.367965\n",
       "I agree to pay the amount through cheque          0.000000\n",
       "A free copy of Mastering The Interview            0.000000\n",
       "Last Notable Activity                             0.000000\n",
       "dtype: float64"
      ]
     },
     "execution_count": 2578,
     "metadata": {},
     "output_type": "execute_result"
    }
   ],
   "source": [
    "(df.isna().sum()/len(df)*100)"
   ]
  },
  {
   "cell_type": "code",
   "execution_count": 2579,
   "id": "d02fb035",
   "metadata": {},
   "outputs": [
    {
     "data": {
      "text/plain": [
       "Select                         4146\n",
       "Potential Lead                 1613\n",
       "Other Leads                     487\n",
       "Student of SomeSchool           241\n",
       "Lateral Student                  24\n",
       "Dual Specialization Student      20\n",
       "Name: Lead Profile, dtype: int64"
      ]
     },
     "execution_count": 2579,
     "metadata": {},
     "output_type": "execute_result"
    }
   ],
   "source": [
    "df[\"Lead Profile\"].value_counts()"
   ]
  },
  {
   "cell_type": "markdown",
   "id": "b47f68eb",
   "metadata": {},
   "source": [
    "#### Imputing \"Lead Profile\" where, currently \"Lead Profile\" is __Select__ and  __*Current Occupation*__ is Student as \"Student of SomeSchool\""
   ]
  },
  {
   "cell_type": "code",
   "execution_count": 2580,
   "id": "b78691e4",
   "metadata": {},
   "outputs": [],
   "source": [
    "df[\"Lead Profile\"]=np.where(np.logical_and(df[\"Lead Profile\"]==\"Select\", df[\"What is your current occupation\"]==\"Student\"),\"Student of SomeSchool\",df[\"Lead Profile\"])"
   ]
  },
  {
   "cell_type": "code",
   "execution_count": 2581,
   "id": "48c672e8",
   "metadata": {},
   "outputs": [
    {
     "data": {
      "text/plain": [
       "Select                         4087\n",
       "Potential Lead                 1613\n",
       "Other Leads                     487\n",
       "Student of SomeSchool           300\n",
       "Lateral Student                  24\n",
       "Dual Specialization Student      20\n",
       "Name: Lead Profile, dtype: int64"
      ]
     },
     "execution_count": 2581,
     "metadata": {},
     "output_type": "execute_result"
    }
   ],
   "source": [
    "df[\"Lead Profile\"].value_counts()"
   ]
  },
  {
   "cell_type": "markdown",
   "id": "ca16950b",
   "metadata": {},
   "source": [
    "For other values, the values in column __Lead Profile__ \"Select\" is as good as null value, thus all values of \"Select\" can be replaced by __Null__ as these are also missing values."
   ]
  },
  {
   "cell_type": "code",
   "execution_count": 2582,
   "id": "cf02e44d",
   "metadata": {},
   "outputs": [],
   "source": [
    "df[\"Lead Profile\"].replace(\"Select\",np.nan,inplace=True)"
   ]
  },
  {
   "cell_type": "code",
   "execution_count": 2583,
   "id": "b9b6a053",
   "metadata": {},
   "outputs": [
    {
     "data": {
      "text/plain": [
       "Potential Lead                 1613\n",
       "Other Leads                     487\n",
       "Student of SomeSchool           300\n",
       "Lateral Student                  24\n",
       "Dual Specialization Student      20\n",
       "Name: Lead Profile, dtype: int64"
      ]
     },
     "execution_count": 2583,
     "metadata": {},
     "output_type": "execute_result"
    }
   ],
   "source": [
    "df[\"Lead Profile\"].value_counts()"
   ]
  },
  {
   "cell_type": "code",
   "execution_count": 2584,
   "id": "4cc6865f",
   "metadata": {},
   "outputs": [
    {
     "data": {
      "text/plain": [
       "Prospect ID                                       0.000000\n",
       "Lead Number                                       0.000000\n",
       "Lead Origin                                       0.000000\n",
       "Lead Source                                       0.389610\n",
       "Do Not Email                                      0.000000\n",
       "Do Not Call                                       0.000000\n",
       "Converted                                         0.000000\n",
       "TotalVisits                                       1.482684\n",
       "Total Time Spent on Website                       0.000000\n",
       "Page Views Per Visit                              1.482684\n",
       "Last Activity                                     1.114719\n",
       "Country                                          26.634199\n",
       "Specialization                                   15.562771\n",
       "How did you hear about X Education               23.885281\n",
       "What is your current occupation                  29.112554\n",
       "What matters most to you in choosing a course    29.318182\n",
       "Search                                            0.000000\n",
       "Magazine                                          0.000000\n",
       "Newspaper Article                                 0.000000\n",
       "X Education Forums                                0.000000\n",
       "Newspaper                                         0.000000\n",
       "Digital Advertisement                             0.000000\n",
       "Through Recommendations                           0.000000\n",
       "Receive More Updates About Our Courses            0.000000\n",
       "Update me on Supply Chain Content                 0.000000\n",
       "Get updates on DM Content                         0.000000\n",
       "Lead Profile                                     73.549784\n",
       "City                                             15.367965\n",
       "I agree to pay the amount through cheque          0.000000\n",
       "A free copy of Mastering The Interview            0.000000\n",
       "Last Notable Activity                             0.000000\n",
       "dtype: float64"
      ]
     },
     "execution_count": 2584,
     "metadata": {},
     "output_type": "execute_result"
    }
   ],
   "source": [
    "df.isna().sum()/len(df)*100"
   ]
  },
  {
   "cell_type": "markdown",
   "id": "d1171ee0",
   "metadata": {},
   "source": [
    "As the percentage of Nulls in __\"Lead Profile\"__ is more than 35%, this can be dropped"
   ]
  },
  {
   "cell_type": "code",
   "execution_count": 2585,
   "id": "108ba15e",
   "metadata": {},
   "outputs": [],
   "source": [
    "df.drop(\"Lead Profile\", axis=1,inplace=True)"
   ]
  },
  {
   "cell_type": "code",
   "execution_count": 2586,
   "id": "cb1b1219",
   "metadata": {},
   "outputs": [
    {
     "data": {
      "text/plain": [
       "Better Career Prospects      6528\n",
       "Flexibility & Convenience       2\n",
       "Other                           1\n",
       "Name: What matters most to you in choosing a course, dtype: int64"
      ]
     },
     "execution_count": 2586,
     "metadata": {},
     "output_type": "execute_result"
    }
   ],
   "source": [
    "df[\"What matters most to you in choosing a course\"].value_counts()"
   ]
  },
  {
   "cell_type": "markdown",
   "id": "71c8ad12",
   "metadata": {},
   "source": [
    "For the column _\"What matters most to you in choosing a course\"_ the missing values can be safely imputed as \"Other\" instead of the conventional way of imputing the mode value, which is \"Better Career Prospects\" in this case as the question is of aspiration and ttrying to impute the value of \"Better Career Prospects\" may not be right."
   ]
  },
  {
   "cell_type": "code",
   "execution_count": 2587,
   "id": "ad1c0338",
   "metadata": {},
   "outputs": [],
   "source": [
    "df[\"What matters most to you in choosing a course\"].replace(np.nan,\"Other\",inplace=True)"
   ]
  },
  {
   "cell_type": "code",
   "execution_count": 2588,
   "id": "e7de4ee2",
   "metadata": {},
   "outputs": [
    {
     "data": {
      "text/plain": [
       "Prospect ID                                       0.000000\n",
       "Lead Number                                       0.000000\n",
       "Lead Origin                                       0.000000\n",
       "Lead Source                                       0.389610\n",
       "Do Not Email                                      0.000000\n",
       "Do Not Call                                       0.000000\n",
       "Converted                                         0.000000\n",
       "TotalVisits                                       1.482684\n",
       "Total Time Spent on Website                       0.000000\n",
       "Page Views Per Visit                              1.482684\n",
       "Last Activity                                     1.114719\n",
       "Country                                          26.634199\n",
       "Specialization                                   15.562771\n",
       "How did you hear about X Education               23.885281\n",
       "What is your current occupation                  29.112554\n",
       "What matters most to you in choosing a course     0.000000\n",
       "Search                                            0.000000\n",
       "Magazine                                          0.000000\n",
       "Newspaper Article                                 0.000000\n",
       "X Education Forums                                0.000000\n",
       "Newspaper                                         0.000000\n",
       "Digital Advertisement                             0.000000\n",
       "Through Recommendations                           0.000000\n",
       "Receive More Updates About Our Courses            0.000000\n",
       "Update me on Supply Chain Content                 0.000000\n",
       "Get updates on DM Content                         0.000000\n",
       "City                                             15.367965\n",
       "I agree to pay the amount through cheque          0.000000\n",
       "A free copy of Mastering The Interview            0.000000\n",
       "Last Notable Activity                             0.000000\n",
       "dtype: float64"
      ]
     },
     "execution_count": 2588,
     "metadata": {},
     "output_type": "execute_result"
    }
   ],
   "source": [
    "df.isna().sum()/len(df)*100"
   ]
  },
  {
   "cell_type": "code",
   "execution_count": 2589,
   "id": "581261e7",
   "metadata": {},
   "outputs": [
    {
     "data": {
      "text/plain": [
       "Unemployed              5600\n",
       "Working Professional     706\n",
       "Student                  210\n",
       "Other                     16\n",
       "Housewife                 10\n",
       "Businessman                8\n",
       "Name: What is your current occupation, dtype: int64"
      ]
     },
     "execution_count": 2589,
     "metadata": {},
     "output_type": "execute_result"
    }
   ],
   "source": [
    "df['What is your current occupation'].value_counts()"
   ]
  },
  {
   "cell_type": "markdown",
   "id": "96e18ff3",
   "metadata": {},
   "source": [
    "#### It can safely be imputed that the missing value of current occupation as \"other\""
   ]
  },
  {
   "cell_type": "code",
   "execution_count": 2590,
   "id": "305bb4c2",
   "metadata": {},
   "outputs": [],
   "source": [
    "df['What is your current occupation'].replace(np.nan,\"Other\",inplace=True)"
   ]
  },
  {
   "cell_type": "code",
   "execution_count": 2591,
   "id": "82dfe5ee",
   "metadata": {},
   "outputs": [
    {
     "data": {
      "text/plain": [
       "Unemployed              5600\n",
       "Other                   2706\n",
       "Working Professional     706\n",
       "Student                  210\n",
       "Housewife                 10\n",
       "Businessman                8\n",
       "Name: What is your current occupation, dtype: int64"
      ]
     },
     "execution_count": 2591,
     "metadata": {},
     "output_type": "execute_result"
    }
   ],
   "source": [
    "df['What is your current occupation'].value_counts()"
   ]
  },
  {
   "cell_type": "code",
   "execution_count": 2592,
   "id": "2e3f7910",
   "metadata": {},
   "outputs": [
    {
     "data": {
      "text/plain": [
       "India                   6492\n",
       "United States             69\n",
       "United Arab Emirates      53\n",
       "Singapore                 24\n",
       "Saudi Arabia              21\n",
       "United Kingdom            15\n",
       "Australia                 13\n",
       "Qatar                     10\n",
       "Hong Kong                  7\n",
       "Bahrain                    7\n",
       "Oman                       6\n",
       "France                     6\n",
       "unknown                    5\n",
       "South Africa               4\n",
       "Nigeria                    4\n",
       "Germany                    4\n",
       "Kuwait                     4\n",
       "Canada                     4\n",
       "Sweden                     3\n",
       "China                      2\n",
       "Asia/Pacific Region        2\n",
       "Uganda                     2\n",
       "Bangladesh                 2\n",
       "Italy                      2\n",
       "Belgium                    2\n",
       "Netherlands                2\n",
       "Ghana                      2\n",
       "Philippines                2\n",
       "Russia                     1\n",
       "Switzerland                1\n",
       "Vietnam                    1\n",
       "Denmark                    1\n",
       "Tanzania                   1\n",
       "Liberia                    1\n",
       "Malaysia                   1\n",
       "Kenya                      1\n",
       "Sri Lanka                  1\n",
       "Indonesia                  1\n",
       "Name: Country, dtype: int64"
      ]
     },
     "execution_count": 2592,
     "metadata": {},
     "output_type": "execute_result"
    }
   ],
   "source": [
    "df[\"Country\"].value_counts()"
   ]
  },
  {
   "cell_type": "markdown",
   "id": "1971d1ca",
   "metadata": {},
   "source": [
    "#### Though the list of countries is large, there is a predominant concentration of leads from India, US and UAE, the rest including the Nulls can be grouped under Others."
   ]
  },
  {
   "cell_type": "code",
   "execution_count": 2593,
   "id": "08de8a17",
   "metadata": {},
   "outputs": [],
   "source": [
    "df[\"Country\"]=np.where(np.logical_or(df[\"Country\"]==\"India\", df[\"Country\"]==\"United States\",df[\"Country\"]==\"United Arab Emirates\"),df[\"Country\"],\"Other\")"
   ]
  },
  {
   "cell_type": "code",
   "execution_count": 2594,
   "id": "479bc2c0",
   "metadata": {},
   "outputs": [
    {
     "name": "stderr",
     "output_type": "stream",
     "text": [
      "C:\\Users\\Yashus G\\anaconda3\\lib\\site-packages\\IPython\\core\\displayhook.py:275: UserWarning: Output cache limit (currently 1000 entries) hit.\n",
      "Flushing oldest 200 entries.\n",
      "  warn('Output cache limit (currently {sz} entries) hit.\\n'\n"
     ]
    },
    {
     "data": {
      "text/plain": [
       "India            6492\n",
       "Other            2679\n",
       "United States      69\n",
       "Name: Country, dtype: int64"
      ]
     },
     "execution_count": 2594,
     "metadata": {},
     "output_type": "execute_result"
    }
   ],
   "source": [
    "df[\"Country\"].value_counts()"
   ]
  },
  {
   "cell_type": "code",
   "execution_count": 2595,
   "id": "3a50ba3c",
   "metadata": {},
   "outputs": [
    {
     "data": {
      "text/plain": [
       "Prospect ID                                       0.000000\n",
       "Lead Number                                       0.000000\n",
       "Lead Origin                                       0.000000\n",
       "Lead Source                                       0.389610\n",
       "Do Not Email                                      0.000000\n",
       "Do Not Call                                       0.000000\n",
       "Converted                                         0.000000\n",
       "TotalVisits                                       1.482684\n",
       "Total Time Spent on Website                       0.000000\n",
       "Page Views Per Visit                              1.482684\n",
       "Last Activity                                     1.114719\n",
       "Country                                           0.000000\n",
       "Specialization                                   15.562771\n",
       "How did you hear about X Education               23.885281\n",
       "What is your current occupation                   0.000000\n",
       "What matters most to you in choosing a course     0.000000\n",
       "Search                                            0.000000\n",
       "Magazine                                          0.000000\n",
       "Newspaper Article                                 0.000000\n",
       "X Education Forums                                0.000000\n",
       "Newspaper                                         0.000000\n",
       "Digital Advertisement                             0.000000\n",
       "Through Recommendations                           0.000000\n",
       "Receive More Updates About Our Courses            0.000000\n",
       "Update me on Supply Chain Content                 0.000000\n",
       "Get updates on DM Content                         0.000000\n",
       "City                                             15.367965\n",
       "I agree to pay the amount through cheque          0.000000\n",
       "A free copy of Mastering The Interview            0.000000\n",
       "Last Notable Activity                             0.000000\n",
       "dtype: float64"
      ]
     },
     "execution_count": 2595,
     "metadata": {},
     "output_type": "execute_result"
    }
   ],
   "source": [
    "df.isna().sum()/len(df)*100"
   ]
  },
  {
   "cell_type": "code",
   "execution_count": 2596,
   "id": "cb9d967c",
   "metadata": {},
   "outputs": [
    {
     "data": {
      "text/plain": [
       "Select                   5043\n",
       "Online Search             808\n",
       "Word Of Mouth             348\n",
       "Student of SomeSchool     310\n",
       "Other                     186\n",
       "Multiple Sources          152\n",
       "Advertisements             70\n",
       "Social Media               67\n",
       "Email                      26\n",
       "SMS                        23\n",
       "Name: How did you hear about X Education, dtype: int64"
      ]
     },
     "execution_count": 2596,
     "metadata": {},
     "output_type": "execute_result"
    }
   ],
   "source": [
    "df[\"How did you hear about X Education\"].value_counts()"
   ]
  },
  {
   "cell_type": "markdown",
   "id": "d0d903b5",
   "metadata": {},
   "source": [
    "\n",
    "#### Here \"Select\" is as good as Null, Thus replacing the \"Select\" values as _Null_"
   ]
  },
  {
   "cell_type": "code",
   "execution_count": 2597,
   "id": "9ad7130b",
   "metadata": {},
   "outputs": [],
   "source": [
    "df[\"How did you hear about X Education\"].replace(\"Select\",np.nan,inplace=True)"
   ]
  },
  {
   "cell_type": "code",
   "execution_count": 2598,
   "id": "a085ea24",
   "metadata": {},
   "outputs": [
    {
     "data": {
      "text/plain": [
       "78.46320346320347"
      ]
     },
     "execution_count": 2598,
     "metadata": {},
     "output_type": "execute_result"
    }
   ],
   "source": [
    "df[\"How did you hear about X Education\"].isna().sum()/len(df)*100"
   ]
  },
  {
   "cell_type": "markdown",
   "id": "f9b61506",
   "metadata": {},
   "source": [
    "#### As the percentage of the Null values is greater than 35%, this column can be dropped"
   ]
  },
  {
   "cell_type": "code",
   "execution_count": 2599,
   "id": "45d3b7ac",
   "metadata": {},
   "outputs": [],
   "source": [
    "df.drop(\"How did you hear about X Education\",axis=1,inplace=True)"
   ]
  },
  {
   "cell_type": "code",
   "execution_count": 2600,
   "id": "b61822d1",
   "metadata": {},
   "outputs": [
    {
     "data": {
      "text/plain": [
       "Prospect ID                                       0.000000\n",
       "Lead Number                                       0.000000\n",
       "Lead Origin                                       0.000000\n",
       "Lead Source                                       0.389610\n",
       "Do Not Email                                      0.000000\n",
       "Do Not Call                                       0.000000\n",
       "Converted                                         0.000000\n",
       "TotalVisits                                       1.482684\n",
       "Total Time Spent on Website                       0.000000\n",
       "Page Views Per Visit                              1.482684\n",
       "Last Activity                                     1.114719\n",
       "Country                                           0.000000\n",
       "Specialization                                   15.562771\n",
       "What is your current occupation                   0.000000\n",
       "What matters most to you in choosing a course     0.000000\n",
       "Search                                            0.000000\n",
       "Magazine                                          0.000000\n",
       "Newspaper Article                                 0.000000\n",
       "X Education Forums                                0.000000\n",
       "Newspaper                                         0.000000\n",
       "Digital Advertisement                             0.000000\n",
       "Through Recommendations                           0.000000\n",
       "Receive More Updates About Our Courses            0.000000\n",
       "Update me on Supply Chain Content                 0.000000\n",
       "Get updates on DM Content                         0.000000\n",
       "City                                             15.367965\n",
       "I agree to pay the amount through cheque          0.000000\n",
       "A free copy of Mastering The Interview            0.000000\n",
       "Last Notable Activity                             0.000000\n",
       "dtype: float64"
      ]
     },
     "execution_count": 2600,
     "metadata": {},
     "output_type": "execute_result"
    }
   ],
   "source": [
    "df.isna().sum()/len(df)*100"
   ]
  },
  {
   "cell_type": "code",
   "execution_count": 2601,
   "id": "e2f1a5e8",
   "metadata": {},
   "outputs": [
    {
     "data": {
      "text/plain": [
       "Select                               1942\n",
       "Finance Management                    976\n",
       "Human Resource Management             848\n",
       "Marketing Management                  838\n",
       "Operations Management                 503\n",
       "Business Administration               403\n",
       "IT Projects Management                366\n",
       "Supply Chain Management               349\n",
       "Banking, Investment And Insurance     338\n",
       "Travel and Tourism                    203\n",
       "Media and Advertising                 203\n",
       "International Business                178\n",
       "Healthcare Management                 159\n",
       "Hospitality Management                114\n",
       "E-COMMERCE                            112\n",
       "Retail Management                     100\n",
       "Rural and Agribusiness                 73\n",
       "E-Business                             57\n",
       "Services Excellence                    40\n",
       "Name: Specialization, dtype: int64"
      ]
     },
     "execution_count": 2601,
     "metadata": {},
     "output_type": "execute_result"
    }
   ],
   "source": [
    "df[\"Specialization\"].value_counts()"
   ]
  },
  {
   "cell_type": "markdown",
   "id": "7d48c0b2",
   "metadata": {},
   "source": [
    "Here, \"Select\" is as good as \"Null\". Thus, replacing \"Select\" with Null"
   ]
  },
  {
   "cell_type": "code",
   "execution_count": 2602,
   "id": "4c7de4d1",
   "metadata": {},
   "outputs": [],
   "source": [
    "df[\"Specialization\"].replace(\"Select\",np.nan, inplace=True)"
   ]
  },
  {
   "cell_type": "markdown",
   "id": "65f6afb4",
   "metadata": {},
   "source": [
    "#### Here the missing values can be safely imputed as \"Unknown\""
   ]
  },
  {
   "cell_type": "code",
   "execution_count": 2603,
   "id": "4a52f3f5",
   "metadata": {},
   "outputs": [],
   "source": [
    "df[\"Specialization\"].replace(np.nan,\"Unknown\", inplace=True)"
   ]
  },
  {
   "cell_type": "code",
   "execution_count": 2604,
   "id": "020f3839",
   "metadata": {},
   "outputs": [
    {
     "data": {
      "text/plain": [
       "Prospect ID                                       0.000000\n",
       "Lead Number                                       0.000000\n",
       "Lead Origin                                       0.000000\n",
       "Lead Source                                       0.389610\n",
       "Do Not Email                                      0.000000\n",
       "Do Not Call                                       0.000000\n",
       "Converted                                         0.000000\n",
       "TotalVisits                                       1.482684\n",
       "Total Time Spent on Website                       0.000000\n",
       "Page Views Per Visit                              1.482684\n",
       "Last Activity                                     1.114719\n",
       "Country                                           0.000000\n",
       "Specialization                                    0.000000\n",
       "What is your current occupation                   0.000000\n",
       "What matters most to you in choosing a course     0.000000\n",
       "Search                                            0.000000\n",
       "Magazine                                          0.000000\n",
       "Newspaper Article                                 0.000000\n",
       "X Education Forums                                0.000000\n",
       "Newspaper                                         0.000000\n",
       "Digital Advertisement                             0.000000\n",
       "Through Recommendations                           0.000000\n",
       "Receive More Updates About Our Courses            0.000000\n",
       "Update me on Supply Chain Content                 0.000000\n",
       "Get updates on DM Content                         0.000000\n",
       "City                                             15.367965\n",
       "I agree to pay the amount through cheque          0.000000\n",
       "A free copy of Mastering The Interview            0.000000\n",
       "Last Notable Activity                             0.000000\n",
       "dtype: float64"
      ]
     },
     "execution_count": 2604,
     "metadata": {},
     "output_type": "execute_result"
    }
   ],
   "source": [
    "df.isna().sum()/len(df)*100"
   ]
  },
  {
   "cell_type": "code",
   "execution_count": 2605,
   "id": "b2c7e790",
   "metadata": {},
   "outputs": [
    {
     "data": {
      "text/plain": [
       "Mumbai                         3222\n",
       "Select                         2249\n",
       "Thane & Outskirts               752\n",
       "Other Cities                    686\n",
       "Other Cities of Maharashtra     457\n",
       "Other Metro Cities              380\n",
       "Tier II Cities                   74\n",
       "Name: City, dtype: int64"
      ]
     },
     "execution_count": 2605,
     "metadata": {},
     "output_type": "execute_result"
    }
   ],
   "source": [
    "df[\"City\"].value_counts()"
   ]
  },
  {
   "cell_type": "markdown",
   "id": "cf4db1f3",
   "metadata": {},
   "source": [
    "Here, \"Select\" is as good as \"Null\". Thus, replacing \"Select\" with Null"
   ]
  },
  {
   "cell_type": "code",
   "execution_count": 2606,
   "id": "32af4723",
   "metadata": {},
   "outputs": [],
   "source": [
    "df[\"City\"].replace(\"Select\",np.nan,inplace=True)"
   ]
  },
  {
   "cell_type": "code",
   "execution_count": 2607,
   "id": "882e6f1a",
   "metadata": {},
   "outputs": [
    {
     "data": {
      "text/plain": [
       "39.70779220779221"
      ]
     },
     "execution_count": 2607,
     "metadata": {},
     "output_type": "execute_result"
    }
   ],
   "source": [
    "df[\"City\"].isna().sum()/len(df)*100"
   ]
  },
  {
   "cell_type": "markdown",
   "id": "30bc903e",
   "metadata": {},
   "source": [
    "#### From the above output it can be seen that the null values contribute almost 10% of the values, also the predominant leads seem to be from Mumbai, thus this column can be safely dropped."
   ]
  },
  {
   "cell_type": "code",
   "execution_count": 2608,
   "id": "e7796cdd",
   "metadata": {},
   "outputs": [],
   "source": [
    "df.drop(\"City\",axis=1, inplace=True)"
   ]
  },
  {
   "cell_type": "code",
   "execution_count": 2609,
   "id": "172764b1",
   "metadata": {},
   "outputs": [
    {
     "data": {
      "text/plain": [
       "Prospect ID                                      0.000000\n",
       "Lead Number                                      0.000000\n",
       "Lead Origin                                      0.000000\n",
       "Lead Source                                      0.389610\n",
       "Do Not Email                                     0.000000\n",
       "Do Not Call                                      0.000000\n",
       "Converted                                        0.000000\n",
       "TotalVisits                                      1.482684\n",
       "Total Time Spent on Website                      0.000000\n",
       "Page Views Per Visit                             1.482684\n",
       "Last Activity                                    1.114719\n",
       "Country                                          0.000000\n",
       "Specialization                                   0.000000\n",
       "What is your current occupation                  0.000000\n",
       "What matters most to you in choosing a course    0.000000\n",
       "Search                                           0.000000\n",
       "Magazine                                         0.000000\n",
       "Newspaper Article                                0.000000\n",
       "X Education Forums                               0.000000\n",
       "Newspaper                                        0.000000\n",
       "Digital Advertisement                            0.000000\n",
       "Through Recommendations                          0.000000\n",
       "Receive More Updates About Our Courses           0.000000\n",
       "Update me on Supply Chain Content                0.000000\n",
       "Get updates on DM Content                        0.000000\n",
       "I agree to pay the amount through cheque         0.000000\n",
       "A free copy of Mastering The Interview           0.000000\n",
       "Last Notable Activity                            0.000000\n",
       "dtype: float64"
      ]
     },
     "execution_count": 2609,
     "metadata": {},
     "output_type": "execute_result"
    }
   ],
   "source": [
    "df.isna().sum()/len(df)*100"
   ]
  },
  {
   "cell_type": "code",
   "execution_count": 2610,
   "id": "2b2c6984",
   "metadata": {},
   "outputs": [
    {
     "data": {
      "text/plain": [
       "Email Opened                    3437\n",
       "SMS Sent                        2745\n",
       "Olark Chat Conversation          973\n",
       "Page Visited on Website          640\n",
       "Converted to Lead                428\n",
       "Email Bounced                    326\n",
       "Email Link Clicked               267\n",
       "Form Submitted on Website        116\n",
       "Unreachable                       93\n",
       "Unsubscribed                      61\n",
       "Had a Phone Conversation          30\n",
       "Approached upfront                 9\n",
       "View in browser link Clicked       6\n",
       "Email Received                     2\n",
       "Email Marked Spam                  2\n",
       "Visited Booth in Tradeshow         1\n",
       "Resubscribed to emails             1\n",
       "Name: Last Activity, dtype: int64"
      ]
     },
     "execution_count": 2610,
     "metadata": {},
     "output_type": "execute_result"
    }
   ],
   "source": [
    "df[\"Last Activity\"].value_counts()"
   ]
  },
  {
   "cell_type": "markdown",
   "id": "7ce0338c",
   "metadata": {},
   "source": [
    "#### As the percentage of data points with Last activity as null is very low these can be dropped instead of imputing"
   ]
  },
  {
   "cell_type": "code",
   "execution_count": 2611,
   "id": "38a05a7d",
   "metadata": {},
   "outputs": [],
   "source": [
    "df3=df.dropna()"
   ]
  },
  {
   "cell_type": "code",
   "execution_count": 2612,
   "id": "b2c49a82",
   "metadata": {},
   "outputs": [
    {
     "data": {
      "text/plain": [
       "Prospect ID                                      0.0\n",
       "Lead Number                                      0.0\n",
       "Lead Origin                                      0.0\n",
       "Lead Source                                      0.0\n",
       "Do Not Email                                     0.0\n",
       "Do Not Call                                      0.0\n",
       "Converted                                        0.0\n",
       "TotalVisits                                      0.0\n",
       "Total Time Spent on Website                      0.0\n",
       "Page Views Per Visit                             0.0\n",
       "Last Activity                                    0.0\n",
       "Country                                          0.0\n",
       "Specialization                                   0.0\n",
       "What is your current occupation                  0.0\n",
       "What matters most to you in choosing a course    0.0\n",
       "Search                                           0.0\n",
       "Magazine                                         0.0\n",
       "Newspaper Article                                0.0\n",
       "X Education Forums                               0.0\n",
       "Newspaper                                        0.0\n",
       "Digital Advertisement                            0.0\n",
       "Through Recommendations                          0.0\n",
       "Receive More Updates About Our Courses           0.0\n",
       "Update me on Supply Chain Content                0.0\n",
       "Get updates on DM Content                        0.0\n",
       "I agree to pay the amount through cheque         0.0\n",
       "A free copy of Mastering The Interview           0.0\n",
       "Last Notable Activity                            0.0\n",
       "dtype: float64"
      ]
     },
     "execution_count": 2612,
     "metadata": {},
     "output_type": "execute_result"
    }
   ],
   "source": [
    "df3.isna().sum()/len(df)*100"
   ]
  },
  {
   "cell_type": "markdown",
   "id": "7bf62ee5",
   "metadata": {},
   "source": [
    "#### Thus, all null values are taken care of and we are left with 28 columns"
   ]
  },
  {
   "cell_type": "code",
   "execution_count": 2613,
   "id": "4cde075a",
   "metadata": {},
   "outputs": [
    {
     "data": {
      "text/plain": [
       "(9074, 28)"
      ]
     },
     "execution_count": 2613,
     "metadata": {},
     "output_type": "execute_result"
    }
   ],
   "source": [
    "df3.shape"
   ]
  },
  {
   "cell_type": "markdown",
   "id": "03fd737e",
   "metadata": {},
   "source": [
    "## Exploratory Data Analysis(EDA)"
   ]
  },
  {
   "cell_type": "code",
   "execution_count": 2614,
   "id": "b65b64bc",
   "metadata": {},
   "outputs": [
    {
     "name": "stdout",
     "output_type": "stream",
     "text": [
      "<class 'pandas.core.frame.DataFrame'>\n",
      "Int64Index: 9074 entries, 0 to 9239\n",
      "Data columns (total 28 columns):\n",
      " #   Column                                         Non-Null Count  Dtype  \n",
      "---  ------                                         --------------  -----  \n",
      " 0   Prospect ID                                    9074 non-null   object \n",
      " 1   Lead Number                                    9074 non-null   int64  \n",
      " 2   Lead Origin                                    9074 non-null   object \n",
      " 3   Lead Source                                    9074 non-null   object \n",
      " 4   Do Not Email                                   9074 non-null   object \n",
      " 5   Do Not Call                                    9074 non-null   object \n",
      " 6   Converted                                      9074 non-null   int64  \n",
      " 7   TotalVisits                                    9074 non-null   float64\n",
      " 8   Total Time Spent on Website                    9074 non-null   int64  \n",
      " 9   Page Views Per Visit                           9074 non-null   float64\n",
      " 10  Last Activity                                  9074 non-null   object \n",
      " 11  Country                                        9074 non-null   object \n",
      " 12  Specialization                                 9074 non-null   object \n",
      " 13  What is your current occupation                9074 non-null   object \n",
      " 14  What matters most to you in choosing a course  9074 non-null   object \n",
      " 15  Search                                         9074 non-null   object \n",
      " 16  Magazine                                       9074 non-null   object \n",
      " 17  Newspaper Article                              9074 non-null   object \n",
      " 18  X Education Forums                             9074 non-null   object \n",
      " 19  Newspaper                                      9074 non-null   object \n",
      " 20  Digital Advertisement                          9074 non-null   object \n",
      " 21  Through Recommendations                        9074 non-null   object \n",
      " 22  Receive More Updates About Our Courses         9074 non-null   object \n",
      " 23  Update me on Supply Chain Content              9074 non-null   object \n",
      " 24  Get updates on DM Content                      9074 non-null   object \n",
      " 25  I agree to pay the amount through cheque       9074 non-null   object \n",
      " 26  A free copy of Mastering The Interview         9074 non-null   object \n",
      " 27  Last Notable Activity                          9074 non-null   object \n",
      "dtypes: float64(2), int64(3), object(23)\n",
      "memory usage: 2.0+ MB\n"
     ]
    }
   ],
   "source": [
    "df3.info()"
   ]
  },
  {
   "cell_type": "code",
   "execution_count": 2615,
   "id": "992990de",
   "metadata": {},
   "outputs": [
    {
     "data": {
      "text/plain": [
       "Landing Page Submission    4885\n",
       "API                        3578\n",
       "Lead Add Form               581\n",
       "Lead Import                  30\n",
       "Name: Lead Origin, dtype: int64"
      ]
     },
     "execution_count": 2615,
     "metadata": {},
     "output_type": "execute_result"
    }
   ],
   "source": [
    "df3[\"Lead Origin\"].value_counts()"
   ]
  },
  {
   "cell_type": "code",
   "execution_count": 2616,
   "id": "622302f0",
   "metadata": {},
   "outputs": [
    {
     "data": {
      "image/png": "[encoded data removed]",
      "text/plain": [
       "<Figure size 432x288 with 1 Axes>"
      ]
     },
     "metadata": {
      "needs_background": "light"
     },
     "output_type": "display_data"
    }
   ],
   "source": [
    "(df3[\"Lead Origin\"].value_counts()/len(df3)*100).sort_values().plot(kind=\"bar\")\n",
    "plt.title(\"Percentage of Leads and their source of origin\")\n",
    "plt.xlabel(\"Origin of Lead\")\n",
    "plt.ylabel(\"Percentage\")\n",
    "plt.show()"
   ]
  },
  {
   "cell_type": "markdown",
   "id": "c403d4b3",
   "metadata": {},
   "source": [
    "#### From the above plot, it can be seen that a majority of the leads originate from Landing Page Submission(>50%), this is followed by API(~40%)"
   ]
  },
  {
   "cell_type": "code",
   "execution_count": 2617,
   "id": "381d3319",
   "metadata": {},
   "outputs": [
    {
     "data": {
      "image/png": "[encoded data removed]",
      "text/plain": [
       "<Figure size 432x288 with 1 Axes>"
      ]
     },
     "metadata": {
      "needs_background": "light"
     },
     "output_type": "display_data"
    }
   ],
   "source": [
    "(df3[\"Lead Source\"].value_counts()/len(df3)*100).sort_values().plot(kind=\"bar\")\n",
    "plt.title(\"Percentage of Leads and their source\")\n",
    "plt.xlabel(\"Lead Source\")\n",
    "plt.ylabel(\"Percentage\")\n",
    "plt.show()"
   ]
  },
  {
   "cell_type": "markdown",
   "id": "ebeaaf8e",
   "metadata": {},
   "source": [
    "#### From the above plot it can be seen that a majority of the leads are from Google and Direct Traffic. Thus these can be considered as important sources for marketing strategy decisions"
   ]
  },
  {
   "cell_type": "code",
   "execution_count": 2618,
   "id": "1a0ec25d",
   "metadata": {},
   "outputs": [
    {
     "data": {
      "text/plain": [
       "No     8358\n",
       "Yes     716\n",
       "Name: Do Not Email, dtype: int64"
      ]
     },
     "execution_count": 2618,
     "metadata": {},
     "output_type": "execute_result"
    }
   ],
   "source": [
    "df3[\"Do Not Email\"].value_counts()"
   ]
  },
  {
   "cell_type": "code",
   "execution_count": 2619,
   "id": "a99ff879",
   "metadata": {},
   "outputs": [
    {
     "data": {
      "text/plain": [
       "No     9072\n",
       "Yes       2\n",
       "Name: Do Not Call, dtype: int64"
      ]
     },
     "execution_count": 2619,
     "metadata": {},
     "output_type": "execute_result"
    }
   ],
   "source": [
    "df3[\"Do Not Call\"].value_counts()"
   ]
  },
  {
   "cell_type": "markdown",
   "id": "73db7a0e",
   "metadata": {},
   "source": [
    "#### From the above values it can be seen that a majority of the Leads prefer to be called compared to being emailed. Thus it can be inferred that calling can be considered as a prefered medium in sales for Lead Nurturing compared to emails"
   ]
  },
  {
   "cell_type": "code",
   "execution_count": 2620,
   "id": "4fd14e5f",
   "metadata": {},
   "outputs": [
    {
     "name": "stderr",
     "output_type": "stream",
     "text": [
      "C:\\Users\\Yashus G\\anaconda3\\lib\\site-packages\\seaborn\\_decorators.py:36: FutureWarning: Pass the following variable as a keyword arg: x. From version 0.12, the only valid positional argument will be `data`, and passing other arguments without an explicit keyword will result in an error or misinterpretation.\n",
      "  warnings.warn(\n"
     ]
    },
    {
     "data": {
      "text/plain": [
       "<AxesSubplot:xlabel='TotalVisits'>"
      ]
     },
     "execution_count": 2620,
     "metadata": {},
     "output_type": "execute_result"
    },
    {
     "data": {
      "image/png": "[encoded data removed]",
      "text/plain": [
       "<Figure size 432x288 with 1 Axes>"
      ]
     },
     "metadata": {
      "needs_background": "light"
     },
     "output_type": "display_data"
    }
   ],
   "source": [
    "sns.boxplot(df3[\"TotalVisits\"])"
   ]
  },
  {
   "cell_type": "markdown",
   "id": "6b9df423",
   "metadata": {},
   "source": [
    "#### From the above boxplot it can be seen that Values greater than 100 can be considerd as outliers and can be removed as these high number of visits can be considered as outliers(only 3 values out of more than 9000 data points)"
   ]
  },
  {
   "cell_type": "code",
   "execution_count": 2621,
   "id": "2983b508",
   "metadata": {},
   "outputs": [],
   "source": [
    "df3=df3[df3[\"TotalVisits\"]<100]"
   ]
  },
  {
   "cell_type": "code",
   "execution_count": 2622,
   "id": "2465d9b3",
   "metadata": {},
   "outputs": [
    {
     "data": {
      "text/plain": [
       "<AxesSubplot:xlabel='Converted', ylabel='TotalVisits'>"
      ]
     },
     "execution_count": 2622,
     "metadata": {},
     "output_type": "execute_result"
    },
    {
     "data": {
      "image/png": "[encoded data removed]",
      "text/plain": [
       "<Figure size 432x288 with 1 Axes>"
      ]
     },
     "metadata": {
      "needs_background": "light"
     },
     "output_type": "display_data"
    }
   ],
   "source": [
    "sns.boxplot(y=\"TotalVisits\", x=\"Converted\", data=df3)"
   ]
  },
  {
   "cell_type": "markdown",
   "id": "fb465fc3",
   "metadata": {},
   "source": [
    "#### From the Above plot it can be seen that on an average, more number of visits implies a higher tendency for conversion.\n",
    "#### But it should also be noted that as the number visits crosses 20, the tendency for Lead conversion decreases"
   ]
  },
  {
   "cell_type": "code",
   "execution_count": 2623,
   "id": "04bb0eb0",
   "metadata": {},
   "outputs": [
    {
     "data": {
      "text/plain": [
       "<AxesSubplot:>"
      ]
     },
     "execution_count": 2623,
     "metadata": {},
     "output_type": "execute_result"
    },
    {
     "data": {
      "image/png": "[encoded data removed]",
      "text/plain": [
       "<Figure size 432x288 with 1 Axes>"
      ]
     },
     "metadata": {
      "needs_background": "light"
     },
     "output_type": "display_data"
    }
   ],
   "source": [
    "df3[\"Total Time Spent on Website\"].hist(bins=5)"
   ]
  },
  {
   "cell_type": "code",
   "execution_count": 2624,
   "id": "6af0f5b3",
   "metadata": {},
   "outputs": [
    {
     "data": {
      "text/plain": [
       "<AxesSubplot:xlabel='Converted', ylabel='Total Time Spent on Website'>"
      ]
     },
     "execution_count": 2624,
     "metadata": {},
     "output_type": "execute_result"
    },
    {
     "data": {
      "image/png": "[encoded data removed]",
      "text/plain": [
       "<Figure size 432x288 with 1 Axes>"
      ]
     },
     "metadata": {
      "needs_background": "light"
     },
     "output_type": "display_data"
    }
   ],
   "source": [
    "sns.boxplot(y=\"Total Time Spent on Website\", x=\"Converted\", data=df3)"
   ]
  },
  {
   "cell_type": "markdown",
   "id": "569e87c6",
   "metadata": {},
   "source": [
    "#### From the above box plot it can be clearly seen that a higher time spent on the website leads to a higher chance of successful conversion. Which is also inline with intuitive understanding."
   ]
  },
  {
   "cell_type": "code",
   "execution_count": 2625,
   "id": "c0ad00f6",
   "metadata": {},
   "outputs": [
    {
     "data": {
      "text/plain": [
       "<AxesSubplot:xlabel='Converted', ylabel='Page Views Per Visit'>"
      ]
     },
     "execution_count": 2625,
     "metadata": {},
     "output_type": "execute_result"
    },
    {
     "data": {
      "image/png": "[encoded data removed]",
      "text/plain": [
       "<Figure size 432x288 with 1 Axes>"
      ]
     },
     "metadata": {
      "needs_background": "light"
     },
     "output_type": "display_data"
    }
   ],
   "source": [
    "sns.boxplot(y=\"Page Views Per Visit\", x=\"Converted\", data=df3)"
   ]
  },
  {
   "cell_type": "code",
   "execution_count": 2626,
   "id": "f0dd10c7",
   "metadata": {},
   "outputs": [
    {
     "data": {
      "text/plain": [
       "<AxesSubplot:xlabel='Converted', ylabel='Page Views Per Visit'>"
      ]
     },
     "execution_count": 2626,
     "metadata": {},
     "output_type": "execute_result"
    },
    {
     "data": {
      "image/png": "[encoded data removed]",
      "text/plain": [
       "<Figure size 432x288 with 1 Axes>"
      ]
     },
     "metadata": {
      "needs_background": "light"
     },
     "output_type": "display_data"
    }
   ],
   "source": [
    "df4=df3[df3[\"Page Views Per Visit\"]<20]\n",
    "sns.boxplot(y=\"Page Views Per Visit\", x=\"Converted\", data=df4)"
   ]
  },
  {
   "cell_type": "markdown",
   "id": "9d60f662",
   "metadata": {},
   "source": [
    "#### From the above plot, it can be seen that there is no major difference in the number of pages viewed per visit between successful and unsuccessful leads. Thus there should be a focus on improving quality of information provided per page rather than just increasing the number of pages. Focusing on Concise communication of information compared to Quantity of information."
   ]
  },
  {
   "cell_type": "code",
   "execution_count": 2627,
   "id": "ef9958bc",
   "metadata": {},
   "outputs": [
    {
     "data": {
      "text/plain": [
       "<AxesSubplot:ylabel='Last Activity'>"
      ]
     },
     "execution_count": 2627,
     "metadata": {},
     "output_type": "execute_result"
    },
    {
     "data": {
      "image/png": "[encoded data removed]",
      "text/plain": [
       "<Figure size 432x288 with 1 Axes>"
      ]
     },
     "metadata": {
      "needs_background": "light"
     },
     "output_type": "display_data"
    }
   ],
   "source": [
    "df3.groupby(\"Last Activity\")[\"Converted\"].sum().sort_values().plot(kind=\"barh\")"
   ]
  },
  {
   "cell_type": "markdown",
   "id": "0f84542e",
   "metadata": {},
   "source": [
    "#### From the above plot, it can be seen that sending SMS and emails are better ways to achieve lead conversion. Which indicates that the sale of courses happens as a \"Push marketing\" rather than \"Pull Marketing\"."
   ]
  },
  {
   "cell_type": "code",
   "execution_count": 2628,
   "id": "a3bec5dd",
   "metadata": {},
   "outputs": [
    {
     "data": {
      "text/plain": [
       "<AxesSubplot:>"
      ]
     },
     "execution_count": 2628,
     "metadata": {},
     "output_type": "execute_result"
    },
    {
     "data": {
      "image/png": "[encoded data removed]",
      "text/plain": [
       "<Figure size 432x288 with 1 Axes>"
      ]
     },
     "metadata": {
      "needs_background": "light"
     },
     "output_type": "display_data"
    }
   ],
   "source": [
    "df3[\"What is your current occupation\"].value_counts().plot(kind=\"barh\")"
   ]
  },
  {
   "cell_type": "markdown",
   "id": "83a0c298",
   "metadata": {},
   "source": [
    "#### From the above plot it can be seen that People who are currently unemployed contibute to higher number of leads for the business. This information can be used to target potential learners and also in designing of courses to meet the requirements of the respective customer segment."
   ]
  },
  {
   "cell_type": "code",
   "execution_count": 2629,
   "id": "388c1c2d",
   "metadata": {},
   "outputs": [
    {
     "name": "stdout",
     "output_type": "stream",
     "text": [
      "<class 'pandas.core.frame.DataFrame'>\n",
      "Int64Index: 9071 entries, 0 to 9239\n",
      "Data columns (total 28 columns):\n",
      " #   Column                                         Non-Null Count  Dtype  \n",
      "---  ------                                         --------------  -----  \n",
      " 0   Prospect ID                                    9071 non-null   object \n",
      " 1   Lead Number                                    9071 non-null   int64  \n",
      " 2   Lead Origin                                    9071 non-null   object \n",
      " 3   Lead Source                                    9071 non-null   object \n",
      " 4   Do Not Email                                   9071 non-null   object \n",
      " 5   Do Not Call                                    9071 non-null   object \n",
      " 6   Converted                                      9071 non-null   int64  \n",
      " 7   TotalVisits                                    9071 non-null   float64\n",
      " 8   Total Time Spent on Website                    9071 non-null   int64  \n",
      " 9   Page Views Per Visit                           9071 non-null   float64\n",
      " 10  Last Activity                                  9071 non-null   object \n",
      " 11  Country                                        9071 non-null   object \n",
      " 12  Specialization                                 9071 non-null   object \n",
      " 13  What is your current occupation                9071 non-null   object \n",
      " 14  What matters most to you in choosing a course  9071 non-null   object \n",
      " 15  Search                                         9071 non-null   object \n",
      " 16  Magazine                                       9071 non-null   object \n",
      " 17  Newspaper Article                              9071 non-null   object \n",
      " 18  X Education Forums                             9071 non-null   object \n",
      " 19  Newspaper                                      9071 non-null   object \n",
      " 20  Digital Advertisement                          9071 non-null   object \n",
      " 21  Through Recommendations                        9071 non-null   object \n",
      " 22  Receive More Updates About Our Courses         9071 non-null   object \n",
      " 23  Update me on Supply Chain Content              9071 non-null   object \n",
      " 24  Get updates on DM Content                      9071 non-null   object \n",
      " 25  I agree to pay the amount through cheque       9071 non-null   object \n",
      " 26  A free copy of Mastering The Interview         9071 non-null   object \n",
      " 27  Last Notable Activity                          9071 non-null   object \n",
      "dtypes: float64(2), int64(3), object(23)\n",
      "memory usage: 2.0+ MB\n"
     ]
    }
   ],
   "source": [
    "df3.info()"
   ]
  },
  {
   "cell_type": "code",
   "execution_count": 2630,
   "id": "61b1dc54",
   "metadata": {},
   "outputs": [
    {
     "data": {
      "text/plain": [
       "<AxesSubplot:>"
      ]
     },
     "execution_count": 2630,
     "metadata": {},
     "output_type": "execute_result"
    },
    {
     "data": {
      "image/png": "[encoded data removed]",
      "text/plain": [
       "<Figure size 432x288 with 2 Axes>"
      ]
     },
     "metadata": {
      "needs_background": "light"
     },
     "output_type": "display_data"
    }
   ],
   "source": [
    "numeric_var=[\"TotalVisits\",\"Total Time Spent on Website\",\"Page Views Per Visit\"]\n",
    "\n",
    "sns.heatmap(df3[numeric_var].corr(), annot=True)"
   ]
  },
  {
   "cell_type": "markdown",
   "id": "e02864d9",
   "metadata": {},
   "source": [
    "#### From the above heat map it can be seen that there is a noticable positive correlation, between \"TotalVisits\" and \"Page Views per Visit\"."
   ]
  },
  {
   "cell_type": "markdown",
   "id": "490b02e3",
   "metadata": {},
   "source": [
    "## Data preparation for Modelling"
   ]
  },
  {
   "cell_type": "code",
   "execution_count": 2631,
   "id": "86a3a784",
   "metadata": {},
   "outputs": [],
   "source": [
    "df4=df3.copy() #Creating a copy as a backup of the dataset"
   ]
  },
  {
   "cell_type": "code",
   "execution_count": 2632,
   "id": "bbe8d112",
   "metadata": {},
   "outputs": [
    {
     "name": "stdout",
     "output_type": "stream",
     "text": [
      "<class 'pandas.core.frame.DataFrame'>\n",
      "Int64Index: 9071 entries, 0 to 9239\n",
      "Data columns (total 28 columns):\n",
      " #   Column                                         Non-Null Count  Dtype  \n",
      "---  ------                                         --------------  -----  \n",
      " 0   Prospect ID                                    9071 non-null   object \n",
      " 1   Lead Number                                    9071 non-null   int64  \n",
      " 2   Lead Origin                                    9071 non-null   object \n",
      " 3   Lead Source                                    9071 non-null   object \n",
      " 4   Do Not Email                                   9071 non-null   object \n",
      " 5   Do Not Call                                    9071 non-null   object \n",
      " 6   Converted                                      9071 non-null   int64  \n",
      " 7   TotalVisits                                    9071 non-null   float64\n",
      " 8   Total Time Spent on Website                    9071 non-null   int64  \n",
      " 9   Page Views Per Visit                           9071 non-null   float64\n",
      " 10  Last Activity                                  9071 non-null   object \n",
      " 11  Country                                        9071 non-null   object \n",
      " 12  Specialization                                 9071 non-null   object \n",
      " 13  What is your current occupation                9071 non-null   object \n",
      " 14  What matters most to you in choosing a course  9071 non-null   object \n",
      " 15  Search                                         9071 non-null   object \n",
      " 16  Magazine                                       9071 non-null   object \n",
      " 17  Newspaper Article                              9071 non-null   object \n",
      " 18  X Education Forums                             9071 non-null   object \n",
      " 19  Newspaper                                      9071 non-null   object \n",
      " 20  Digital Advertisement                          9071 non-null   object \n",
      " 21  Through Recommendations                        9071 non-null   object \n",
      " 22  Receive More Updates About Our Courses         9071 non-null   object \n",
      " 23  Update me on Supply Chain Content              9071 non-null   object \n",
      " 24  Get updates on DM Content                      9071 non-null   object \n",
      " 25  I agree to pay the amount through cheque       9071 non-null   object \n",
      " 26  A free copy of Mastering The Interview         9071 non-null   object \n",
      " 27  Last Notable Activity                          9071 non-null   object \n",
      "dtypes: float64(2), int64(3), object(23)\n",
      "memory usage: 2.0+ MB\n"
     ]
    }
   ],
   "source": [
    "df3.info()"
   ]
  },
  {
   "cell_type": "markdown",
   "id": "243156f3",
   "metadata": {},
   "source": [
    "### Creating dummies for categorical columns"
   ]
  },
  {
   "cell_type": "code",
   "execution_count": 2633,
   "id": "b42d68dc",
   "metadata": {},
   "outputs": [],
   "source": [
    "#df3=df4.copy()"
   ]
  },
  {
   "cell_type": "code",
   "execution_count": 2634,
   "id": "67f34ece",
   "metadata": {},
   "outputs": [],
   "source": [
    "temp_df=pd.get_dummies(df3[\"Lead Origin\"],prefix=\"LeadOrigin\", drop_first=True)\n",
    "df3=pd.concat([df3,temp_df],axis=1) #Creating dummies for categorical column\n",
    "df3.drop(\"Lead Origin\", axis=1,inplace=True) #Dropping the Original Lead Origin column after creating dummies"
   ]
  },
  {
   "cell_type": "code",
   "execution_count": 2635,
   "id": "0c1e89fd",
   "metadata": {},
   "outputs": [],
   "source": [
    "temp_df=pd.get_dummies(df3[\"Lead Source\"],prefix=\"LeadSource\", drop_first=True)\n",
    "df3=pd.concat([df3,temp_df],axis=1) #Creating dummies for categorical column\n",
    "df3.drop(\"Lead Source\", axis=1,inplace=True) #Dropping the Original Lead Source column after creating dummies"
   ]
  },
  {
   "cell_type": "code",
   "execution_count": 2636,
   "id": "0900a9f3",
   "metadata": {},
   "outputs": [],
   "source": [
    "df3[\"Do Not Email\"]=df3[\"Do Not Email\"].apply(lambda x: 1 if x==\"Yes\" else 0) #Replacing Binary vlaues with 0 OR 1. Yes:1 while No:0"
   ]
  },
  {
   "cell_type": "code",
   "execution_count": 2637,
   "id": "2d255f09",
   "metadata": {},
   "outputs": [],
   "source": [
    "df3[\"Do Not Call\"]=df3[\"Do Not Call\"].apply(lambda x: 1 if x==\"Yes\" else 0) #Replacing Binary vlaues with 0 OR 1. Yes:1 while No:0"
   ]
  },
  {
   "cell_type": "code",
   "execution_count": 2638,
   "id": "0fce369a",
   "metadata": {},
   "outputs": [],
   "source": [
    "temp_df=pd.get_dummies(df3[\"Last Activity\"],prefix=\"LastActivity\", drop_first=True)\n",
    "df3=pd.concat([df3,temp_df],axis=1) #Creating dummies for categorical column\n",
    "df3.drop(\"Last Activity\", axis=1,inplace=True) #Dropping the Original Last Activity column after creating dummies"
   ]
  },
  {
   "cell_type": "code",
   "execution_count": 2639,
   "id": "7f96698d",
   "metadata": {},
   "outputs": [
    {
     "data": {
      "text/plain": [
       "India            6488\n",
       "Other            2514\n",
       "United States      69\n",
       "Name: Country, dtype: int64"
      ]
     },
     "execution_count": 2639,
     "metadata": {},
     "output_type": "execute_result"
    }
   ],
   "source": [
    "df3[\"Country\"].value_counts()"
   ]
  },
  {
   "cell_type": "code",
   "execution_count": 2640,
   "id": "4461be5c",
   "metadata": {},
   "outputs": [],
   "source": [
    "temp_df=pd.get_dummies(df3[\"Country\"],prefix=\"Country\", drop_first=True) #The same logic can be applied here to create dummies\n",
    "df3=pd.concat([df3,temp_df],axis=1) #Creating dummies for categorical column\n",
    "df3.drop(\"Country\", axis=1,inplace=True) #Dropping the Original Country column after creating dummies"
   ]
  },
  {
   "cell_type": "code",
   "execution_count": 2641,
   "id": "174ed083",
   "metadata": {},
   "outputs": [
    {
     "data": {
      "text/plain": [
       "Unknown                              3282\n",
       "Finance Management                    959\n",
       "Human Resource Management             836\n",
       "Marketing Management                  823\n",
       "Operations Management                 499\n",
       "Business Administration               399\n",
       "IT Projects Management                366\n",
       "Supply Chain Management               345\n",
       "Banking, Investment And Insurance     335\n",
       "Travel and Tourism                    202\n",
       "Media and Advertising                 202\n",
       "International Business                176\n",
       "Healthcare Management                 156\n",
       "E-COMMERCE                            111\n",
       "Hospitality Management                111\n",
       "Retail Management                     100\n",
       "Rural and Agribusiness                 72\n",
       "E-Business                             57\n",
       "Services Excellence                    40\n",
       "Name: Specialization, dtype: int64"
      ]
     },
     "execution_count": 2641,
     "metadata": {},
     "output_type": "execute_result"
    }
   ],
   "source": [
    "df3[\"Specialization\"].value_counts()"
   ]
  },
  {
   "cell_type": "code",
   "execution_count": 2642,
   "id": "4d90842c",
   "metadata": {},
   "outputs": [],
   "source": [
    "temp_df=pd.get_dummies(df3[\"Specialization\"],prefix=\"Specialization\", drop_first=True) #The same logic can be applied here to create dummies\n",
    "df3=pd.concat([df3,temp_df],axis=1) #Creating dummies for categorical column\n",
    "df3.drop(\"Specialization\", axis=1,inplace=True) #Dropping the Original Specialization column after creating dummies"
   ]
  },
  {
   "cell_type": "code",
   "execution_count": 2643,
   "id": "00641494",
   "metadata": {},
   "outputs": [],
   "source": [
    "temp_df=pd.get_dummies(df3[\"What is your current occupation\"],prefix=\"CurrentOccupation\", drop_first=True) #The same logic can be applied here to create dummies\n",
    "df3=pd.concat([df3,temp_df],axis=1) #Creating dummies for categorical column\n",
    "df3.drop(\"What is your current occupation\", axis=1,inplace=True) #Dropping the Original What is your current occupation column after creating dummies"
   ]
  },
  {
   "cell_type": "code",
   "execution_count": 2644,
   "id": "ede78053",
   "metadata": {},
   "outputs": [],
   "source": [
    "temp_df=pd.get_dummies(df3[\"What matters most to you in choosing a course\"],prefix=\"Outcome\", drop_first=True) #The same logic can be applied here to create dummies\n",
    "df3=pd.concat([df3,temp_df],axis=1) #Creating dummies for categorical column\n",
    "df3.drop(\"What matters most to you in choosing a course\", axis=1,inplace=True) #Dropping the Original What matters most to you in choosing this course column after creating dummies"
   ]
  },
  {
   "cell_type": "code",
   "execution_count": 2645,
   "id": "26596f41",
   "metadata": {},
   "outputs": [],
   "source": [
    "df3[\"Search\"]=df3[\"Search\"].apply(lambda x: 1 if x==\"Yes\" else 0) #Replacing Binary vlaues with 0 OR 1. Yes:1 while No:0\n",
    "df3[\"Magazine\"]=df3[\"Magazine\"].apply(lambda x: 1 if x==\"Yes\" else 0) #Replacing Binary vlaues with 0 OR 1. Yes:1 while No:0\n",
    "df3[\"Newspaper Article\"]=df3[\"Newspaper Article\"].apply(lambda x: 1 if x==\"Yes\" else 0) #Replacing Binary vlaues with 0 OR 1. Yes:1 while No:0\n",
    "df3[\"X Education Forums\"]=df3[\"X Education Forums\"].apply(lambda x: 1 if x==\"Yes\" else 0) #Replacing Binary vlaues with 0 OR 1. Yes:1 while No:0\n",
    "df3[\"Newspaper\"]=df3[\"Newspaper\"].apply(lambda x: 1 if x==\"Yes\" else 0) #Replacing Binary vlaues with 0 OR 1. Yes:1 while No:0\n",
    "df3[\"Digital Advertisement\"]=df3[\"Digital Advertisement\"].apply(lambda x: 1 if x==\"Yes\" else 0) #Replacing Binary vlaues with 0 OR 1. Yes:1 while No:0\n",
    "df3[\"Through Recommendations\"]=df3[\"Through Recommendations\"].apply(lambda x: 1 if x==\"Yes\" else 0) #Replacing Binary vlaues with 0 OR 1. Yes:1 while No:0\n",
    "df3[\"Receive More Updates About Our Courses\"]=df3[\"Receive More Updates About Our Courses\"].apply(lambda x: 1 if x==\"Yes\" else 0) #Replacing Binary vlaues with 0 OR 1. Yes:1 while No:0\n",
    "df3[\"Update me on Supply Chain Content\"]=df3[\"Update me on Supply Chain Content\"].apply(lambda x: 1 if x==\"Yes\" else 0) #Replacing Binary vlaues with 0 OR 1. Yes:1 while No:0\n",
    "df3[\"Get updates on DM Content\"]=df3[\"Get updates on DM Content\"].apply(lambda x: 1 if x==\"Yes\" else 0) #Replacing Binary vlaues with 0 OR 1. Yes:1 while No:0\n",
    "df3[\"I agree to pay the amount through cheque\"]=df3[\"I agree to pay the amount through cheque\"].apply(lambda x: 1 if x==\"Yes\" else 0) #Replacing Binary vlaues with 0 OR 1. Yes:1 while No:0\n",
    "df3[\"A free copy of Mastering The Interview\"]=df3[\"A free copy of Mastering The Interview\"].apply(lambda x: 1 if x==\"Yes\" else 0) #Replacing Binary vlaues with 0 OR 1. Yes:1 while No:0"
   ]
  },
  {
   "cell_type": "code",
   "execution_count": 2646,
   "id": "5f0e835c",
   "metadata": {},
   "outputs": [],
   "source": [
    "temp_df=pd.get_dummies(df3[\"Last Notable Activity\"],prefix=\"LastNotableActivity\", drop_first=True) #The same logic can be applied here to create dummies\n",
    "df3=pd.concat([df3,temp_df],axis=1) #Creating dummies for categorical column\n",
    "df3.drop(\"Last Notable Activity\", axis=1,inplace=True) #Dropping the Original What matters most to you in choosing this course column after creating dummies"
   ]
  },
  {
   "cell_type": "code",
   "execution_count": 2647,
   "id": "3899009c",
   "metadata": {},
   "outputs": [
    {
     "name": "stdout",
     "output_type": "stream",
     "text": [
      "<class 'pandas.core.frame.DataFrame'>\n",
      "Int64Index: 9071 entries, 0 to 9239\n",
      "Columns: 101 entries, Prospect ID to LastNotableActivity_View in browser link Clicked\n",
      "dtypes: float64(2), int64(17), object(1), uint8(81)\n",
      "memory usage: 2.2+ MB\n"
     ]
    }
   ],
   "source": [
    "df3.info()"
   ]
  },
  {
   "cell_type": "markdown",
   "id": "25d51c13",
   "metadata": {},
   "source": [
    "## Model Building"
   ]
  },
  {
   "cell_type": "code",
   "execution_count": 2648,
   "id": "0961c006",
   "metadata": {},
   "outputs": [],
   "source": [
    "df5=df3.copy() #Keeping a copy as backup"
   ]
  },
  {
   "cell_type": "code",
   "execution_count": 2649,
   "id": "0624461d",
   "metadata": {},
   "outputs": [],
   "source": [
    "#Splitting data into Train and Test Datasets\n",
    "from sklearn.model_selection import train_test_split\n",
    "\n",
    "df_train, df_test= train_test_split(df3, train_size=0.7, test_size=0.3, random_state=100)"
   ]
  },
  {
   "cell_type": "code",
   "execution_count": 2650,
   "id": "8e0346c5",
   "metadata": {},
   "outputs": [],
   "source": [
    "#\"Prospect ID\" and \"Lead Number\" can be dropped as these are identifier values assigned to the leads\n",
    "df_train.drop([\"Prospect ID\",\"Lead Number\"], axis=1, inplace=True)\n",
    "df_test.drop([\"Prospect ID\",\"Lead Number\"], axis=1, inplace=True)"
   ]
  },
  {
   "cell_type": "code",
   "execution_count": 2651,
   "id": "4f50a788",
   "metadata": {},
   "outputs": [],
   "source": [
    "# Scaling the Features to bring all numerical values into same scale \n",
    "# and avoid the effect of scales on the coeeficients of the model.\n",
    "from sklearn.preprocessing import MinMaxScaler\n",
    "scaler=MinMaxScaler()\n",
    "\n",
    "df_train=scaler.fit_transform(df_train)\n",
    "df_test=scaler.transform(df_test)"
   ]
  },
  {
   "cell_type": "code",
   "execution_count": 2652,
   "id": "09a59c42",
   "metadata": {},
   "outputs": [
    {
     "data": {
      "text/html": [
       "<div>\n",
       "<style scoped>\n",
       "    .dataframe tbody tr th:only-of-type {\n",
       "        vertical-align: middle;\n",
       "    }\n",
       "\n",
       "    .dataframe tbody tr th {\n",
       "        vertical-align: top;\n",
       "    }\n",
       "\n",
       "    .dataframe thead th {\n",
       "        text-align: right;\n",
       "    }\n",
       "</style>\n",
       "<table border=\"1\" class=\"dataframe\">\n",
       "  <thead>\n",
       "    <tr style=\"text-align: right;\">\n",
       "      <th></th>\n",
       "      <th>0</th>\n",
       "      <th>1</th>\n",
       "      <th>2</th>\n",
       "      <th>3</th>\n",
       "      <th>4</th>\n",
       "      <th>5</th>\n",
       "      <th>6</th>\n",
       "      <th>7</th>\n",
       "      <th>8</th>\n",
       "      <th>9</th>\n",
       "      <th>10</th>\n",
       "      <th>11</th>\n",
       "      <th>12</th>\n",
       "      <th>13</th>\n",
       "      <th>14</th>\n",
       "      <th>15</th>\n",
       "      <th>16</th>\n",
       "      <th>17</th>\n",
       "      <th>...</th>\n",
       "      <th>81</th>\n",
       "      <th>82</th>\n",
       "      <th>83</th>\n",
       "      <th>84</th>\n",
       "      <th>85</th>\n",
       "      <th>86</th>\n",
       "      <th>87</th>\n",
       "      <th>88</th>\n",
       "      <th>89</th>\n",
       "      <th>90</th>\n",
       "      <th>91</th>\n",
       "      <th>92</th>\n",
       "      <th>93</th>\n",
       "      <th>94</th>\n",
       "      <th>95</th>\n",
       "      <th>96</th>\n",
       "      <th>97</th>\n",
       "      <th>98</th>\n",
       "    </tr>\n",
       "  </thead>\n",
       "  <tbody>\n",
       "    <tr>\n",
       "      <th>0</th>\n",
       "      <td>0.0</td>\n",
       "      <td>0.0</td>\n",
       "      <td>0.0</td>\n",
       "      <td>0.040541</td>\n",
       "      <td>0.040933</td>\n",
       "      <td>0.125000</td>\n",
       "      <td>0.0</td>\n",
       "      <td>0.0</td>\n",
       "      <td>0.0</td>\n",
       "      <td>0.0</td>\n",
       "      <td>0.0</td>\n",
       "      <td>0.0</td>\n",
       "      <td>0.0</td>\n",
       "      <td>0.0</td>\n",
       "      <td>0.0</td>\n",
       "      <td>0.0</td>\n",
       "      <td>0.0</td>\n",
       "      <td>0.0</td>\n",
       "      <td>...</td>\n",
       "      <td>0.0</td>\n",
       "      <td>0.0</td>\n",
       "      <td>0.0</td>\n",
       "      <td>0.0</td>\n",
       "      <td>0.0</td>\n",
       "      <td>0.0</td>\n",
       "      <td>0.0</td>\n",
       "      <td>0.0</td>\n",
       "      <td>0.0</td>\n",
       "      <td>0.0</td>\n",
       "      <td>1.0</td>\n",
       "      <td>0.0</td>\n",
       "      <td>0.0</td>\n",
       "      <td>0.0</td>\n",
       "      <td>0.0</td>\n",
       "      <td>0.0</td>\n",
       "      <td>0.0</td>\n",
       "      <td>0.0</td>\n",
       "    </tr>\n",
       "    <tr>\n",
       "      <th>1</th>\n",
       "      <td>0.0</td>\n",
       "      <td>0.0</td>\n",
       "      <td>0.0</td>\n",
       "      <td>0.000000</td>\n",
       "      <td>0.000000</td>\n",
       "      <td>0.000000</td>\n",
       "      <td>0.0</td>\n",
       "      <td>0.0</td>\n",
       "      <td>0.0</td>\n",
       "      <td>0.0</td>\n",
       "      <td>0.0</td>\n",
       "      <td>0.0</td>\n",
       "      <td>0.0</td>\n",
       "      <td>0.0</td>\n",
       "      <td>0.0</td>\n",
       "      <td>0.0</td>\n",
       "      <td>0.0</td>\n",
       "      <td>0.0</td>\n",
       "      <td>...</td>\n",
       "      <td>0.0</td>\n",
       "      <td>0.0</td>\n",
       "      <td>0.0</td>\n",
       "      <td>0.0</td>\n",
       "      <td>0.0</td>\n",
       "      <td>0.0</td>\n",
       "      <td>0.0</td>\n",
       "      <td>0.0</td>\n",
       "      <td>0.0</td>\n",
       "      <td>0.0</td>\n",
       "      <td>1.0</td>\n",
       "      <td>0.0</td>\n",
       "      <td>0.0</td>\n",
       "      <td>0.0</td>\n",
       "      <td>0.0</td>\n",
       "      <td>0.0</td>\n",
       "      <td>0.0</td>\n",
       "      <td>0.0</td>\n",
       "    </tr>\n",
       "    <tr>\n",
       "      <th>2</th>\n",
       "      <td>0.0</td>\n",
       "      <td>0.0</td>\n",
       "      <td>1.0</td>\n",
       "      <td>0.067568</td>\n",
       "      <td>0.697183</td>\n",
       "      <td>0.104167</td>\n",
       "      <td>0.0</td>\n",
       "      <td>0.0</td>\n",
       "      <td>0.0</td>\n",
       "      <td>0.0</td>\n",
       "      <td>0.0</td>\n",
       "      <td>0.0</td>\n",
       "      <td>0.0</td>\n",
       "      <td>0.0</td>\n",
       "      <td>0.0</td>\n",
       "      <td>0.0</td>\n",
       "      <td>0.0</td>\n",
       "      <td>0.0</td>\n",
       "      <td>...</td>\n",
       "      <td>0.0</td>\n",
       "      <td>0.0</td>\n",
       "      <td>0.0</td>\n",
       "      <td>0.0</td>\n",
       "      <td>0.0</td>\n",
       "      <td>0.0</td>\n",
       "      <td>0.0</td>\n",
       "      <td>0.0</td>\n",
       "      <td>0.0</td>\n",
       "      <td>0.0</td>\n",
       "      <td>1.0</td>\n",
       "      <td>0.0</td>\n",
       "      <td>0.0</td>\n",
       "      <td>0.0</td>\n",
       "      <td>0.0</td>\n",
       "      <td>0.0</td>\n",
       "      <td>0.0</td>\n",
       "      <td>0.0</td>\n",
       "    </tr>\n",
       "    <tr>\n",
       "      <th>3</th>\n",
       "      <td>0.0</td>\n",
       "      <td>0.0</td>\n",
       "      <td>1.0</td>\n",
       "      <td>0.054054</td>\n",
       "      <td>0.433099</td>\n",
       "      <td>0.083333</td>\n",
       "      <td>0.0</td>\n",
       "      <td>0.0</td>\n",
       "      <td>0.0</td>\n",
       "      <td>0.0</td>\n",
       "      <td>0.0</td>\n",
       "      <td>0.0</td>\n",
       "      <td>0.0</td>\n",
       "      <td>0.0</td>\n",
       "      <td>0.0</td>\n",
       "      <td>0.0</td>\n",
       "      <td>0.0</td>\n",
       "      <td>0.0</td>\n",
       "      <td>...</td>\n",
       "      <td>0.0</td>\n",
       "      <td>0.0</td>\n",
       "      <td>0.0</td>\n",
       "      <td>0.0</td>\n",
       "      <td>0.0</td>\n",
       "      <td>0.0</td>\n",
       "      <td>0.0</td>\n",
       "      <td>0.0</td>\n",
       "      <td>0.0</td>\n",
       "      <td>0.0</td>\n",
       "      <td>0.0</td>\n",
       "      <td>0.0</td>\n",
       "      <td>0.0</td>\n",
       "      <td>0.0</td>\n",
       "      <td>1.0</td>\n",
       "      <td>0.0</td>\n",
       "      <td>0.0</td>\n",
       "      <td>0.0</td>\n",
       "    </tr>\n",
       "    <tr>\n",
       "      <th>4</th>\n",
       "      <td>0.0</td>\n",
       "      <td>0.0</td>\n",
       "      <td>1.0</td>\n",
       "      <td>0.040541</td>\n",
       "      <td>0.527729</td>\n",
       "      <td>0.125000</td>\n",
       "      <td>0.0</td>\n",
       "      <td>0.0</td>\n",
       "      <td>0.0</td>\n",
       "      <td>0.0</td>\n",
       "      <td>0.0</td>\n",
       "      <td>0.0</td>\n",
       "      <td>0.0</td>\n",
       "      <td>0.0</td>\n",
       "      <td>0.0</td>\n",
       "      <td>0.0</td>\n",
       "      <td>0.0</td>\n",
       "      <td>0.0</td>\n",
       "      <td>...</td>\n",
       "      <td>0.0</td>\n",
       "      <td>0.0</td>\n",
       "      <td>0.0</td>\n",
       "      <td>0.0</td>\n",
       "      <td>0.0</td>\n",
       "      <td>0.0</td>\n",
       "      <td>0.0</td>\n",
       "      <td>0.0</td>\n",
       "      <td>0.0</td>\n",
       "      <td>0.0</td>\n",
       "      <td>0.0</td>\n",
       "      <td>0.0</td>\n",
       "      <td>0.0</td>\n",
       "      <td>0.0</td>\n",
       "      <td>1.0</td>\n",
       "      <td>0.0</td>\n",
       "      <td>0.0</td>\n",
       "      <td>0.0</td>\n",
       "    </tr>\n",
       "  </tbody>\n",
       "</table>\n",
       "<p>5 rows × 99 columns</p>\n",
       "</div>"
      ],
      "text/plain": [
       "    0    1    2         3         4         5    6    7    8    9    10   11  \\\n",
       "0  0.0  0.0  0.0  0.040541  0.040933  0.125000  0.0  0.0  0.0  0.0  0.0  0.0   \n",
       "1  0.0  0.0  0.0  0.000000  0.000000  0.000000  0.0  0.0  0.0  0.0  0.0  0.0   \n",
       "2  0.0  0.0  1.0  0.067568  0.697183  0.104167  0.0  0.0  0.0  0.0  0.0  0.0   \n",
       "3  0.0  0.0  1.0  0.054054  0.433099  0.083333  0.0  0.0  0.0  0.0  0.0  0.0   \n",
       "4  0.0  0.0  1.0  0.040541  0.527729  0.125000  0.0  0.0  0.0  0.0  0.0  0.0   \n",
       "\n",
       "    12   13   14   15   16   17  ...   81   82   83   84   85   86   87   88  \\\n",
       "0  0.0  0.0  0.0  0.0  0.0  0.0  ...  0.0  0.0  0.0  0.0  0.0  0.0  0.0  0.0   \n",
       "1  0.0  0.0  0.0  0.0  0.0  0.0  ...  0.0  0.0  0.0  0.0  0.0  0.0  0.0  0.0   \n",
       "2  0.0  0.0  0.0  0.0  0.0  0.0  ...  0.0  0.0  0.0  0.0  0.0  0.0  0.0  0.0   \n",
       "3  0.0  0.0  0.0  0.0  0.0  0.0  ...  0.0  0.0  0.0  0.0  0.0  0.0  0.0  0.0   \n",
       "4  0.0  0.0  0.0  0.0  0.0  0.0  ...  0.0  0.0  0.0  0.0  0.0  0.0  0.0  0.0   \n",
       "\n",
       "    89   90   91   92   93   94   95   96   97   98  \n",
       "0  0.0  0.0  1.0  0.0  0.0  0.0  0.0  0.0  0.0  0.0  \n",
       "1  0.0  0.0  1.0  0.0  0.0  0.0  0.0  0.0  0.0  0.0  \n",
       "2  0.0  0.0  1.0  0.0  0.0  0.0  0.0  0.0  0.0  0.0  \n",
       "3  0.0  0.0  0.0  0.0  0.0  0.0  1.0  0.0  0.0  0.0  \n",
       "4  0.0  0.0  0.0  0.0  0.0  0.0  1.0  0.0  0.0  0.0  \n",
       "\n",
       "[5 rows x 99 columns]"
      ]
     },
     "execution_count": 2652,
     "metadata": {},
     "output_type": "execute_result"
    }
   ],
   "source": [
    "df_train=pd.DataFrame(df_train)\n",
    "df_train.head()"
   ]
  },
  {
   "cell_type": "code",
   "execution_count": 2653,
   "id": "3ec43793",
   "metadata": {},
   "outputs": [],
   "source": [
    "df3.drop([\"Prospect ID\",\"Lead Number\"], axis=1, inplace=True)\n",
    "df_train.columns=df3.columns"
   ]
  },
  {
   "cell_type": "code",
   "execution_count": 2654,
   "id": "5750e552",
   "metadata": {},
   "outputs": [
    {
     "data": {
      "text/html": [
       "<div>\n",
       "<style scoped>\n",
       "    .dataframe tbody tr th:only-of-type {\n",
       "        vertical-align: middle;\n",
       "    }\n",
       "\n",
       "    .dataframe tbody tr th {\n",
       "        vertical-align: top;\n",
       "    }\n",
       "\n",
       "    .dataframe thead th {\n",
       "        text-align: right;\n",
       "    }\n",
       "</style>\n",
       "<table border=\"1\" class=\"dataframe\">\n",
       "  <thead>\n",
       "    <tr style=\"text-align: right;\">\n",
       "      <th></th>\n",
       "      <th>Do Not Email</th>\n",
       "      <th>Do Not Call</th>\n",
       "      <th>Converted</th>\n",
       "      <th>TotalVisits</th>\n",
       "      <th>Total Time Spent on Website</th>\n",
       "      <th>Page Views Per Visit</th>\n",
       "      <th>Search</th>\n",
       "      <th>Magazine</th>\n",
       "      <th>Newspaper Article</th>\n",
       "      <th>X Education Forums</th>\n",
       "      <th>Newspaper</th>\n",
       "      <th>Digital Advertisement</th>\n",
       "      <th>Through Recommendations</th>\n",
       "      <th>Receive More Updates About Our Courses</th>\n",
       "      <th>Update me on Supply Chain Content</th>\n",
       "      <th>Get updates on DM Content</th>\n",
       "      <th>I agree to pay the amount through cheque</th>\n",
       "      <th>A free copy of Mastering The Interview</th>\n",
       "      <th>...</th>\n",
       "      <th>CurrentOccupation_Working Professional</th>\n",
       "      <th>Outcome_Flexibility &amp; Convenience</th>\n",
       "      <th>Outcome_Other</th>\n",
       "      <th>LastNotableActivity_Email Bounced</th>\n",
       "      <th>LastNotableActivity_Email Link Clicked</th>\n",
       "      <th>LastNotableActivity_Email Marked Spam</th>\n",
       "      <th>LastNotableActivity_Email Opened</th>\n",
       "      <th>LastNotableActivity_Email Received</th>\n",
       "      <th>LastNotableActivity_Form Submitted on Website</th>\n",
       "      <th>LastNotableActivity_Had a Phone Conversation</th>\n",
       "      <th>LastNotableActivity_Modified</th>\n",
       "      <th>LastNotableActivity_Olark Chat Conversation</th>\n",
       "      <th>LastNotableActivity_Page Visited on Website</th>\n",
       "      <th>LastNotableActivity_Resubscribed to emails</th>\n",
       "      <th>LastNotableActivity_SMS Sent</th>\n",
       "      <th>LastNotableActivity_Unreachable</th>\n",
       "      <th>LastNotableActivity_Unsubscribed</th>\n",
       "      <th>LastNotableActivity_View in browser link Clicked</th>\n",
       "    </tr>\n",
       "  </thead>\n",
       "  <tbody>\n",
       "    <tr>\n",
       "      <th>0</th>\n",
       "      <td>0.0</td>\n",
       "      <td>0.0</td>\n",
       "      <td>0.0</td>\n",
       "      <td>0.040541</td>\n",
       "      <td>0.040933</td>\n",
       "      <td>0.125000</td>\n",
       "      <td>0.0</td>\n",
       "      <td>0.0</td>\n",
       "      <td>0.0</td>\n",
       "      <td>0.0</td>\n",
       "      <td>0.0</td>\n",
       "      <td>0.0</td>\n",
       "      <td>0.0</td>\n",
       "      <td>0.0</td>\n",
       "      <td>0.0</td>\n",
       "      <td>0.0</td>\n",
       "      <td>0.0</td>\n",
       "      <td>0.0</td>\n",
       "      <td>...</td>\n",
       "      <td>0.0</td>\n",
       "      <td>0.0</td>\n",
       "      <td>0.0</td>\n",
       "      <td>0.0</td>\n",
       "      <td>0.0</td>\n",
       "      <td>0.0</td>\n",
       "      <td>0.0</td>\n",
       "      <td>0.0</td>\n",
       "      <td>0.0</td>\n",
       "      <td>0.0</td>\n",
       "      <td>1.0</td>\n",
       "      <td>0.0</td>\n",
       "      <td>0.0</td>\n",
       "      <td>0.0</td>\n",
       "      <td>0.0</td>\n",
       "      <td>0.0</td>\n",
       "      <td>0.0</td>\n",
       "      <td>0.0</td>\n",
       "    </tr>\n",
       "    <tr>\n",
       "      <th>1</th>\n",
       "      <td>0.0</td>\n",
       "      <td>0.0</td>\n",
       "      <td>0.0</td>\n",
       "      <td>0.000000</td>\n",
       "      <td>0.000000</td>\n",
       "      <td>0.000000</td>\n",
       "      <td>0.0</td>\n",
       "      <td>0.0</td>\n",
       "      <td>0.0</td>\n",
       "      <td>0.0</td>\n",
       "      <td>0.0</td>\n",
       "      <td>0.0</td>\n",
       "      <td>0.0</td>\n",
       "      <td>0.0</td>\n",
       "      <td>0.0</td>\n",
       "      <td>0.0</td>\n",
       "      <td>0.0</td>\n",
       "      <td>0.0</td>\n",
       "      <td>...</td>\n",
       "      <td>0.0</td>\n",
       "      <td>0.0</td>\n",
       "      <td>0.0</td>\n",
       "      <td>0.0</td>\n",
       "      <td>0.0</td>\n",
       "      <td>0.0</td>\n",
       "      <td>0.0</td>\n",
       "      <td>0.0</td>\n",
       "      <td>0.0</td>\n",
       "      <td>0.0</td>\n",
       "      <td>1.0</td>\n",
       "      <td>0.0</td>\n",
       "      <td>0.0</td>\n",
       "      <td>0.0</td>\n",
       "      <td>0.0</td>\n",
       "      <td>0.0</td>\n",
       "      <td>0.0</td>\n",
       "      <td>0.0</td>\n",
       "    </tr>\n",
       "    <tr>\n",
       "      <th>2</th>\n",
       "      <td>0.0</td>\n",
       "      <td>0.0</td>\n",
       "      <td>1.0</td>\n",
       "      <td>0.067568</td>\n",
       "      <td>0.697183</td>\n",
       "      <td>0.104167</td>\n",
       "      <td>0.0</td>\n",
       "      <td>0.0</td>\n",
       "      <td>0.0</td>\n",
       "      <td>0.0</td>\n",
       "      <td>0.0</td>\n",
       "      <td>0.0</td>\n",
       "      <td>0.0</td>\n",
       "      <td>0.0</td>\n",
       "      <td>0.0</td>\n",
       "      <td>0.0</td>\n",
       "      <td>0.0</td>\n",
       "      <td>0.0</td>\n",
       "      <td>...</td>\n",
       "      <td>0.0</td>\n",
       "      <td>0.0</td>\n",
       "      <td>0.0</td>\n",
       "      <td>0.0</td>\n",
       "      <td>0.0</td>\n",
       "      <td>0.0</td>\n",
       "      <td>0.0</td>\n",
       "      <td>0.0</td>\n",
       "      <td>0.0</td>\n",
       "      <td>0.0</td>\n",
       "      <td>1.0</td>\n",
       "      <td>0.0</td>\n",
       "      <td>0.0</td>\n",
       "      <td>0.0</td>\n",
       "      <td>0.0</td>\n",
       "      <td>0.0</td>\n",
       "      <td>0.0</td>\n",
       "      <td>0.0</td>\n",
       "    </tr>\n",
       "    <tr>\n",
       "      <th>3</th>\n",
       "      <td>0.0</td>\n",
       "      <td>0.0</td>\n",
       "      <td>1.0</td>\n",
       "      <td>0.054054</td>\n",
       "      <td>0.433099</td>\n",
       "      <td>0.083333</td>\n",
       "      <td>0.0</td>\n",
       "      <td>0.0</td>\n",
       "      <td>0.0</td>\n",
       "      <td>0.0</td>\n",
       "      <td>0.0</td>\n",
       "      <td>0.0</td>\n",
       "      <td>0.0</td>\n",
       "      <td>0.0</td>\n",
       "      <td>0.0</td>\n",
       "      <td>0.0</td>\n",
       "      <td>0.0</td>\n",
       "      <td>0.0</td>\n",
       "      <td>...</td>\n",
       "      <td>0.0</td>\n",
       "      <td>0.0</td>\n",
       "      <td>0.0</td>\n",
       "      <td>0.0</td>\n",
       "      <td>0.0</td>\n",
       "      <td>0.0</td>\n",
       "      <td>0.0</td>\n",
       "      <td>0.0</td>\n",
       "      <td>0.0</td>\n",
       "      <td>0.0</td>\n",
       "      <td>0.0</td>\n",
       "      <td>0.0</td>\n",
       "      <td>0.0</td>\n",
       "      <td>0.0</td>\n",
       "      <td>1.0</td>\n",
       "      <td>0.0</td>\n",
       "      <td>0.0</td>\n",
       "      <td>0.0</td>\n",
       "    </tr>\n",
       "    <tr>\n",
       "      <th>4</th>\n",
       "      <td>0.0</td>\n",
       "      <td>0.0</td>\n",
       "      <td>1.0</td>\n",
       "      <td>0.040541</td>\n",
       "      <td>0.527729</td>\n",
       "      <td>0.125000</td>\n",
       "      <td>0.0</td>\n",
       "      <td>0.0</td>\n",
       "      <td>0.0</td>\n",
       "      <td>0.0</td>\n",
       "      <td>0.0</td>\n",
       "      <td>0.0</td>\n",
       "      <td>0.0</td>\n",
       "      <td>0.0</td>\n",
       "      <td>0.0</td>\n",
       "      <td>0.0</td>\n",
       "      <td>0.0</td>\n",
       "      <td>0.0</td>\n",
       "      <td>...</td>\n",
       "      <td>0.0</td>\n",
       "      <td>0.0</td>\n",
       "      <td>0.0</td>\n",
       "      <td>0.0</td>\n",
       "      <td>0.0</td>\n",
       "      <td>0.0</td>\n",
       "      <td>0.0</td>\n",
       "      <td>0.0</td>\n",
       "      <td>0.0</td>\n",
       "      <td>0.0</td>\n",
       "      <td>0.0</td>\n",
       "      <td>0.0</td>\n",
       "      <td>0.0</td>\n",
       "      <td>0.0</td>\n",
       "      <td>1.0</td>\n",
       "      <td>0.0</td>\n",
       "      <td>0.0</td>\n",
       "      <td>0.0</td>\n",
       "    </tr>\n",
       "  </tbody>\n",
       "</table>\n",
       "<p>5 rows × 99 columns</p>\n",
       "</div>"
      ],
      "text/plain": [
       "   Do Not Email  Do Not Call  Converted  TotalVisits  \\\n",
       "0           0.0          0.0        0.0     0.040541   \n",
       "1           0.0          0.0        0.0     0.000000   \n",
       "2           0.0          0.0        1.0     0.067568   \n",
       "3           0.0          0.0        1.0     0.054054   \n",
       "4           0.0          0.0        1.0     0.040541   \n",
       "\n",
       "   Total Time Spent on Website  Page Views Per Visit  Search  Magazine  \\\n",
       "0                     0.040933              0.125000     0.0       0.0   \n",
       "1                     0.000000              0.000000     0.0       0.0   \n",
       "2                     0.697183              0.104167     0.0       0.0   \n",
       "3                     0.433099              0.083333     0.0       0.0   \n",
       "4                     0.527729              0.125000     0.0       0.0   \n",
       "\n",
       "   Newspaper Article  X Education Forums  Newspaper  Digital Advertisement  \\\n",
       "0                0.0                 0.0        0.0                    0.0   \n",
       "1                0.0                 0.0        0.0                    0.0   \n",
       "2                0.0                 0.0        0.0                    0.0   \n",
       "3                0.0                 0.0        0.0                    0.0   \n",
       "4                0.0                 0.0        0.0                    0.0   \n",
       "\n",
       "   Through Recommendations  Receive More Updates About Our Courses  \\\n",
       "0                      0.0                                     0.0   \n",
       "1                      0.0                                     0.0   \n",
       "2                      0.0                                     0.0   \n",
       "3                      0.0                                     0.0   \n",
       "4                      0.0                                     0.0   \n",
       "\n",
       "   Update me on Supply Chain Content  Get updates on DM Content  \\\n",
       "0                                0.0                        0.0   \n",
       "1                                0.0                        0.0   \n",
       "2                                0.0                        0.0   \n",
       "3                                0.0                        0.0   \n",
       "4                                0.0                        0.0   \n",
       "\n",
       "   I agree to pay the amount through cheque  \\\n",
       "0                                       0.0   \n",
       "1                                       0.0   \n",
       "2                                       0.0   \n",
       "3                                       0.0   \n",
       "4                                       0.0   \n",
       "\n",
       "   A free copy of Mastering The Interview  ...  \\\n",
       "0                                     0.0  ...   \n",
       "1                                     0.0  ...   \n",
       "2                                     0.0  ...   \n",
       "3                                     0.0  ...   \n",
       "4                                     0.0  ...   \n",
       "\n",
       "   CurrentOccupation_Working Professional  Outcome_Flexibility & Convenience  \\\n",
       "0                                     0.0                                0.0   \n",
       "1                                     0.0                                0.0   \n",
       "2                                     0.0                                0.0   \n",
       "3                                     0.0                                0.0   \n",
       "4                                     0.0                                0.0   \n",
       "\n",
       "   Outcome_Other  LastNotableActivity_Email Bounced  \\\n",
       "0            0.0                                0.0   \n",
       "1            0.0                                0.0   \n",
       "2            0.0                                0.0   \n",
       "3            0.0                                0.0   \n",
       "4            0.0                                0.0   \n",
       "\n",
       "   LastNotableActivity_Email Link Clicked  \\\n",
       "0                                     0.0   \n",
       "1                                     0.0   \n",
       "2                                     0.0   \n",
       "3                                     0.0   \n",
       "4                                     0.0   \n",
       "\n",
       "   LastNotableActivity_Email Marked Spam  LastNotableActivity_Email Opened  \\\n",
       "0                                    0.0                               0.0   \n",
       "1                                    0.0                               0.0   \n",
       "2                                    0.0                               0.0   \n",
       "3                                    0.0                               0.0   \n",
       "4                                    0.0                               0.0   \n",
       "\n",
       "   LastNotableActivity_Email Received  \\\n",
       "0                                 0.0   \n",
       "1                                 0.0   \n",
       "2                                 0.0   \n",
       "3                                 0.0   \n",
       "4                                 0.0   \n",
       "\n",
       "   LastNotableActivity_Form Submitted on Website  \\\n",
       "0                                            0.0   \n",
       "1                                            0.0   \n",
       "2                                            0.0   \n",
       "3                                            0.0   \n",
       "4                                            0.0   \n",
       "\n",
       "   LastNotableActivity_Had a Phone Conversation  LastNotableActivity_Modified  \\\n",
       "0                                           0.0                           1.0   \n",
       "1                                           0.0                           1.0   \n",
       "2                                           0.0                           1.0   \n",
       "3                                           0.0                           0.0   \n",
       "4                                           0.0                           0.0   \n",
       "\n",
       "   LastNotableActivity_Olark Chat Conversation  \\\n",
       "0                                          0.0   \n",
       "1                                          0.0   \n",
       "2                                          0.0   \n",
       "3                                          0.0   \n",
       "4                                          0.0   \n",
       "\n",
       "   LastNotableActivity_Page Visited on Website  \\\n",
       "0                                          0.0   \n",
       "1                                          0.0   \n",
       "2                                          0.0   \n",
       "3                                          0.0   \n",
       "4                                          0.0   \n",
       "\n",
       "   LastNotableActivity_Resubscribed to emails  LastNotableActivity_SMS Sent  \\\n",
       "0                                         0.0                           0.0   \n",
       "1                                         0.0                           0.0   \n",
       "2                                         0.0                           0.0   \n",
       "3                                         0.0                           1.0   \n",
       "4                                         0.0                           1.0   \n",
       "\n",
       "   LastNotableActivity_Unreachable  LastNotableActivity_Unsubscribed  \\\n",
       "0                              0.0                               0.0   \n",
       "1                              0.0                               0.0   \n",
       "2                              0.0                               0.0   \n",
       "3                              0.0                               0.0   \n",
       "4                              0.0                               0.0   \n",
       "\n",
       "   LastNotableActivity_View in browser link Clicked  \n",
       "0                                               0.0  \n",
       "1                                               0.0  \n",
       "2                                               0.0  \n",
       "3                                               0.0  \n",
       "4                                               0.0  \n",
       "\n",
       "[5 rows x 99 columns]"
      ]
     },
     "execution_count": 2654,
     "metadata": {},
     "output_type": "execute_result"
    }
   ],
   "source": [
    "df_train.head()"
   ]
  },
  {
   "cell_type": "code",
   "execution_count": 2655,
   "id": "95962a05",
   "metadata": {},
   "outputs": [],
   "source": [
    "# Dividing into X and y sets for Model Building\n",
    "y_train=df_train.pop('Converted')\n",
    "X_train=df_train"
   ]
  },
  {
   "cell_type": "code",
   "execution_count": 2656,
   "id": "3fce3a07",
   "metadata": {},
   "outputs": [],
   "source": [
    "#Importing linear model and RFE for building models\n",
    "from sklearn.linear_model import LogisticRegression\n",
    "from sklearn.feature_selection import RFE"
   ]
  },
  {
   "cell_type": "code",
   "execution_count": 2657,
   "id": "acfbe6bd",
   "metadata": {},
   "outputs": [
    {
     "name": "stderr",
     "output_type": "stream",
     "text": [
      "C:\\Users\\Yashus G\\anaconda3\\lib\\site-packages\\sklearn\\linear_model\\_logistic.py:814: ConvergenceWarning: lbfgs failed to converge (status=1):\n",
      "STOP: TOTAL NO. of ITERATIONS REACHED LIMIT.\n",
      "\n",
      "Increase the number of iterations (max_iter) or scale the data as shown in:\n",
      "    https://scikit-learn.org/stable/modules/preprocessing.html\n",
      "Please also refer to the documentation for alternative solver options:\n",
      "    https://scikit-learn.org/stable/modules/linear_model.html#logistic-regression\n",
      "  n_iter_i = _check_optimize_result(\n",
      "C:\\Users\\Yashus G\\anaconda3\\lib\\site-packages\\sklearn\\linear_model\\_logistic.py:814: ConvergenceWarning: lbfgs failed to converge (status=1):\n",
      "STOP: TOTAL NO. of ITERATIONS REACHED LIMIT.\n",
      "\n",
      "Increase the number of iterations (max_iter) or scale the data as shown in:\n",
      "    https://scikit-learn.org/stable/modules/preprocessing.html\n",
      "Please also refer to the documentation for alternative solver options:\n",
      "    https://scikit-learn.org/stable/modules/linear_model.html#logistic-regression\n",
      "  n_iter_i = _check_optimize_result(\n",
      "C:\\Users\\Yashus G\\anaconda3\\lib\\site-packages\\sklearn\\linear_model\\_logistic.py:814: ConvergenceWarning: lbfgs failed to converge (status=1):\n",
      "STOP: TOTAL NO. of ITERATIONS REACHED LIMIT.\n",
      "\n",
      "Increase the number of iterations (max_iter) or scale the data as shown in:\n",
      "    https://scikit-learn.org/stable/modules/preprocessing.html\n",
      "Please also refer to the documentation for alternative solver options:\n",
      "    https://scikit-learn.org/stable/modules/linear_model.html#logistic-regression\n",
      "  n_iter_i = _check_optimize_result(\n",
      "C:\\Users\\Yashus G\\anaconda3\\lib\\site-packages\\sklearn\\linear_model\\_logistic.py:814: ConvergenceWarning: lbfgs failed to converge (status=1):\n",
      "STOP: TOTAL NO. of ITERATIONS REACHED LIMIT.\n",
      "\n",
      "Increase the number of iterations (max_iter) or scale the data as shown in:\n",
      "    https://scikit-learn.org/stable/modules/preprocessing.html\n",
      "Please also refer to the documentation for alternative solver options:\n",
      "    https://scikit-learn.org/stable/modules/linear_model.html#logistic-regression\n",
      "  n_iter_i = _check_optimize_result(\n",
      "C:\\Users\\Yashus G\\anaconda3\\lib\\site-packages\\sklearn\\linear_model\\_logistic.py:814: ConvergenceWarning: lbfgs failed to converge (status=1):\n",
      "STOP: TOTAL NO. of ITERATIONS REACHED LIMIT.\n",
      "\n",
      "Increase the number of iterations (max_iter) or scale the data as shown in:\n",
      "    https://scikit-learn.org/stable/modules/preprocessing.html\n",
      "Please also refer to the documentation for alternative solver options:\n",
      "    https://scikit-learn.org/stable/modules/linear_model.html#logistic-regression\n",
      "  n_iter_i = _check_optimize_result(\n",
      "C:\\Users\\Yashus G\\anaconda3\\lib\\site-packages\\sklearn\\linear_model\\_logistic.py:814: ConvergenceWarning: lbfgs failed to converge (status=1):\n",
      "STOP: TOTAL NO. of ITERATIONS REACHED LIMIT.\n",
      "\n",
      "Increase the number of iterations (max_iter) or scale the data as shown in:\n",
      "    https://scikit-learn.org/stable/modules/preprocessing.html\n",
      "Please also refer to the documentation for alternative solver options:\n",
      "    https://scikit-learn.org/stable/modules/linear_model.html#logistic-regression\n",
      "  n_iter_i = _check_optimize_result(\n",
      "C:\\Users\\Yashus G\\anaconda3\\lib\\site-packages\\sklearn\\linear_model\\_logistic.py:814: ConvergenceWarning: lbfgs failed to converge (status=1):\n",
      "STOP: TOTAL NO. of ITERATIONS REACHED LIMIT.\n",
      "\n",
      "Increase the number of iterations (max_iter) or scale the data as shown in:\n",
      "    https://scikit-learn.org/stable/modules/preprocessing.html\n",
      "Please also refer to the documentation for alternative solver options:\n",
      "    https://scikit-learn.org/stable/modules/linear_model.html#logistic-regression\n",
      "  n_iter_i = _check_optimize_result(\n",
      "C:\\Users\\Yashus G\\anaconda3\\lib\\site-packages\\sklearn\\linear_model\\_logistic.py:814: ConvergenceWarning: lbfgs failed to converge (status=1):\n",
      "STOP: TOTAL NO. of ITERATIONS REACHED LIMIT.\n",
      "\n",
      "Increase the number of iterations (max_iter) or scale the data as shown in:\n",
      "    https://scikit-learn.org/stable/modules/preprocessing.html\n",
      "Please also refer to the documentation for alternative solver options:\n",
      "    https://scikit-learn.org/stable/modules/linear_model.html#logistic-regression\n",
      "  n_iter_i = _check_optimize_result(\n",
      "C:\\Users\\Yashus G\\anaconda3\\lib\\site-packages\\sklearn\\linear_model\\_logistic.py:814: ConvergenceWarning: lbfgs failed to converge (status=1):\n",
      "STOP: TOTAL NO. of ITERATIONS REACHED LIMIT.\n",
      "\n",
      "Increase the number of iterations (max_iter) or scale the data as shown in:\n",
      "    https://scikit-learn.org/stable/modules/preprocessing.html\n",
      "Please also refer to the documentation for alternative solver options:\n",
      "    https://scikit-learn.org/stable/modules/linear_model.html#logistic-regression\n",
      "  n_iter_i = _check_optimize_result(\n",
      "C:\\Users\\Yashus G\\anaconda3\\lib\\site-packages\\sklearn\\linear_model\\_logistic.py:814: ConvergenceWarning: lbfgs failed to converge (status=1):\n",
      "STOP: TOTAL NO. of ITERATIONS REACHED LIMIT.\n",
      "\n",
      "Increase the number of iterations (max_iter) or scale the data as shown in:\n",
      "    https://scikit-learn.org/stable/modules/preprocessing.html\n",
      "Please also refer to the documentation for alternative solver options:\n",
      "    https://scikit-learn.org/stable/modules/linear_model.html#logistic-regression\n",
      "  n_iter_i = _check_optimize_result(\n",
      "C:\\Users\\Yashus G\\anaconda3\\lib\\site-packages\\sklearn\\linear_model\\_logistic.py:814: ConvergenceWarning: lbfgs failed to converge (status=1):\n",
      "STOP: TOTAL NO. of ITERATIONS REACHED LIMIT.\n",
      "\n",
      "Increase the number of iterations (max_iter) or scale the data as shown in:\n",
      "    https://scikit-learn.org/stable/modules/preprocessing.html\n",
      "Please also refer to the documentation for alternative solver options:\n",
      "    https://scikit-learn.org/stable/modules/linear_model.html#logistic-regression\n",
      "  n_iter_i = _check_optimize_result(\n",
      "C:\\Users\\Yashus G\\anaconda3\\lib\\site-packages\\sklearn\\linear_model\\_logistic.py:814: ConvergenceWarning: lbfgs failed to converge (status=1):\n",
      "STOP: TOTAL NO. of ITERATIONS REACHED LIMIT.\n",
      "\n",
      "Increase the number of iterations (max_iter) or scale the data as shown in:\n",
      "    https://scikit-learn.org/stable/modules/preprocessing.html\n",
      "Please also refer to the documentation for alternative solver options:\n",
      "    https://scikit-learn.org/stable/modules/linear_model.html#logistic-regression\n",
      "  n_iter_i = _check_optimize_result(\n",
      "C:\\Users\\Yashus G\\anaconda3\\lib\\site-packages\\sklearn\\linear_model\\_logistic.py:814: ConvergenceWarning: lbfgs failed to converge (status=1):\n",
      "STOP: TOTAL NO. of ITERATIONS REACHED LIMIT.\n",
      "\n",
      "Increase the number of iterations (max_iter) or scale the data as shown in:\n",
      "    https://scikit-learn.org/stable/modules/preprocessing.html\n",
      "Please also refer to the documentation for alternative solver options:\n",
      "    https://scikit-learn.org/stable/modules/linear_model.html#logistic-regression\n",
      "  n_iter_i = _check_optimize_result(\n",
      "C:\\Users\\Yashus G\\anaconda3\\lib\\site-packages\\sklearn\\linear_model\\_logistic.py:814: ConvergenceWarning: lbfgs failed to converge (status=1):\n",
      "STOP: TOTAL NO. of ITERATIONS REACHED LIMIT.\n",
      "\n",
      "Increase the number of iterations (max_iter) or scale the data as shown in:\n",
      "    https://scikit-learn.org/stable/modules/preprocessing.html\n",
      "Please also refer to the documentation for alternative solver options:\n",
      "    https://scikit-learn.org/stable/modules/linear_model.html#logistic-regression\n",
      "  n_iter_i = _check_optimize_result(\n",
      "C:\\Users\\Yashus G\\anaconda3\\lib\\site-packages\\sklearn\\linear_model\\_logistic.py:814: ConvergenceWarning: lbfgs failed to converge (status=1):\n",
      "STOP: TOTAL NO. of ITERATIONS REACHED LIMIT.\n",
      "\n",
      "Increase the number of iterations (max_iter) or scale the data as shown in:\n",
      "    https://scikit-learn.org/stable/modules/preprocessing.html\n",
      "Please also refer to the documentation for alternative solver options:\n",
      "    https://scikit-learn.org/stable/modules/linear_model.html#logistic-regression\n",
      "  n_iter_i = _check_optimize_result(\n",
      "C:\\Users\\Yashus G\\anaconda3\\lib\\site-packages\\sklearn\\linear_model\\_logistic.py:814: ConvergenceWarning: lbfgs failed to converge (status=1):\n",
      "STOP: TOTAL NO. of ITERATIONS REACHED LIMIT.\n",
      "\n",
      "Increase the number of iterations (max_iter) or scale the data as shown in:\n",
      "    https://scikit-learn.org/stable/modules/preprocessing.html\n",
      "Please also refer to the documentation for alternative solver options:\n",
      "    https://scikit-learn.org/stable/modules/linear_model.html#logistic-regression\n",
      "  n_iter_i = _check_optimize_result(\n",
      "C:\\Users\\Yashus G\\anaconda3\\lib\\site-packages\\sklearn\\linear_model\\_logistic.py:814: ConvergenceWarning: lbfgs failed to converge (status=1):\n",
      "STOP: TOTAL NO. of ITERATIONS REACHED LIMIT.\n",
      "\n",
      "Increase the number of iterations (max_iter) or scale the data as shown in:\n",
      "    https://scikit-learn.org/stable/modules/preprocessing.html\n",
      "Please also refer to the documentation for alternative solver options:\n",
      "    https://scikit-learn.org/stable/modules/linear_model.html#logistic-regression\n",
      "  n_iter_i = _check_optimize_result(\n",
      "C:\\Users\\Yashus G\\anaconda3\\lib\\site-packages\\sklearn\\linear_model\\_logistic.py:814: ConvergenceWarning: lbfgs failed to converge (status=1):\n",
      "STOP: TOTAL NO. of ITERATIONS REACHED LIMIT.\n",
      "\n",
      "Increase the number of iterations (max_iter) or scale the data as shown in:\n",
      "    https://scikit-learn.org/stable/modules/preprocessing.html\n",
      "Please also refer to the documentation for alternative solver options:\n",
      "    https://scikit-learn.org/stable/modules/linear_model.html#logistic-regression\n",
      "  n_iter_i = _check_optimize_result(\n",
      "C:\\Users\\Yashus G\\anaconda3\\lib\\site-packages\\sklearn\\linear_model\\_logistic.py:814: ConvergenceWarning: lbfgs failed to converge (status=1):\n",
      "STOP: TOTAL NO. of ITERATIONS REACHED LIMIT.\n",
      "\n",
      "Increase the number of iterations (max_iter) or scale the data as shown in:\n",
      "    https://scikit-learn.org/stable/modules/preprocessing.html\n",
      "Please also refer to the documentation for alternative solver options:\n",
      "    https://scikit-learn.org/stable/modules/linear_model.html#logistic-regression\n",
      "  n_iter_i = _check_optimize_result(\n",
      "C:\\Users\\Yashus G\\anaconda3\\lib\\site-packages\\sklearn\\linear_model\\_logistic.py:814: ConvergenceWarning: lbfgs failed to converge (status=1):\n",
      "STOP: TOTAL NO. of ITERATIONS REACHED LIMIT.\n",
      "\n",
      "Increase the number of iterations (max_iter) or scale the data as shown in:\n",
      "    https://scikit-learn.org/stable/modules/preprocessing.html\n",
      "Please also refer to the documentation for alternative solver options:\n",
      "    https://scikit-learn.org/stable/modules/linear_model.html#logistic-regression\n",
      "  n_iter_i = _check_optimize_result(\n",
      "C:\\Users\\Yashus G\\anaconda3\\lib\\site-packages\\sklearn\\linear_model\\_logistic.py:814: ConvergenceWarning: lbfgs failed to converge (status=1):\n",
      "STOP: TOTAL NO. of ITERATIONS REACHED LIMIT.\n",
      "\n",
      "Increase the number of iterations (max_iter) or scale the data as shown in:\n",
      "    https://scikit-learn.org/stable/modules/preprocessing.html\n",
      "Please also refer to the documentation for alternative solver options:\n",
      "    https://scikit-learn.org/stable/modules/linear_model.html#logistic-regression\n",
      "  n_iter_i = _check_optimize_result(\n",
      "C:\\Users\\Yashus G\\anaconda3\\lib\\site-packages\\sklearn\\linear_model\\_logistic.py:814: ConvergenceWarning: lbfgs failed to converge (status=1):\n",
      "STOP: TOTAL NO. of ITERATIONS REACHED LIMIT.\n",
      "\n",
      "Increase the number of iterations (max_iter) or scale the data as shown in:\n",
      "    https://scikit-learn.org/stable/modules/preprocessing.html\n",
      "Please also refer to the documentation for alternative solver options:\n",
      "    https://scikit-learn.org/stable/modules/linear_model.html#logistic-regression\n",
      "  n_iter_i = _check_optimize_result(\n",
      "C:\\Users\\Yashus G\\anaconda3\\lib\\site-packages\\sklearn\\linear_model\\_logistic.py:814: ConvergenceWarning: lbfgs failed to converge (status=1):\n",
      "STOP: TOTAL NO. of ITERATIONS REACHED LIMIT.\n",
      "\n",
      "Increase the number of iterations (max_iter) or scale the data as shown in:\n",
      "    https://scikit-learn.org/stable/modules/preprocessing.html\n",
      "Please also refer to the documentation for alternative solver options:\n",
      "    https://scikit-learn.org/stable/modules/linear_model.html#logistic-regression\n",
      "  n_iter_i = _check_optimize_result(\n",
      "C:\\Users\\Yashus G\\anaconda3\\lib\\site-packages\\sklearn\\linear_model\\_logistic.py:814: ConvergenceWarning: lbfgs failed to converge (status=1):\n",
      "STOP: TOTAL NO. of ITERATIONS REACHED LIMIT.\n",
      "\n",
      "Increase the number of iterations (max_iter) or scale the data as shown in:\n",
      "    https://scikit-learn.org/stable/modules/preprocessing.html\n",
      "Please also refer to the documentation for alternative solver options:\n",
      "    https://scikit-learn.org/stable/modules/linear_model.html#logistic-regression\n",
      "  n_iter_i = _check_optimize_result(\n",
      "C:\\Users\\Yashus G\\anaconda3\\lib\\site-packages\\sklearn\\linear_model\\_logistic.py:814: ConvergenceWarning: lbfgs failed to converge (status=1):\n",
      "STOP: TOTAL NO. of ITERATIONS REACHED LIMIT.\n",
      "\n",
      "Increase the number of iterations (max_iter) or scale the data as shown in:\n",
      "    https://scikit-learn.org/stable/modules/preprocessing.html\n",
      "Please also refer to the documentation for alternative solver options:\n",
      "    https://scikit-learn.org/stable/modules/linear_model.html#logistic-regression\n",
      "  n_iter_i = _check_optimize_result(\n",
      "C:\\Users\\Yashus G\\anaconda3\\lib\\site-packages\\sklearn\\linear_model\\_logistic.py:814: ConvergenceWarning: lbfgs failed to converge (status=1):\n",
      "STOP: TOTAL NO. of ITERATIONS REACHED LIMIT.\n",
      "\n",
      "Increase the number of iterations (max_iter) or scale the data as shown in:\n",
      "    https://scikit-learn.org/stable/modules/preprocessing.html\n",
      "Please also refer to the documentation for alternative solver options:\n",
      "    https://scikit-learn.org/stable/modules/linear_model.html#logistic-regression\n",
      "  n_iter_i = _check_optimize_result(\n",
      "C:\\Users\\Yashus G\\anaconda3\\lib\\site-packages\\sklearn\\linear_model\\_logistic.py:814: ConvergenceWarning: lbfgs failed to converge (status=1):\n",
      "STOP: TOTAL NO. of ITERATIONS REACHED LIMIT.\n",
      "\n",
      "Increase the number of iterations (max_iter) or scale the data as shown in:\n",
      "    https://scikit-learn.org/stable/modules/preprocessing.html\n",
      "Please also refer to the documentation for alternative solver options:\n",
      "    https://scikit-learn.org/stable/modules/linear_model.html#logistic-regression\n",
      "  n_iter_i = _check_optimize_result(\n",
      "C:\\Users\\Yashus G\\anaconda3\\lib\\site-packages\\sklearn\\linear_model\\_logistic.py:814: ConvergenceWarning: lbfgs failed to converge (status=1):\n",
      "STOP: TOTAL NO. of ITERATIONS REACHED LIMIT.\n",
      "\n",
      "Increase the number of iterations (max_iter) or scale the data as shown in:\n",
      "    https://scikit-learn.org/stable/modules/preprocessing.html\n",
      "Please also refer to the documentation for alternative solver options:\n",
      "    https://scikit-learn.org/stable/modules/linear_model.html#logistic-regression\n",
      "  n_iter_i = _check_optimize_result(\n",
      "C:\\Users\\Yashus G\\anaconda3\\lib\\site-packages\\sklearn\\linear_model\\_logistic.py:814: ConvergenceWarning: lbfgs failed to converge (status=1):\n",
      "STOP: TOTAL NO. of ITERATIONS REACHED LIMIT.\n",
      "\n",
      "Increase the number of iterations (max_iter) or scale the data as shown in:\n",
      "    https://scikit-learn.org/stable/modules/preprocessing.html\n",
      "Please also refer to the documentation for alternative solver options:\n",
      "    https://scikit-learn.org/stable/modules/linear_model.html#logistic-regression\n",
      "  n_iter_i = _check_optimize_result(\n",
      "C:\\Users\\Yashus G\\anaconda3\\lib\\site-packages\\sklearn\\linear_model\\_logistic.py:814: ConvergenceWarning: lbfgs failed to converge (status=1):\n",
      "STOP: TOTAL NO. of ITERATIONS REACHED LIMIT.\n",
      "\n",
      "Increase the number of iterations (max_iter) or scale the data as shown in:\n",
      "    https://scikit-learn.org/stable/modules/preprocessing.html\n",
      "Please also refer to the documentation for alternative solver options:\n",
      "    https://scikit-learn.org/stable/modules/linear_model.html#logistic-regression\n",
      "  n_iter_i = _check_optimize_result(\n",
      "C:\\Users\\Yashus G\\anaconda3\\lib\\site-packages\\sklearn\\linear_model\\_logistic.py:814: ConvergenceWarning: lbfgs failed to converge (status=1):\n",
      "STOP: TOTAL NO. of ITERATIONS REACHED LIMIT.\n",
      "\n",
      "Increase the number of iterations (max_iter) or scale the data as shown in:\n",
      "    https://scikit-learn.org/stable/modules/preprocessing.html\n",
      "Please also refer to the documentation for alternative solver options:\n",
      "    https://scikit-learn.org/stable/modules/linear_model.html#logistic-regression\n",
      "  n_iter_i = _check_optimize_result(\n",
      "C:\\Users\\Yashus G\\anaconda3\\lib\\site-packages\\sklearn\\linear_model\\_logistic.py:814: ConvergenceWarning: lbfgs failed to converge (status=1):\n",
      "STOP: TOTAL NO. of ITERATIONS REACHED LIMIT.\n",
      "\n",
      "Increase the number of iterations (max_iter) or scale the data as shown in:\n",
      "    https://scikit-learn.org/stable/modules/preprocessing.html\n",
      "Please also refer to the documentation for alternative solver options:\n",
      "    https://scikit-learn.org/stable/modules/linear_model.html#logistic-regression\n",
      "  n_iter_i = _check_optimize_result(\n",
      "C:\\Users\\Yashus G\\anaconda3\\lib\\site-packages\\sklearn\\linear_model\\_logistic.py:814: ConvergenceWarning: lbfgs failed to converge (status=1):\n",
      "STOP: TOTAL NO. of ITERATIONS REACHED LIMIT.\n",
      "\n",
      "Increase the number of iterations (max_iter) or scale the data as shown in:\n",
      "    https://scikit-learn.org/stable/modules/preprocessing.html\n",
      "Please also refer to the documentation for alternative solver options:\n",
      "    https://scikit-learn.org/stable/modules/linear_model.html#logistic-regression\n",
      "  n_iter_i = _check_optimize_result(\n",
      "C:\\Users\\Yashus G\\anaconda3\\lib\\site-packages\\sklearn\\linear_model\\_logistic.py:814: ConvergenceWarning: lbfgs failed to converge (status=1):\n",
      "STOP: TOTAL NO. of ITERATIONS REACHED LIMIT.\n",
      "\n",
      "Increase the number of iterations (max_iter) or scale the data as shown in:\n",
      "    https://scikit-learn.org/stable/modules/preprocessing.html\n",
      "Please also refer to the documentation for alternative solver options:\n",
      "    https://scikit-learn.org/stable/modules/linear_model.html#logistic-regression\n",
      "  n_iter_i = _check_optimize_result(\n",
      "C:\\Users\\Yashus G\\anaconda3\\lib\\site-packages\\sklearn\\linear_model\\_logistic.py:814: ConvergenceWarning: lbfgs failed to converge (status=1):\n",
      "STOP: TOTAL NO. of ITERATIONS REACHED LIMIT.\n",
      "\n",
      "Increase the number of iterations (max_iter) or scale the data as shown in:\n",
      "    https://scikit-learn.org/stable/modules/preprocessing.html\n",
      "Please also refer to the documentation for alternative solver options:\n",
      "    https://scikit-learn.org/stable/modules/linear_model.html#logistic-regression\n",
      "  n_iter_i = _check_optimize_result(\n"
     ]
    }
   ],
   "source": [
    "logreg= LogisticRegression()\n",
    "logreg.fit(X_train,y_train)\n",
    "rfe = RFE(logreg, n_features_to_select=20)\n",
    "rfe = rfe.fit(X_train, y_train)"
   ]
  },
  {
   "cell_type": "code",
   "execution_count": 2658,
   "id": "f12f468c",
   "metadata": {
    "scrolled": true
   },
   "outputs": [
    {
     "data": {
      "text/plain": [
       "[('Do Not Email', True, 1),\n",
       " ('Do Not Call', False, 17),\n",
       " ('TotalVisits', True, 1),\n",
       " ('Total Time Spent on Website', True, 1),\n",
       " ('Page Views Per Visit', True, 1),\n",
       " ('Search', False, 20),\n",
       " ('Magazine', False, 72),\n",
       " ('Newspaper Article', False, 14),\n",
       " ('X Education Forums', False, 56),\n",
       " ('Newspaper', False, 3),\n",
       " ('Digital Advertisement', False, 23),\n",
       " ('Through Recommendations', False, 22),\n",
       " ('Receive More Updates About Our Courses', False, 73),\n",
       " ('Update me on Supply Chain Content', False, 74),\n",
       " ('Get updates on DM Content', False, 77),\n",
       " ('I agree to pay the amount through cheque', False, 78),\n",
       " ('A free copy of Mastering The Interview', False, 66),\n",
       " ('LeadOrigin_Landing Page Submission', True, 1),\n",
       " ('LeadOrigin_Lead Add Form', True, 1),\n",
       " ('LeadOrigin_Lead Import', False, 54),\n",
       " ('LeadSource_Direct Traffic', False, 33),\n",
       " ('LeadSource_Facebook', False, 64),\n",
       " ('LeadSource_Google', False, 36),\n",
       " ('LeadSource_Live Chat', False, 39),\n",
       " ('LeadSource_NC_EDM', False, 7),\n",
       " ('LeadSource_Olark Chat', True, 1),\n",
       " ('LeadSource_Organic Search', False, 35),\n",
       " ('LeadSource_Pay per Click Ads', False, 44),\n",
       " ('LeadSource_Press_Release', False, 75),\n",
       " ('LeadSource_Reference', True, 1),\n",
       " ('LeadSource_Referral Sites', False, 34),\n",
       " ('LeadSource_Social Media', False, 15),\n",
       " ('LeadSource_WeLearn', False, 76),\n",
       " ('LeadSource_Welingak Website', True, 1),\n",
       " ('LeadSource_bing', False, 30),\n",
       " ('LeadSource_blog', False, 46),\n",
       " ('LeadSource_google', False, 47),\n",
       " ('LeadSource_testone', False, 42),\n",
       " ('LeadSource_welearnblog_Home', False, 57),\n",
       " ('LeadSource_youtubechannel', False, 55),\n",
       " ('LastActivity_Converted to Lead', False, 8),\n",
       " ('LastActivity_Email Bounced', False, 11),\n",
       " ('LastActivity_Email Link Clicked', False, 26),\n",
       " ('LastActivity_Email Marked Spam', False, 37),\n",
       " ('LastActivity_Email Opened', False, 50),\n",
       " ('LastActivity_Email Received', False, 58),\n",
       " ('LastActivity_Form Submitted on Website', False, 25),\n",
       " ('LastActivity_Had a Phone Conversation', True, 1),\n",
       " ('LastActivity_Olark Chat Conversation', True, 1),\n",
       " ('LastActivity_Page Visited on Website', False, 16),\n",
       " ('LastActivity_Resubscribed to emails', False, 13),\n",
       " ('LastActivity_SMS Sent', True, 1),\n",
       " ('LastActivity_Unreachable', False, 27),\n",
       " ('LastActivity_Unsubscribed', False, 45),\n",
       " ('LastActivity_View in browser link Clicked', False, 24),\n",
       " ('LastActivity_Visited Booth in Tradeshow', False, 59),\n",
       " ('Country_Other', False, 19),\n",
       " ('Country_United States', False, 41),\n",
       " ('Specialization_Business Administration', False, 53),\n",
       " ('Specialization_E-Business', False, 40),\n",
       " ('Specialization_E-COMMERCE', False, 38),\n",
       " ('Specialization_Finance Management', False, 62),\n",
       " ('Specialization_Healthcare Management', False, 69),\n",
       " ('Specialization_Hospitality Management', False, 2),\n",
       " ('Specialization_Human Resource Management', False, 52),\n",
       " ('Specialization_IT Projects Management', False, 68),\n",
       " ('Specialization_International Business', False, 49),\n",
       " ('Specialization_Marketing Management', False, 70),\n",
       " ('Specialization_Media and Advertising', False, 51),\n",
       " ('Specialization_Operations Management', False, 63),\n",
       " ('Specialization_Retail Management', False, 32),\n",
       " ('Specialization_Rural and Agribusiness', False, 61),\n",
       " ('Specialization_Services Excellence', False, 43),\n",
       " ('Specialization_Supply Chain Management', False, 60),\n",
       " ('Specialization_Travel and Tourism', False, 67),\n",
       " ('Specialization_Unknown', True, 1),\n",
       " ('CurrentOccupation_Housewife', True, 1),\n",
       " ('CurrentOccupation_Other', False, 6),\n",
       " ('CurrentOccupation_Student', False, 5),\n",
       " ('CurrentOccupation_Unemployed', False, 4),\n",
       " ('CurrentOccupation_Working Professional', True, 1),\n",
       " ('Outcome_Flexibility & Convenience', False, 21),\n",
       " ('Outcome_Other', True, 1),\n",
       " ('LastNotableActivity_Email Bounced', False, 18),\n",
       " ('LastNotableActivity_Email Link Clicked', False, 9),\n",
       " ('LastNotableActivity_Email Marked Spam', False, 31),\n",
       " ('LastNotableActivity_Email Opened', False, 12),\n",
       " ('LastNotableActivity_Email Received', False, 65),\n",
       " ('LastNotableActivity_Form Submitted on Website', False, 79),\n",
       " ('LastNotableActivity_Had a Phone Conversation', True, 1),\n",
       " ('LastNotableActivity_Modified', True, 1),\n",
       " ('LastNotableActivity_Olark Chat Conversation', False, 29),\n",
       " ('LastNotableActivity_Page Visited on Website', False, 10),\n",
       " ('LastNotableActivity_Resubscribed to emails', True, 1),\n",
       " ('LastNotableActivity_SMS Sent', False, 48),\n",
       " ('LastNotableActivity_Unreachable', True, 1),\n",
       " ('LastNotableActivity_Unsubscribed', False, 71),\n",
       " ('LastNotableActivity_View in browser link Clicked', False, 28)]"
      ]
     },
     "execution_count": 2658,
     "metadata": {},
     "output_type": "execute_result"
    }
   ],
   "source": [
    "list(zip(X_train.columns,rfe.support_,rfe.ranking_))"
   ]
  },
  {
   "cell_type": "code",
   "execution_count": 2659,
   "id": "18eaa862",
   "metadata": {},
   "outputs": [
    {
     "data": {
      "text/plain": [
       "Index(['Do Not Email', 'TotalVisits', 'Total Time Spent on Website',\n",
       "       'Page Views Per Visit', 'LeadOrigin_Landing Page Submission',\n",
       "       'LeadOrigin_Lead Add Form', 'LeadSource_Olark Chat',\n",
       "       'LeadSource_Reference', 'LeadSource_Welingak Website',\n",
       "       'LastActivity_Had a Phone Conversation',\n",
       "       'LastActivity_Olark Chat Conversation', 'LastActivity_SMS Sent',\n",
       "       'Specialization_Unknown', 'CurrentOccupation_Housewife',\n",
       "       'CurrentOccupation_Working Professional', 'Outcome_Other',\n",
       "       'LastNotableActivity_Had a Phone Conversation',\n",
       "       'LastNotableActivity_Modified',\n",
       "       'LastNotableActivity_Resubscribed to emails',\n",
       "       'LastNotableActivity_Unreachable'],\n",
       "      dtype='object')"
      ]
     },
     "execution_count": 2659,
     "metadata": {},
     "output_type": "execute_result"
    }
   ],
   "source": [
    "col = X_train.columns[rfe.support_] # to select the features where RFE has returned True\n",
    "col"
   ]
  },
  {
   "cell_type": "markdown",
   "id": "634344e6",
   "metadata": {},
   "source": [
    "## Building model using statsmodel, for the detailed statistics"
   ]
  },
  {
   "cell_type": "code",
   "execution_count": 2660,
   "id": "0f388878",
   "metadata": {},
   "outputs": [],
   "source": [
    "# Creating X_train dataframe with RFE selected variables\n",
    "X_train_rfe = X_train[col]"
   ]
  },
  {
   "cell_type": "code",
   "execution_count": 2661,
   "id": "fbc421d5",
   "metadata": {},
   "outputs": [],
   "source": [
    "import statsmodels.api as sm"
   ]
  },
  {
   "cell_type": "code",
   "execution_count": 2662,
   "id": "62834b44",
   "metadata": {},
   "outputs": [
    {
     "data": {
      "text/html": [
       "<table class=\"simpletable\">\n",
       "<caption>Generalized Linear Model Regression Results</caption>\n",
       "<tr>\n",
       "  <th>Dep. Variable:</th>       <td>Converted</td>    <th>  No. Observations:  </th>  <td>  6349</td> \n",
       "</tr>\n",
       "<tr>\n",
       "  <th>Model:</th>                  <td>GLM</td>       <th>  Df Residuals:      </th>  <td>  6328</td> \n",
       "</tr>\n",
       "<tr>\n",
       "  <th>Model Family:</th>        <td>Binomial</td>     <th>  Df Model:          </th>  <td>    20</td> \n",
       "</tr>\n",
       "<tr>\n",
       "  <th>Link Function:</th>         <td>Logit</td>      <th>  Scale:             </th> <td>  1.0000</td>\n",
       "</tr>\n",
       "<tr>\n",
       "  <th>Method:</th>                <td>IRLS</td>       <th>  Log-Likelihood:    </th> <td> -2510.0</td>\n",
       "</tr>\n",
       "<tr>\n",
       "  <th>Date:</th>            <td>Tue, 24 Jan 2023</td> <th>  Deviance:          </th> <td>  5020.1</td>\n",
       "</tr>\n",
       "<tr>\n",
       "  <th>Time:</th>                <td>17:40:20</td>     <th>  Pearson chi2:      </th> <td>6.18e+03</td>\n",
       "</tr>\n",
       "<tr>\n",
       "  <th>No. Iterations:</th>         <td>21</td>        <th>  Pseudo R-squ. (CS):</th>  <td>0.4166</td> \n",
       "</tr>\n",
       "<tr>\n",
       "  <th>Covariance Type:</th>     <td>nonrobust</td>    <th>                     </th>     <td> </td>   \n",
       "</tr>\n",
       "</table>\n",
       "<table class=\"simpletable\">\n",
       "<tr>\n",
       "                        <td></td>                          <th>coef</th>     <th>std err</th>      <th>z</th>      <th>P>|z|</th>  <th>[0.025</th>    <th>0.975]</th>  \n",
       "</tr>\n",
       "<tr>\n",
       "  <th>const</th>                                        <td>   -0.9491</td> <td>    0.153</td> <td>   -6.216</td> <td> 0.000</td> <td>   -1.248</td> <td>   -0.650</td>\n",
       "</tr>\n",
       "<tr>\n",
       "  <th>Do Not Email</th>                                 <td>   -1.4063</td> <td>    0.179</td> <td>   -7.844</td> <td> 0.000</td> <td>   -1.758</td> <td>   -1.055</td>\n",
       "</tr>\n",
       "<tr>\n",
       "  <th>TotalVisits</th>                                  <td>    2.7336</td> <td>    0.885</td> <td>    3.089</td> <td> 0.002</td> <td>    0.999</td> <td>    4.468</td>\n",
       "</tr>\n",
       "<tr>\n",
       "  <th>Total Time Spent on Website</th>                  <td>    4.5140</td> <td>    0.171</td> <td>   26.397</td> <td> 0.000</td> <td>    4.179</td> <td>    4.849</td>\n",
       "</tr>\n",
       "<tr>\n",
       "  <th>Page Views Per Visit</th>                         <td>   -1.5257</td> <td>    0.599</td> <td>   -2.547</td> <td> 0.011</td> <td>   -2.700</td> <td>   -0.352</td>\n",
       "</tr>\n",
       "<tr>\n",
       "  <th>LeadOrigin_Landing Page Submission</th>           <td>   -1.0070</td> <td>    0.129</td> <td>   -7.780</td> <td> 0.000</td> <td>   -1.261</td> <td>   -0.753</td>\n",
       "</tr>\n",
       "<tr>\n",
       "  <th>LeadOrigin_Lead Add Form</th>                     <td>    1.3188</td> <td>    0.914</td> <td>    1.442</td> <td> 0.149</td> <td>   -0.473</td> <td>    3.111</td>\n",
       "</tr>\n",
       "<tr>\n",
       "  <th>LeadSource_Olark Chat</th>                        <td>    1.1970</td> <td>    0.137</td> <td>    8.737</td> <td> 0.000</td> <td>    0.928</td> <td>    1.466</td>\n",
       "</tr>\n",
       "<tr>\n",
       "  <th>LeadSource_Reference</th>                         <td>    1.7517</td> <td>    0.935</td> <td>    1.873</td> <td> 0.061</td> <td>   -0.081</td> <td>    3.584</td>\n",
       "</tr>\n",
       "<tr>\n",
       "  <th>LeadSource_Welingak Website</th>                  <td>    3.9668</td> <td>    1.165</td> <td>    3.406</td> <td> 0.001</td> <td>    1.684</td> <td>    6.249</td>\n",
       "</tr>\n",
       "<tr>\n",
       "  <th>LastActivity_Had a Phone Conversation</th>        <td>    1.2507</td> <td>    0.867</td> <td>    1.442</td> <td> 0.149</td> <td>   -0.449</td> <td>    2.951</td>\n",
       "</tr>\n",
       "<tr>\n",
       "  <th>LastActivity_Olark Chat Conversation</th>         <td>   -1.0460</td> <td>    0.181</td> <td>   -5.787</td> <td> 0.000</td> <td>   -1.400</td> <td>   -0.692</td>\n",
       "</tr>\n",
       "<tr>\n",
       "  <th>LastActivity_SMS Sent</th>                        <td>    1.3388</td> <td>    0.077</td> <td>   17.313</td> <td> 0.000</td> <td>    1.187</td> <td>    1.490</td>\n",
       "</tr>\n",
       "<tr>\n",
       "  <th>Specialization_Unknown</th>                       <td>   -1.0069</td> <td>    0.128</td> <td>   -7.893</td> <td> 0.000</td> <td>   -1.257</td> <td>   -0.757</td>\n",
       "</tr>\n",
       "<tr>\n",
       "  <th>CurrentOccupation_Housewife</th>                  <td>   22.6903</td> <td> 1.44e+04</td> <td>    0.002</td> <td> 0.999</td> <td>-2.82e+04</td> <td> 2.82e+04</td>\n",
       "</tr>\n",
       "<tr>\n",
       "  <th>CurrentOccupation_Working Professional</th>       <td>    2.4779</td> <td>    0.196</td> <td>   12.630</td> <td> 0.000</td> <td>    2.093</td> <td>    2.862</td>\n",
       "</tr>\n",
       "<tr>\n",
       "  <th>Outcome_Other</th>                                <td>   -1.1349</td> <td>    0.090</td> <td>  -12.593</td> <td> 0.000</td> <td>   -1.312</td> <td>   -0.958</td>\n",
       "</tr>\n",
       "<tr>\n",
       "  <th>LastNotableActivity_Had a Phone Conversation</th> <td>    1.7440</td> <td>    1.460</td> <td>    1.195</td> <td> 0.232</td> <td>   -1.118</td> <td>    4.606</td>\n",
       "</tr>\n",
       "<tr>\n",
       "  <th>LastNotableActivity_Modified</th>                 <td>   -0.7714</td> <td>    0.084</td> <td>   -9.187</td> <td> 0.000</td> <td>   -0.936</td> <td>   -0.607</td>\n",
       "</tr>\n",
       "<tr>\n",
       "  <th>LastNotableActivity_Resubscribed to emails</th>   <td>   24.4600</td> <td> 4.82e+04</td> <td>    0.001</td> <td> 1.000</td> <td>-9.44e+04</td> <td> 9.45e+04</td>\n",
       "</tr>\n",
       "<tr>\n",
       "  <th>LastNotableActivity_Unreachable</th>              <td>    1.5080</td> <td>    0.510</td> <td>    2.957</td> <td> 0.003</td> <td>    0.509</td> <td>    2.507</td>\n",
       "</tr>\n",
       "</table>"
      ],
      "text/plain": [
       "<class 'statsmodels.iolib.summary.Summary'>\n",
       "\"\"\"\n",
       "                 Generalized Linear Model Regression Results                  \n",
       "==============================================================================\n",
       "Dep. Variable:              Converted   No. Observations:                 6349\n",
       "Model:                            GLM   Df Residuals:                     6328\n",
       "Model Family:                Binomial   Df Model:                           20\n",
       "Link Function:                  Logit   Scale:                          1.0000\n",
       "Method:                          IRLS   Log-Likelihood:                -2510.0\n",
       "Date:                Tue, 24 Jan 2023   Deviance:                       5020.1\n",
       "Time:                        17:40:20   Pearson chi2:                 6.18e+03\n",
       "No. Iterations:                    21   Pseudo R-squ. (CS):             0.4166\n",
       "Covariance Type:            nonrobust                                         \n",
       "================================================================================================================\n",
       "                                                   coef    std err          z      P>|z|      [0.025      0.975]\n",
       "----------------------------------------------------------------------------------------------------------------\n",
       "const                                           -0.9491      0.153     -6.216      0.000      -1.248      -0.650\n",
       "Do Not Email                                    -1.4063      0.179     -7.844      0.000      -1.758      -1.055\n",
       "TotalVisits                                      2.7336      0.885      3.089      0.002       0.999       4.468\n",
       "Total Time Spent on Website                      4.5140      0.171     26.397      0.000       4.179       4.849\n",
       "Page Views Per Visit                            -1.5257      0.599     -2.547      0.011      -2.700      -0.352\n",
       "LeadOrigin_Landing Page Submission              -1.0070      0.129     -7.780      0.000      -1.261      -0.753\n",
       "LeadOrigin_Lead Add Form                         1.3188      0.914      1.442      0.149      -0.473       3.111\n",
       "LeadSource_Olark Chat                            1.1970      0.137      8.737      0.000       0.928       1.466\n",
       "LeadSource_Reference                             1.7517      0.935      1.873      0.061      -0.081       3.584\n",
       "LeadSource_Welingak Website                      3.9668      1.165      3.406      0.001       1.684       6.249\n",
       "LastActivity_Had a Phone Conversation            1.2507      0.867      1.442      0.149      -0.449       2.951\n",
       "LastActivity_Olark Chat Conversation            -1.0460      0.181     -5.787      0.000      -1.400      -0.692\n",
       "LastActivity_SMS Sent                            1.3388      0.077     17.313      0.000       1.187       1.490\n",
       "Specialization_Unknown                          -1.0069      0.128     -7.893      0.000      -1.257      -0.757\n",
       "CurrentOccupation_Housewife                     22.6903   1.44e+04      0.002      0.999   -2.82e+04    2.82e+04\n",
       "CurrentOccupation_Working Professional           2.4779      0.196     12.630      0.000       2.093       2.862\n",
       "Outcome_Other                                   -1.1349      0.090    -12.593      0.000      -1.312      -0.958\n",
       "LastNotableActivity_Had a Phone Conversation     1.7440      1.460      1.195      0.232      -1.118       4.606\n",
       "LastNotableActivity_Modified                    -0.7714      0.084     -9.187      0.000      -0.936      -0.607\n",
       "LastNotableActivity_Resubscribed to emails      24.4600   4.82e+04      0.001      1.000   -9.44e+04    9.45e+04\n",
       "LastNotableActivity_Unreachable                  1.5080      0.510      2.957      0.003       0.509       2.507\n",
       "================================================================================================================\n",
       "\"\"\""
      ]
     },
     "execution_count": 2662,
     "metadata": {},
     "output_type": "execute_result"
    }
   ],
   "source": [
    "logm1 = sm.GLM(y_train,(sm.add_constant(X_train_rfe)), family = sm.families.Binomial())\n",
    "logm1.fit().summary()"
   ]
  },
  {
   "cell_type": "code",
   "execution_count": 2663,
   "id": "d992fd4b",
   "metadata": {},
   "outputs": [],
   "source": [
    "from sklearn.metrics import accuracy_score,classification_report,confusion_matrix"
   ]
  },
  {
   "cell_type": "code",
   "execution_count": 2664,
   "id": "d15b0a70",
   "metadata": {},
   "outputs": [],
   "source": [
    "logreg.fit(X_train_rfe,y_train)\n",
    "y_pred = logreg.predict(X_train_rfe)"
   ]
  },
  {
   "cell_type": "code",
   "execution_count": 2665,
   "id": "e47935b3",
   "metadata": {},
   "outputs": [
    {
     "data": {
      "text/plain": [
       "0.8177665774137659"
      ]
     },
     "execution_count": 2665,
     "metadata": {},
     "output_type": "execute_result"
    }
   ],
   "source": [
    "accuracy_score(y_train,y_pred) #Train set accuracy"
   ]
  },
  {
   "cell_type": "code",
   "execution_count": 2666,
   "id": "65adfa86",
   "metadata": {},
   "outputs": [
    {
     "name": "stdout",
     "output_type": "stream",
     "text": [
      "              precision    recall  f1-score   support\n",
      "\n",
      "         0.0       0.83      0.89      0.86      3927\n",
      "         1.0       0.79      0.71      0.75      2422\n",
      "\n",
      "    accuracy                           0.82      6349\n",
      "   macro avg       0.81      0.80      0.80      6349\n",
      "weighted avg       0.82      0.82      0.82      6349\n",
      "\n"
     ]
    }
   ],
   "source": [
    "print(classification_report(y_train,y_pred))"
   ]
  },
  {
   "cell_type": "markdown",
   "id": "7c253dc5",
   "metadata": {},
   "source": [
    "#### Checking VIFs"
   ]
  },
  {
   "cell_type": "code",
   "execution_count": 2667,
   "id": "d41d6b85",
   "metadata": {},
   "outputs": [],
   "source": [
    "# Check for the VIF values of the feature variables. \n",
    "from statsmodels.stats.outliers_influence import variance_inflation_factor"
   ]
  },
  {
   "cell_type": "code",
   "execution_count": 2668,
   "id": "23a7c177",
   "metadata": {},
   "outputs": [
    {
     "data": {
      "text/html": [
       "<div>\n",
       "<style scoped>\n",
       "    .dataframe tbody tr th:only-of-type {\n",
       "        vertical-align: middle;\n",
       "    }\n",
       "\n",
       "    .dataframe tbody tr th {\n",
       "        vertical-align: top;\n",
       "    }\n",
       "\n",
       "    .dataframe thead th {\n",
       "        text-align: right;\n",
       "    }\n",
       "</style>\n",
       "<table border=\"1\" class=\"dataframe\">\n",
       "  <thead>\n",
       "    <tr style=\"text-align: right;\">\n",
       "      <th></th>\n",
       "      <th>Features</th>\n",
       "      <th>VIF</th>\n",
       "    </tr>\n",
       "  </thead>\n",
       "  <tbody>\n",
       "    <tr>\n",
       "      <th>5</th>\n",
       "      <td>LeadOrigin_Lead Add Form</td>\n",
       "      <td>59.96</td>\n",
       "    </tr>\n",
       "    <tr>\n",
       "      <th>7</th>\n",
       "      <td>LeadSource_Reference</td>\n",
       "      <td>47.50</td>\n",
       "    </tr>\n",
       "    <tr>\n",
       "      <th>8</th>\n",
       "      <td>LeadSource_Welingak Website</td>\n",
       "      <td>13.64</td>\n",
       "    </tr>\n",
       "    <tr>\n",
       "      <th>3</th>\n",
       "      <td>Page Views Per Visit</td>\n",
       "      <td>4.88</td>\n",
       "    </tr>\n",
       "    <tr>\n",
       "      <th>4</th>\n",
       "      <td>LeadOrigin_Landing Page Submission</td>\n",
       "      <td>3.57</td>\n",
       "    </tr>\n",
       "    <tr>\n",
       "      <th>1</th>\n",
       "      <td>TotalVisits</td>\n",
       "      <td>3.38</td>\n",
       "    </tr>\n",
       "    <tr>\n",
       "      <th>12</th>\n",
       "      <td>Specialization_Unknown</td>\n",
       "      <td>2.73</td>\n",
       "    </tr>\n",
       "    <tr>\n",
       "      <th>16</th>\n",
       "      <td>LastNotableActivity_Had a Phone Conversation</td>\n",
       "      <td>2.26</td>\n",
       "    </tr>\n",
       "    <tr>\n",
       "      <th>9</th>\n",
       "      <td>LastActivity_Had a Phone Conversation</td>\n",
       "      <td>2.26</td>\n",
       "    </tr>\n",
       "    <tr>\n",
       "      <th>2</th>\n",
       "      <td>Total Time Spent on Website</td>\n",
       "      <td>2.13</td>\n",
       "    </tr>\n",
       "    <tr>\n",
       "      <th>6</th>\n",
       "      <td>LeadSource_Olark Chat</td>\n",
       "      <td>2.09</td>\n",
       "    </tr>\n",
       "    <tr>\n",
       "      <th>17</th>\n",
       "      <td>LastNotableActivity_Modified</td>\n",
       "      <td>1.79</td>\n",
       "    </tr>\n",
       "    <tr>\n",
       "      <th>15</th>\n",
       "      <td>Outcome_Other</td>\n",
       "      <td>1.65</td>\n",
       "    </tr>\n",
       "    <tr>\n",
       "      <th>11</th>\n",
       "      <td>LastActivity_SMS Sent</td>\n",
       "      <td>1.60</td>\n",
       "    </tr>\n",
       "    <tr>\n",
       "      <th>10</th>\n",
       "      <td>LastActivity_Olark Chat Conversation</td>\n",
       "      <td>1.59</td>\n",
       "    </tr>\n",
       "    <tr>\n",
       "      <th>14</th>\n",
       "      <td>CurrentOccupation_Working Professional</td>\n",
       "      <td>1.22</td>\n",
       "    </tr>\n",
       "    <tr>\n",
       "      <th>0</th>\n",
       "      <td>Do Not Email</td>\n",
       "      <td>1.12</td>\n",
       "    </tr>\n",
       "    <tr>\n",
       "      <th>13</th>\n",
       "      <td>CurrentOccupation_Housewife</td>\n",
       "      <td>1.01</td>\n",
       "    </tr>\n",
       "    <tr>\n",
       "      <th>19</th>\n",
       "      <td>LastNotableActivity_Unreachable</td>\n",
       "      <td>1.01</td>\n",
       "    </tr>\n",
       "    <tr>\n",
       "      <th>18</th>\n",
       "      <td>LastNotableActivity_Resubscribed to emails</td>\n",
       "      <td>1.00</td>\n",
       "    </tr>\n",
       "  </tbody>\n",
       "</table>\n",
       "</div>"
      ],
      "text/plain": [
       "                                        Features    VIF\n",
       "5                       LeadOrigin_Lead Add Form  59.96\n",
       "7                           LeadSource_Reference  47.50\n",
       "8                    LeadSource_Welingak Website  13.64\n",
       "3                           Page Views Per Visit   4.88\n",
       "4             LeadOrigin_Landing Page Submission   3.57\n",
       "1                                    TotalVisits   3.38\n",
       "12                        Specialization_Unknown   2.73\n",
       "16  LastNotableActivity_Had a Phone Conversation   2.26\n",
       "9          LastActivity_Had a Phone Conversation   2.26\n",
       "2                    Total Time Spent on Website   2.13\n",
       "6                          LeadSource_Olark Chat   2.09\n",
       "17                  LastNotableActivity_Modified   1.79\n",
       "15                                 Outcome_Other   1.65\n",
       "11                         LastActivity_SMS Sent   1.60\n",
       "10          LastActivity_Olark Chat Conversation   1.59\n",
       "14        CurrentOccupation_Working Professional   1.22\n",
       "0                                   Do Not Email   1.12\n",
       "13                   CurrentOccupation_Housewife   1.01\n",
       "19               LastNotableActivity_Unreachable   1.01\n",
       "18    LastNotableActivity_Resubscribed to emails   1.00"
      ]
     },
     "execution_count": 2668,
     "metadata": {},
     "output_type": "execute_result"
    }
   ],
   "source": [
    "# Create a dataframe that will contain the names of all the feature variables and their respective VIFs\n",
    "vif = pd.DataFrame()\n",
    "vif['Features'] = X_train[col].columns\n",
    "vif['VIF'] = [variance_inflation_factor(X_train[col].values, i) for i in range(X_train[col].shape[1])]\n",
    "vif['VIF'] = round(vif['VIF'], 2)\n",
    "vif = vif.sort_values(by = \"VIF\", ascending = False)\n",
    "vif"
   ]
  },
  {
   "cell_type": "markdown",
   "id": "27bd2d3d",
   "metadata": {},
   "source": [
    "There are a few variables with high VIF. It's best to drop these variables as they aren't helping much with prediction and unnecessarily making the model complex. The variable 'LeadOrigin_Lead Add Form' has the highest VIF. So let's start by dropping that."
   ]
  },
  {
   "cell_type": "code",
   "execution_count": 2669,
   "id": "5e3e3a7f",
   "metadata": {},
   "outputs": [
    {
     "data": {
      "text/plain": [
       "Index(['Do Not Email', 'TotalVisits', 'Total Time Spent on Website',\n",
       "       'Page Views Per Visit', 'LeadOrigin_Landing Page Submission',\n",
       "       'LeadSource_Olark Chat', 'LeadSource_Reference',\n",
       "       'LeadSource_Welingak Website', 'LastActivity_Had a Phone Conversation',\n",
       "       'LastActivity_Olark Chat Conversation', 'LastActivity_SMS Sent',\n",
       "       'Specialization_Unknown', 'CurrentOccupation_Housewife',\n",
       "       'CurrentOccupation_Working Professional', 'Outcome_Other',\n",
       "       'LastNotableActivity_Had a Phone Conversation',\n",
       "       'LastNotableActivity_Modified',\n",
       "       'LastNotableActivity_Resubscribed to emails',\n",
       "       'LastNotableActivity_Unreachable'],\n",
       "      dtype='object')"
      ]
     },
     "execution_count": 2669,
     "metadata": {},
     "output_type": "execute_result"
    }
   ],
   "source": [
    "col=col.drop(\"LeadOrigin_Lead Add Form\",1)\n",
    "col"
   ]
  },
  {
   "cell_type": "code",
   "execution_count": 2670,
   "id": "75efbeaf",
   "metadata": {},
   "outputs": [
    {
     "data": {
      "text/html": [
       "<table class=\"simpletable\">\n",
       "<caption>Generalized Linear Model Regression Results</caption>\n",
       "<tr>\n",
       "  <th>Dep. Variable:</th>       <td>Converted</td>    <th>  No. Observations:  </th>  <td>  6349</td> \n",
       "</tr>\n",
       "<tr>\n",
       "  <th>Model:</th>                  <td>GLM</td>       <th>  Df Residuals:      </th>  <td>  6329</td> \n",
       "</tr>\n",
       "<tr>\n",
       "  <th>Model Family:</th>        <td>Binomial</td>     <th>  Df Model:          </th>  <td>    19</td> \n",
       "</tr>\n",
       "<tr>\n",
       "  <th>Link Function:</th>         <td>Logit</td>      <th>  Scale:             </th> <td>  1.0000</td>\n",
       "</tr>\n",
       "<tr>\n",
       "  <th>Method:</th>                <td>IRLS</td>       <th>  Log-Likelihood:    </th> <td> -2511.2</td>\n",
       "</tr>\n",
       "<tr>\n",
       "  <th>Date:</th>            <td>Tue, 24 Jan 2023</td> <th>  Deviance:          </th> <td>  5022.4</td>\n",
       "</tr>\n",
       "<tr>\n",
       "  <th>Time:</th>                <td>17:40:21</td>     <th>  Pearson chi2:      </th> <td>6.18e+03</td>\n",
       "</tr>\n",
       "<tr>\n",
       "  <th>No. Iterations:</th>         <td>21</td>        <th>  Pseudo R-squ. (CS):</th>  <td>0.4164</td> \n",
       "</tr>\n",
       "<tr>\n",
       "  <th>Covariance Type:</th>     <td>nonrobust</td>    <th>                     </th>     <td> </td>   \n",
       "</tr>\n",
       "</table>\n",
       "<table class=\"simpletable\">\n",
       "<tr>\n",
       "                        <td></td>                          <th>coef</th>     <th>std err</th>      <th>z</th>      <th>P>|z|</th>  <th>[0.025</th>    <th>0.975]</th>  \n",
       "</tr>\n",
       "<tr>\n",
       "  <th>const</th>                                        <td>   -0.9260</td> <td>    0.152</td> <td>   -6.097</td> <td> 0.000</td> <td>   -1.224</td> <td>   -0.628</td>\n",
       "</tr>\n",
       "<tr>\n",
       "  <th>Do Not Email</th>                                 <td>   -1.4076</td> <td>    0.179</td> <td>   -7.853</td> <td> 0.000</td> <td>   -1.759</td> <td>   -1.056</td>\n",
       "</tr>\n",
       "<tr>\n",
       "  <th>TotalVisits</th>                                  <td>    2.7108</td> <td>    0.885</td> <td>    3.064</td> <td> 0.002</td> <td>    0.977</td> <td>    4.445</td>\n",
       "</tr>\n",
       "<tr>\n",
       "  <th>Total Time Spent on Website</th>                  <td>    4.5079</td> <td>    0.171</td> <td>   26.392</td> <td> 0.000</td> <td>    4.173</td> <td>    4.843</td>\n",
       "</tr>\n",
       "<tr>\n",
       "  <th>Page Views Per Visit</th>                         <td>   -1.5566</td> <td>    0.599</td> <td>   -2.599</td> <td> 0.009</td> <td>   -2.730</td> <td>   -0.383</td>\n",
       "</tr>\n",
       "<tr>\n",
       "  <th>LeadOrigin_Landing Page Submission</th>           <td>   -1.0215</td> <td>    0.129</td> <td>   -7.912</td> <td> 0.000</td> <td>   -1.275</td> <td>   -0.768</td>\n",
       "</tr>\n",
       "<tr>\n",
       "  <th>LeadSource_Olark Chat</th>                        <td>    1.1869</td> <td>    0.137</td> <td>    8.687</td> <td> 0.000</td> <td>    0.919</td> <td>    1.455</td>\n",
       "</tr>\n",
       "<tr>\n",
       "  <th>LeadSource_Reference</th>                         <td>    3.0527</td> <td>    0.246</td> <td>   12.395</td> <td> 0.000</td> <td>    2.570</td> <td>    3.535</td>\n",
       "</tr>\n",
       "<tr>\n",
       "  <th>LeadSource_Welingak Website</th>                  <td>    5.2727</td> <td>    0.733</td> <td>    7.198</td> <td> 0.000</td> <td>    3.837</td> <td>    6.708</td>\n",
       "</tr>\n",
       "<tr>\n",
       "  <th>LastActivity_Had a Phone Conversation</th>        <td>    1.2486</td> <td>    0.867</td> <td>    1.440</td> <td> 0.150</td> <td>   -0.451</td> <td>    2.948</td>\n",
       "</tr>\n",
       "<tr>\n",
       "  <th>LastActivity_Olark Chat Conversation</th>         <td>   -1.0491</td> <td>    0.181</td> <td>   -5.805</td> <td> 0.000</td> <td>   -1.403</td> <td>   -0.695</td>\n",
       "</tr>\n",
       "<tr>\n",
       "  <th>LastActivity_SMS Sent</th>                        <td>    1.3394</td> <td>    0.077</td> <td>   17.322</td> <td> 0.000</td> <td>    1.188</td> <td>    1.491</td>\n",
       "</tr>\n",
       "<tr>\n",
       "  <th>Specialization_Unknown</th>                       <td>   -1.0170</td> <td>    0.127</td> <td>   -7.983</td> <td> 0.000</td> <td>   -1.267</td> <td>   -0.767</td>\n",
       "</tr>\n",
       "<tr>\n",
       "  <th>CurrentOccupation_Housewife</th>                  <td>   22.6862</td> <td> 1.44e+04</td> <td>    0.002</td> <td> 0.999</td> <td>-2.82e+04</td> <td> 2.82e+04</td>\n",
       "</tr>\n",
       "<tr>\n",
       "  <th>CurrentOccupation_Working Professional</th>       <td>    2.4745</td> <td>    0.196</td> <td>   12.612</td> <td> 0.000</td> <td>    2.090</td> <td>    2.859</td>\n",
       "</tr>\n",
       "<tr>\n",
       "  <th>Outcome_Other</th>                                <td>   -1.1371</td> <td>    0.090</td> <td>  -12.622</td> <td> 0.000</td> <td>   -1.314</td> <td>   -0.961</td>\n",
       "</tr>\n",
       "<tr>\n",
       "  <th>LastNotableActivity_Had a Phone Conversation</th> <td>    1.7438</td> <td>    1.460</td> <td>    1.194</td> <td> 0.232</td> <td>   -1.118</td> <td>    4.606</td>\n",
       "</tr>\n",
       "<tr>\n",
       "  <th>LastNotableActivity_Modified</th>                 <td>   -0.7726</td> <td>    0.084</td> <td>   -9.205</td> <td> 0.000</td> <td>   -0.937</td> <td>   -0.608</td>\n",
       "</tr>\n",
       "<tr>\n",
       "  <th>LastNotableActivity_Resubscribed to emails</th>   <td>   24.4593</td> <td> 4.82e+04</td> <td>    0.001</td> <td> 1.000</td> <td>-9.44e+04</td> <td> 9.45e+04</td>\n",
       "</tr>\n",
       "<tr>\n",
       "  <th>LastNotableActivity_Unreachable</th>              <td>    1.5059</td> <td>    0.510</td> <td>    2.952</td> <td> 0.003</td> <td>    0.506</td> <td>    2.506</td>\n",
       "</tr>\n",
       "</table>"
      ],
      "text/plain": [
       "<class 'statsmodels.iolib.summary.Summary'>\n",
       "\"\"\"\n",
       "                 Generalized Linear Model Regression Results                  \n",
       "==============================================================================\n",
       "Dep. Variable:              Converted   No. Observations:                 6349\n",
       "Model:                            GLM   Df Residuals:                     6329\n",
       "Model Family:                Binomial   Df Model:                           19\n",
       "Link Function:                  Logit   Scale:                          1.0000\n",
       "Method:                          IRLS   Log-Likelihood:                -2511.2\n",
       "Date:                Tue, 24 Jan 2023   Deviance:                       5022.4\n",
       "Time:                        17:40:21   Pearson chi2:                 6.18e+03\n",
       "No. Iterations:                    21   Pseudo R-squ. (CS):             0.4164\n",
       "Covariance Type:            nonrobust                                         \n",
       "================================================================================================================\n",
       "                                                   coef    std err          z      P>|z|      [0.025      0.975]\n",
       "----------------------------------------------------------------------------------------------------------------\n",
       "const                                           -0.9260      0.152     -6.097      0.000      -1.224      -0.628\n",
       "Do Not Email                                    -1.4076      0.179     -7.853      0.000      -1.759      -1.056\n",
       "TotalVisits                                      2.7108      0.885      3.064      0.002       0.977       4.445\n",
       "Total Time Spent on Website                      4.5079      0.171     26.392      0.000       4.173       4.843\n",
       "Page Views Per Visit                            -1.5566      0.599     -2.599      0.009      -2.730      -0.383\n",
       "LeadOrigin_Landing Page Submission              -1.0215      0.129     -7.912      0.000      -1.275      -0.768\n",
       "LeadSource_Olark Chat                            1.1869      0.137      8.687      0.000       0.919       1.455\n",
       "LeadSource_Reference                             3.0527      0.246     12.395      0.000       2.570       3.535\n",
       "LeadSource_Welingak Website                      5.2727      0.733      7.198      0.000       3.837       6.708\n",
       "LastActivity_Had a Phone Conversation            1.2486      0.867      1.440      0.150      -0.451       2.948\n",
       "LastActivity_Olark Chat Conversation            -1.0491      0.181     -5.805      0.000      -1.403      -0.695\n",
       "LastActivity_SMS Sent                            1.3394      0.077     17.322      0.000       1.188       1.491\n",
       "Specialization_Unknown                          -1.0170      0.127     -7.983      0.000      -1.267      -0.767\n",
       "CurrentOccupation_Housewife                     22.6862   1.44e+04      0.002      0.999   -2.82e+04    2.82e+04\n",
       "CurrentOccupation_Working Professional           2.4745      0.196     12.612      0.000       2.090       2.859\n",
       "Outcome_Other                                   -1.1371      0.090    -12.622      0.000      -1.314      -0.961\n",
       "LastNotableActivity_Had a Phone Conversation     1.7438      1.460      1.194      0.232      -1.118       4.606\n",
       "LastNotableActivity_Modified                    -0.7726      0.084     -9.205      0.000      -0.937      -0.608\n",
       "LastNotableActivity_Resubscribed to emails      24.4593   4.82e+04      0.001      1.000   -9.44e+04    9.45e+04\n",
       "LastNotableActivity_Unreachable                  1.5059      0.510      2.952      0.003       0.506       2.506\n",
       "================================================================================================================\n",
       "\"\"\""
      ]
     },
     "execution_count": 2670,
     "metadata": {},
     "output_type": "execute_result"
    }
   ],
   "source": [
    "# Re-running the model using the selected variables\n",
    "X_train_sm = sm.add_constant(X_train[col])\n",
    "logm3 = sm.GLM(y_train,X_train_sm, family = sm.families.Binomial())\n",
    "res = logm3.fit()\n",
    "res.summary()"
   ]
  },
  {
   "cell_type": "markdown",
   "id": "70e63184",
   "metadata": {},
   "source": [
    "#### The Column \"LastNotableActivity_Resubscribed to emails\" has a high P-value denoting that it is not statistically significant towards the model prediction, Thus dropping this column"
   ]
  },
  {
   "cell_type": "code",
   "execution_count": 2671,
   "id": "518c9bcf",
   "metadata": {},
   "outputs": [
    {
     "data": {
      "text/plain": [
       "Index(['Do Not Email', 'TotalVisits', 'Total Time Spent on Website',\n",
       "       'Page Views Per Visit', 'LeadOrigin_Landing Page Submission',\n",
       "       'LeadSource_Olark Chat', 'LeadSource_Reference',\n",
       "       'LeadSource_Welingak Website', 'LastActivity_Had a Phone Conversation',\n",
       "       'LastActivity_Olark Chat Conversation', 'LastActivity_SMS Sent',\n",
       "       'Specialization_Unknown', 'CurrentOccupation_Housewife',\n",
       "       'CurrentOccupation_Working Professional', 'Outcome_Other',\n",
       "       'LastNotableActivity_Had a Phone Conversation',\n",
       "       'LastNotableActivity_Modified', 'LastNotableActivity_Unreachable'],\n",
       "      dtype='object')"
      ]
     },
     "execution_count": 2671,
     "metadata": {},
     "output_type": "execute_result"
    }
   ],
   "source": [
    "col=col.drop(\"LastNotableActivity_Resubscribed to emails\",1)\n",
    "col"
   ]
  },
  {
   "cell_type": "code",
   "execution_count": 2672,
   "id": "eec64338",
   "metadata": {},
   "outputs": [
    {
     "data": {
      "text/html": [
       "<table class=\"simpletable\">\n",
       "<caption>Generalized Linear Model Regression Results</caption>\n",
       "<tr>\n",
       "  <th>Dep. Variable:</th>       <td>Converted</td>    <th>  No. Observations:  </th>  <td>  6349</td> \n",
       "</tr>\n",
       "<tr>\n",
       "  <th>Model:</th>                  <td>GLM</td>       <th>  Df Residuals:      </th>  <td>  6330</td> \n",
       "</tr>\n",
       "<tr>\n",
       "  <th>Model Family:</th>        <td>Binomial</td>     <th>  Df Model:          </th>  <td>    18</td> \n",
       "</tr>\n",
       "<tr>\n",
       "  <th>Link Function:</th>         <td>Logit</td>      <th>  Scale:             </th> <td>  1.0000</td>\n",
       "</tr>\n",
       "<tr>\n",
       "  <th>Method:</th>                <td>IRLS</td>       <th>  Log-Likelihood:    </th> <td> -2513.2</td>\n",
       "</tr>\n",
       "<tr>\n",
       "  <th>Date:</th>            <td>Tue, 24 Jan 2023</td> <th>  Deviance:          </th> <td>  5026.4</td>\n",
       "</tr>\n",
       "<tr>\n",
       "  <th>Time:</th>                <td>17:40:21</td>     <th>  Pearson chi2:      </th> <td>6.19e+03</td>\n",
       "</tr>\n",
       "<tr>\n",
       "  <th>No. Iterations:</th>         <td>21</td>        <th>  Pseudo R-squ. (CS):</th>  <td>0.4160</td> \n",
       "</tr>\n",
       "<tr>\n",
       "  <th>Covariance Type:</th>     <td>nonrobust</td>    <th>                     </th>     <td> </td>   \n",
       "</tr>\n",
       "</table>\n",
       "<table class=\"simpletable\">\n",
       "<tr>\n",
       "                        <td></td>                          <th>coef</th>     <th>std err</th>      <th>z</th>      <th>P>|z|</th>  <th>[0.025</th>    <th>0.975]</th>  \n",
       "</tr>\n",
       "<tr>\n",
       "  <th>const</th>                                        <td>   -0.9263</td> <td>    0.152</td> <td>   -6.100</td> <td> 0.000</td> <td>   -1.224</td> <td>   -0.629</td>\n",
       "</tr>\n",
       "<tr>\n",
       "  <th>Do Not Email</th>                                 <td>   -1.4079</td> <td>    0.179</td> <td>   -7.856</td> <td> 0.000</td> <td>   -1.759</td> <td>   -1.057</td>\n",
       "</tr>\n",
       "<tr>\n",
       "  <th>TotalVisits</th>                                  <td>    2.7059</td> <td>    0.885</td> <td>    3.059</td> <td> 0.002</td> <td>    0.972</td> <td>    4.440</td>\n",
       "</tr>\n",
       "<tr>\n",
       "  <th>Total Time Spent on Website</th>                  <td>    4.5065</td> <td>    0.171</td> <td>   26.390</td> <td> 0.000</td> <td>    4.172</td> <td>    4.841</td>\n",
       "</tr>\n",
       "<tr>\n",
       "  <th>Page Views Per Visit</th>                         <td>   -1.5555</td> <td>    0.599</td> <td>   -2.598</td> <td> 0.009</td> <td>   -2.729</td> <td>   -0.382</td>\n",
       "</tr>\n",
       "<tr>\n",
       "  <th>LeadOrigin_Landing Page Submission</th>           <td>   -1.0203</td> <td>    0.129</td> <td>   -7.904</td> <td> 0.000</td> <td>   -1.273</td> <td>   -0.767</td>\n",
       "</tr>\n",
       "<tr>\n",
       "  <th>LeadSource_Olark Chat</th>                        <td>    1.1921</td> <td>    0.137</td> <td>    8.729</td> <td> 0.000</td> <td>    0.924</td> <td>    1.460</td>\n",
       "</tr>\n",
       "<tr>\n",
       "  <th>LeadSource_Reference</th>                         <td>    3.0535</td> <td>    0.246</td> <td>   12.399</td> <td> 0.000</td> <td>    2.571</td> <td>    3.536</td>\n",
       "</tr>\n",
       "<tr>\n",
       "  <th>LeadSource_Welingak Website</th>                  <td>    5.2730</td> <td>    0.733</td> <td>    7.198</td> <td> 0.000</td> <td>    3.837</td> <td>    6.709</td>\n",
       "</tr>\n",
       "<tr>\n",
       "  <th>LastActivity_Had a Phone Conversation</th>        <td>    1.2496</td> <td>    0.867</td> <td>    1.441</td> <td> 0.149</td> <td>   -0.450</td> <td>    2.949</td>\n",
       "</tr>\n",
       "<tr>\n",
       "  <th>LastActivity_Olark Chat Conversation</th>         <td>   -1.0531</td> <td>    0.181</td> <td>   -5.830</td> <td> 0.000</td> <td>   -1.407</td> <td>   -0.699</td>\n",
       "</tr>\n",
       "<tr>\n",
       "  <th>LastActivity_SMS Sent</th>                        <td>    1.3374</td> <td>    0.077</td> <td>   17.303</td> <td> 0.000</td> <td>    1.186</td> <td>    1.489</td>\n",
       "</tr>\n",
       "<tr>\n",
       "  <th>Specialization_Unknown</th>                       <td>   -1.0154</td> <td>    0.127</td> <td>   -7.971</td> <td> 0.000</td> <td>   -1.265</td> <td>   -0.766</td>\n",
       "</tr>\n",
       "<tr>\n",
       "  <th>CurrentOccupation_Housewife</th>                  <td>   22.6861</td> <td> 1.44e+04</td> <td>    0.002</td> <td> 0.999</td> <td>-2.82e+04</td> <td> 2.82e+04</td>\n",
       "</tr>\n",
       "<tr>\n",
       "  <th>CurrentOccupation_Working Professional</th>       <td>    2.4750</td> <td>    0.196</td> <td>   12.615</td> <td> 0.000</td> <td>    2.090</td> <td>    2.859</td>\n",
       "</tr>\n",
       "<tr>\n",
       "  <th>Outcome_Other</th>                                <td>   -1.1324</td> <td>    0.090</td> <td>  -12.586</td> <td> 0.000</td> <td>   -1.309</td> <td>   -0.956</td>\n",
       "</tr>\n",
       "<tr>\n",
       "  <th>LastNotableActivity_Had a Phone Conversation</th> <td>    1.7409</td> <td>    1.460</td> <td>    1.193</td> <td> 0.233</td> <td>   -1.120</td> <td>    4.602</td>\n",
       "</tr>\n",
       "<tr>\n",
       "  <th>LastNotableActivity_Modified</th>                 <td>   -0.7740</td> <td>    0.084</td> <td>   -9.225</td> <td> 0.000</td> <td>   -0.938</td> <td>   -0.610</td>\n",
       "</tr>\n",
       "<tr>\n",
       "  <th>LastNotableActivity_Unreachable</th>              <td>    1.5030</td> <td>    0.510</td> <td>    2.948</td> <td> 0.003</td> <td>    0.504</td> <td>    2.502</td>\n",
       "</tr>\n",
       "</table>"
      ],
      "text/plain": [
       "<class 'statsmodels.iolib.summary.Summary'>\n",
       "\"\"\"\n",
       "                 Generalized Linear Model Regression Results                  \n",
       "==============================================================================\n",
       "Dep. Variable:              Converted   No. Observations:                 6349\n",
       "Model:                            GLM   Df Residuals:                     6330\n",
       "Model Family:                Binomial   Df Model:                           18\n",
       "Link Function:                  Logit   Scale:                          1.0000\n",
       "Method:                          IRLS   Log-Likelihood:                -2513.2\n",
       "Date:                Tue, 24 Jan 2023   Deviance:                       5026.4\n",
       "Time:                        17:40:21   Pearson chi2:                 6.19e+03\n",
       "No. Iterations:                    21   Pseudo R-squ. (CS):             0.4160\n",
       "Covariance Type:            nonrobust                                         \n",
       "================================================================================================================\n",
       "                                                   coef    std err          z      P>|z|      [0.025      0.975]\n",
       "----------------------------------------------------------------------------------------------------------------\n",
       "const                                           -0.9263      0.152     -6.100      0.000      -1.224      -0.629\n",
       "Do Not Email                                    -1.4079      0.179     -7.856      0.000      -1.759      -1.057\n",
       "TotalVisits                                      2.7059      0.885      3.059      0.002       0.972       4.440\n",
       "Total Time Spent on Website                      4.5065      0.171     26.390      0.000       4.172       4.841\n",
       "Page Views Per Visit                            -1.5555      0.599     -2.598      0.009      -2.729      -0.382\n",
       "LeadOrigin_Landing Page Submission              -1.0203      0.129     -7.904      0.000      -1.273      -0.767\n",
       "LeadSource_Olark Chat                            1.1921      0.137      8.729      0.000       0.924       1.460\n",
       "LeadSource_Reference                             3.0535      0.246     12.399      0.000       2.571       3.536\n",
       "LeadSource_Welingak Website                      5.2730      0.733      7.198      0.000       3.837       6.709\n",
       "LastActivity_Had a Phone Conversation            1.2496      0.867      1.441      0.149      -0.450       2.949\n",
       "LastActivity_Olark Chat Conversation            -1.0531      0.181     -5.830      0.000      -1.407      -0.699\n",
       "LastActivity_SMS Sent                            1.3374      0.077     17.303      0.000       1.186       1.489\n",
       "Specialization_Unknown                          -1.0154      0.127     -7.971      0.000      -1.265      -0.766\n",
       "CurrentOccupation_Housewife                     22.6861   1.44e+04      0.002      0.999   -2.82e+04    2.82e+04\n",
       "CurrentOccupation_Working Professional           2.4750      0.196     12.615      0.000       2.090       2.859\n",
       "Outcome_Other                                   -1.1324      0.090    -12.586      0.000      -1.309      -0.956\n",
       "LastNotableActivity_Had a Phone Conversation     1.7409      1.460      1.193      0.233      -1.120       4.602\n",
       "LastNotableActivity_Modified                    -0.7740      0.084     -9.225      0.000      -0.938      -0.610\n",
       "LastNotableActivity_Unreachable                  1.5030      0.510      2.948      0.003       0.504       2.502\n",
       "================================================================================================================\n",
       "\"\"\""
      ]
     },
     "execution_count": 2672,
     "metadata": {},
     "output_type": "execute_result"
    }
   ],
   "source": [
    "# Re-running the model using the selected variables\n",
    "X_train_sm = sm.add_constant(X_train[col])\n",
    "logm3 = sm.GLM(y_train,X_train_sm, family = sm.families.Binomial())\n",
    "res = logm3.fit()\n",
    "res.summary()"
   ]
  },
  {
   "cell_type": "code",
   "execution_count": 2673,
   "id": "222f65b6",
   "metadata": {},
   "outputs": [
    {
     "data": {
      "text/plain": [
       "0    0.067804\n",
       "1    0.070652\n",
       "2    0.855626\n",
       "3    0.795629\n",
       "4    0.843469\n",
       "5    0.997374\n",
       "6    1.000000\n",
       "7    0.821943\n",
       "8    0.358753\n",
       "9    0.029716\n",
       "dtype: float64"
      ]
     },
     "execution_count": 2673,
     "metadata": {},
     "output_type": "execute_result"
    }
   ],
   "source": [
    "# Getting the predicted values on the train set\n",
    "y_train_pred = res.predict(X_train_sm)\n",
    "y_train_pred[:10]"
   ]
  },
  {
   "cell_type": "code",
   "execution_count": 2674,
   "id": "09721f62",
   "metadata": {},
   "outputs": [
    {
     "data": {
      "text/plain": [
       "array([0.06780391, 0.07065217, 0.85562593, 0.79562897, 0.84346931,\n",
       "       0.99737385, 1.        , 0.82194314, 0.35875285, 0.02971609])"
      ]
     },
     "execution_count": 2674,
     "metadata": {},
     "output_type": "execute_result"
    }
   ],
   "source": [
    "y_train_pred = y_train_pred.values.reshape(-1)\n",
    "y_train_pred[:10]"
   ]
  },
  {
   "cell_type": "code",
   "execution_count": 2675,
   "id": "b3742848",
   "metadata": {},
   "outputs": [
    {
     "data": {
      "text/html": [
       "<div>\n",
       "<style scoped>\n",
       "    .dataframe tbody tr th:only-of-type {\n",
       "        vertical-align: middle;\n",
       "    }\n",
       "\n",
       "    .dataframe tbody tr th {\n",
       "        vertical-align: top;\n",
       "    }\n",
       "\n",
       "    .dataframe thead th {\n",
       "        text-align: right;\n",
       "    }\n",
       "</style>\n",
       "<table border=\"1\" class=\"dataframe\">\n",
       "  <thead>\n",
       "    <tr style=\"text-align: right;\">\n",
       "      <th></th>\n",
       "      <th>Convert</th>\n",
       "      <th>Convert_Prob</th>\n",
       "      <th>Prospect ID</th>\n",
       "    </tr>\n",
       "  </thead>\n",
       "  <tbody>\n",
       "    <tr>\n",
       "      <th>0</th>\n",
       "      <td>0.0</td>\n",
       "      <td>0.067804</td>\n",
       "      <td>0</td>\n",
       "    </tr>\n",
       "    <tr>\n",
       "      <th>1</th>\n",
       "      <td>0.0</td>\n",
       "      <td>0.070652</td>\n",
       "      <td>1</td>\n",
       "    </tr>\n",
       "    <tr>\n",
       "      <th>2</th>\n",
       "      <td>1.0</td>\n",
       "      <td>0.855626</td>\n",
       "      <td>2</td>\n",
       "    </tr>\n",
       "    <tr>\n",
       "      <th>3</th>\n",
       "      <td>1.0</td>\n",
       "      <td>0.795629</td>\n",
       "      <td>3</td>\n",
       "    </tr>\n",
       "    <tr>\n",
       "      <th>4</th>\n",
       "      <td>1.0</td>\n",
       "      <td>0.843469</td>\n",
       "      <td>4</td>\n",
       "    </tr>\n",
       "  </tbody>\n",
       "</table>\n",
       "</div>"
      ],
      "text/plain": [
       "   Convert  Convert_Prob  Prospect ID\n",
       "0      0.0      0.067804            0\n",
       "1      0.0      0.070652            1\n",
       "2      1.0      0.855626            2\n",
       "3      1.0      0.795629            3\n",
       "4      1.0      0.843469            4"
      ]
     },
     "execution_count": 2675,
     "metadata": {},
     "output_type": "execute_result"
    }
   ],
   "source": [
    "y_train_pred_final = pd.DataFrame({'Convert':y_train.values, 'Convert_Prob':y_train_pred})\n",
    "y_train_pred_final['Prospect ID'] = y_train.index\n",
    "y_train_pred_final.head()"
   ]
  },
  {
   "cell_type": "markdown",
   "id": "059226e5",
   "metadata": {},
   "source": [
    "Creating new column 'predicted' with 1 if Churn_Prob > 0.5 else 0"
   ]
  },
  {
   "cell_type": "code",
   "execution_count": 2676,
   "id": "565d10aa",
   "metadata": {},
   "outputs": [
    {
     "data": {
      "text/html": [
       "<div>\n",
       "<style scoped>\n",
       "    .dataframe tbody tr th:only-of-type {\n",
       "        vertical-align: middle;\n",
       "    }\n",
       "\n",
       "    .dataframe tbody tr th {\n",
       "        vertical-align: top;\n",
       "    }\n",
       "\n",
       "    .dataframe thead th {\n",
       "        text-align: right;\n",
       "    }\n",
       "</style>\n",
       "<table border=\"1\" class=\"dataframe\">\n",
       "  <thead>\n",
       "    <tr style=\"text-align: right;\">\n",
       "      <th></th>\n",
       "      <th>Convert</th>\n",
       "      <th>Convert_Prob</th>\n",
       "      <th>Prospect ID</th>\n",
       "      <th>predicted</th>\n",
       "    </tr>\n",
       "  </thead>\n",
       "  <tbody>\n",
       "    <tr>\n",
       "      <th>0</th>\n",
       "      <td>0.0</td>\n",
       "      <td>0.067804</td>\n",
       "      <td>0</td>\n",
       "      <td>0</td>\n",
       "    </tr>\n",
       "    <tr>\n",
       "      <th>1</th>\n",
       "      <td>0.0</td>\n",
       "      <td>0.070652</td>\n",
       "      <td>1</td>\n",
       "      <td>0</td>\n",
       "    </tr>\n",
       "    <tr>\n",
       "      <th>2</th>\n",
       "      <td>1.0</td>\n",
       "      <td>0.855626</td>\n",
       "      <td>2</td>\n",
       "      <td>1</td>\n",
       "    </tr>\n",
       "    <tr>\n",
       "      <th>3</th>\n",
       "      <td>1.0</td>\n",
       "      <td>0.795629</td>\n",
       "      <td>3</td>\n",
       "      <td>1</td>\n",
       "    </tr>\n",
       "    <tr>\n",
       "      <th>4</th>\n",
       "      <td>1.0</td>\n",
       "      <td>0.843469</td>\n",
       "      <td>4</td>\n",
       "      <td>1</td>\n",
       "    </tr>\n",
       "  </tbody>\n",
       "</table>\n",
       "</div>"
      ],
      "text/plain": [
       "   Convert  Convert_Prob  Prospect ID  predicted\n",
       "0      0.0      0.067804            0          0\n",
       "1      0.0      0.070652            1          0\n",
       "2      1.0      0.855626            2          1\n",
       "3      1.0      0.795629            3          1\n",
       "4      1.0      0.843469            4          1"
      ]
     },
     "execution_count": 2676,
     "metadata": {},
     "output_type": "execute_result"
    }
   ],
   "source": [
    "y_train_pred_final['predicted'] = y_train_pred_final.Convert_Prob.map(lambda x: 1 if x > 0.5 else 0)\n",
    "\n",
    "# Let's see the head\n",
    "y_train_pred_final.head()\n"
   ]
  },
  {
   "cell_type": "code",
   "execution_count": 2677,
   "id": "c9f47cec",
   "metadata": {},
   "outputs": [],
   "source": [
    "from sklearn import metrics"
   ]
  },
  {
   "cell_type": "code",
   "execution_count": 2678,
   "id": "29d219b1",
   "metadata": {},
   "outputs": [
    {
     "name": "stdout",
     "output_type": "stream",
     "text": [
      "[[3483  444]\n",
      " [ 713 1709]]\n"
     ]
    }
   ],
   "source": [
    "# Confusion matrix \n",
    "confusion = metrics.confusion_matrix(y_train_pred_final.Convert, y_train_pred_final.predicted )\n",
    "print(confusion)"
   ]
  },
  {
   "cell_type": "code",
   "execution_count": 2679,
   "id": "547a4b4f",
   "metadata": {},
   "outputs": [
    {
     "name": "stdout",
     "output_type": "stream",
     "text": [
      "0.8177665774137659\n"
     ]
    }
   ],
   "source": [
    "# Let's check the overall accuracy.\n",
    "print(metrics.accuracy_score(y_train_pred_final.Convert, y_train_pred_final.predicted))"
   ]
  },
  {
   "cell_type": "markdown",
   "id": "f6a6d4e9",
   "metadata": {},
   "source": [
    "#The accuracy has not dropped"
   ]
  },
  {
   "cell_type": "markdown",
   "id": "34bcdfea",
   "metadata": {},
   "source": [
    "#### Checking the VIFs again"
   ]
  },
  {
   "cell_type": "code",
   "execution_count": 2680,
   "id": "fa12e329",
   "metadata": {},
   "outputs": [
    {
     "data": {
      "text/html": [
       "<div>\n",
       "<style scoped>\n",
       "    .dataframe tbody tr th:only-of-type {\n",
       "        vertical-align: middle;\n",
       "    }\n",
       "\n",
       "    .dataframe tbody tr th {\n",
       "        vertical-align: top;\n",
       "    }\n",
       "\n",
       "    .dataframe thead th {\n",
       "        text-align: right;\n",
       "    }\n",
       "</style>\n",
       "<table border=\"1\" class=\"dataframe\">\n",
       "  <thead>\n",
       "    <tr style=\"text-align: right;\">\n",
       "      <th></th>\n",
       "      <th>Features</th>\n",
       "      <th>VIF</th>\n",
       "    </tr>\n",
       "  </thead>\n",
       "  <tbody>\n",
       "    <tr>\n",
       "      <th>3</th>\n",
       "      <td>Page Views Per Visit</td>\n",
       "      <td>4.88</td>\n",
       "    </tr>\n",
       "    <tr>\n",
       "      <th>4</th>\n",
       "      <td>LeadOrigin_Landing Page Submission</td>\n",
       "      <td>3.57</td>\n",
       "    </tr>\n",
       "    <tr>\n",
       "      <th>1</th>\n",
       "      <td>TotalVisits</td>\n",
       "      <td>3.38</td>\n",
       "    </tr>\n",
       "    <tr>\n",
       "      <th>11</th>\n",
       "      <td>Specialization_Unknown</td>\n",
       "      <td>2.73</td>\n",
       "    </tr>\n",
       "    <tr>\n",
       "      <th>8</th>\n",
       "      <td>LastActivity_Had a Phone Conversation</td>\n",
       "      <td>2.26</td>\n",
       "    </tr>\n",
       "    <tr>\n",
       "      <th>15</th>\n",
       "      <td>LastNotableActivity_Had a Phone Conversation</td>\n",
       "      <td>2.26</td>\n",
       "    </tr>\n",
       "    <tr>\n",
       "      <th>2</th>\n",
       "      <td>Total Time Spent on Website</td>\n",
       "      <td>2.13</td>\n",
       "    </tr>\n",
       "    <tr>\n",
       "      <th>5</th>\n",
       "      <td>LeadSource_Olark Chat</td>\n",
       "      <td>2.09</td>\n",
       "    </tr>\n",
       "    <tr>\n",
       "      <th>16</th>\n",
       "      <td>LastNotableActivity_Modified</td>\n",
       "      <td>1.79</td>\n",
       "    </tr>\n",
       "    <tr>\n",
       "      <th>14</th>\n",
       "      <td>Outcome_Other</td>\n",
       "      <td>1.65</td>\n",
       "    </tr>\n",
       "    <tr>\n",
       "      <th>10</th>\n",
       "      <td>LastActivity_SMS Sent</td>\n",
       "      <td>1.60</td>\n",
       "    </tr>\n",
       "    <tr>\n",
       "      <th>9</th>\n",
       "      <td>LastActivity_Olark Chat Conversation</td>\n",
       "      <td>1.59</td>\n",
       "    </tr>\n",
       "    <tr>\n",
       "      <th>13</th>\n",
       "      <td>CurrentOccupation_Working Professional</td>\n",
       "      <td>1.22</td>\n",
       "    </tr>\n",
       "    <tr>\n",
       "      <th>6</th>\n",
       "      <td>LeadSource_Reference</td>\n",
       "      <td>1.19</td>\n",
       "    </tr>\n",
       "    <tr>\n",
       "      <th>0</th>\n",
       "      <td>Do Not Email</td>\n",
       "      <td>1.12</td>\n",
       "    </tr>\n",
       "    <tr>\n",
       "      <th>7</th>\n",
       "      <td>LeadSource_Welingak Website</td>\n",
       "      <td>1.09</td>\n",
       "    </tr>\n",
       "    <tr>\n",
       "      <th>12</th>\n",
       "      <td>CurrentOccupation_Housewife</td>\n",
       "      <td>1.01</td>\n",
       "    </tr>\n",
       "    <tr>\n",
       "      <th>17</th>\n",
       "      <td>LastNotableActivity_Unreachable</td>\n",
       "      <td>1.01</td>\n",
       "    </tr>\n",
       "  </tbody>\n",
       "</table>\n",
       "</div>"
      ],
      "text/plain": [
       "                                        Features   VIF\n",
       "3                           Page Views Per Visit  4.88\n",
       "4             LeadOrigin_Landing Page Submission  3.57\n",
       "1                                    TotalVisits  3.38\n",
       "11                        Specialization_Unknown  2.73\n",
       "8          LastActivity_Had a Phone Conversation  2.26\n",
       "15  LastNotableActivity_Had a Phone Conversation  2.26\n",
       "2                    Total Time Spent on Website  2.13\n",
       "5                          LeadSource_Olark Chat  2.09\n",
       "16                  LastNotableActivity_Modified  1.79\n",
       "14                                 Outcome_Other  1.65\n",
       "10                         LastActivity_SMS Sent  1.60\n",
       "9           LastActivity_Olark Chat Conversation  1.59\n",
       "13        CurrentOccupation_Working Professional  1.22\n",
       "6                           LeadSource_Reference  1.19\n",
       "0                                   Do Not Email  1.12\n",
       "7                    LeadSource_Welingak Website  1.09\n",
       "12                   CurrentOccupation_Housewife  1.01\n",
       "17               LastNotableActivity_Unreachable  1.01"
      ]
     },
     "execution_count": 2680,
     "metadata": {},
     "output_type": "execute_result"
    }
   ],
   "source": [
    "vif = pd.DataFrame()\n",
    "vif['Features'] = X_train[col].columns\n",
    "vif['VIF'] = [variance_inflation_factor(X_train[col].values, i) for i in range(X_train[col].shape[1])]\n",
    "vif['VIF'] = round(vif['VIF'], 2)\n",
    "vif = vif.sort_values(by = \"VIF\", ascending = False)\n",
    "vif"
   ]
  },
  {
   "cell_type": "markdown",
   "id": "e11a3c16",
   "metadata": {},
   "source": [
    "All variables have a good value of VIF. Hence, there is no need to drop any more variables and proceeding to make predictions using this model only"
   ]
  },
  {
   "cell_type": "code",
   "execution_count": 2681,
   "id": "35816e3c",
   "metadata": {},
   "outputs": [
    {
     "data": {
      "text/plain": [
       "array([[3483,  444],\n",
       "       [ 713, 1709]], dtype=int64)"
      ]
     },
     "execution_count": 2681,
     "metadata": {},
     "output_type": "execute_result"
    }
   ],
   "source": [
    "# Let's take a look at the confusion matrix again \n",
    "confusion = metrics.confusion_matrix(y_train_pred_final.Convert, y_train_pred_final.predicted )\n",
    "confusion"
   ]
  },
  {
   "cell_type": "code",
   "execution_count": 2682,
   "id": "76b97dd7",
   "metadata": {},
   "outputs": [
    {
     "data": {
      "text/plain": [
       "0.8177665774137659"
      ]
     },
     "execution_count": 2682,
     "metadata": {},
     "output_type": "execute_result"
    }
   ],
   "source": [
    "# Let's check the overall accuracy.\n",
    "metrics.accuracy_score(y_train_pred_final.Convert, y_train_pred_final.predicted)"
   ]
  },
  {
   "cell_type": "code",
   "execution_count": 2683,
   "id": "a43eb7c2",
   "metadata": {},
   "outputs": [],
   "source": [
    "TP = confusion[1,1] # true positive \n",
    "TN = confusion[0,0] # true negatives\n",
    "FP = confusion[0,1] # false positives\n",
    "FN = confusion[1,0] # false negatives"
   ]
  },
  {
   "cell_type": "code",
   "execution_count": 2684,
   "id": "eb2cfa16",
   "metadata": {},
   "outputs": [
    {
     "data": {
      "text/plain": [
       "0.7056151940545005"
      ]
     },
     "execution_count": 2684,
     "metadata": {},
     "output_type": "execute_result"
    }
   ],
   "source": [
    "# Let's see the sensitivity of our logistic regression model\n",
    "sensitivity=TP / float(TP+FN)\n",
    "sensitivity"
   ]
  },
  {
   "cell_type": "code",
   "execution_count": 2685,
   "id": "4ef413fa",
   "metadata": {},
   "outputs": [
    {
     "data": {
      "text/plain": [
       "0.8869365928189458"
      ]
     },
     "execution_count": 2685,
     "metadata": {},
     "output_type": "execute_result"
    }
   ],
   "source": [
    "# Let us calculate specificity\n",
    "specificity=TN / float(TN+FP)\n",
    "specificity"
   ]
  },
  {
   "cell_type": "code",
   "execution_count": 2686,
   "id": "d01121a5",
   "metadata": {},
   "outputs": [
    {
     "name": "stdout",
     "output_type": "stream",
     "text": [
      "0.11306340718105425\n"
     ]
    }
   ],
   "source": [
    "# Calculate false postive rate - predicting as lead when customer did not convert to a lead\n",
    "print(FP/ float(TN+FP))"
   ]
  },
  {
   "cell_type": "code",
   "execution_count": 2687,
   "id": "37e7c53b",
   "metadata": {},
   "outputs": [
    {
     "name": "stdout",
     "output_type": "stream",
     "text": [
      "0.793776126335346\n"
     ]
    }
   ],
   "source": [
    "# positive predictive value \n",
    "print (TP / float(TP+FP))"
   ]
  },
  {
   "cell_type": "code",
   "execution_count": 2688,
   "id": "9a8d2e1c",
   "metadata": {},
   "outputs": [
    {
     "name": "stdout",
     "output_type": "stream",
     "text": [
      "0.8300762631077216\n"
     ]
    }
   ],
   "source": [
    "# Negative predictive value\n",
    "print (TN / float(TN+ FN))"
   ]
  },
  {
   "cell_type": "markdown",
   "id": "c11d3add",
   "metadata": {},
   "source": [
    "#### Plotting ROC curve"
   ]
  },
  {
   "cell_type": "code",
   "execution_count": 2689,
   "id": "7c19615c",
   "metadata": {},
   "outputs": [],
   "source": [
    "def draw_roc( actual, probs ):\n",
    "    fpr, tpr, thresholds = metrics.roc_curve( actual, probs,\n",
    "                                              drop_intermediate = False )\n",
    "    auc_score = metrics.roc_auc_score( actual, probs )\n",
    "    plt.figure(figsize=(5, 5))\n",
    "    plt.plot( fpr, tpr, label='ROC curve (area = %0.2f)' % auc_score )\n",
    "    plt.plot([0, 1], [0, 1], 'k--')\n",
    "    plt.xlim([0.0, 1.0])\n",
    "    plt.ylim([0.0, 1.05])\n",
    "    plt.xlabel('False Positive Rate or [1 - True Negative Rate]')\n",
    "    plt.ylabel('True Positive Rate')\n",
    "    plt.title('Receiver operating characteristic example')\n",
    "    plt.legend(loc=\"lower right\")\n",
    "    plt.show()\n",
    "\n",
    "    return None"
   ]
  },
  {
   "cell_type": "code",
   "execution_count": 2690,
   "id": "d3adbd6e",
   "metadata": {},
   "outputs": [],
   "source": [
    "fpr, tpr, thresholds = metrics.roc_curve( y_train_pred_final.Convert, y_train_pred_final.Convert_Prob, drop_intermediate = False )"
   ]
  },
  {
   "cell_type": "code",
   "execution_count": 2691,
   "id": "ded7ae05",
   "metadata": {},
   "outputs": [
    {
     "data": {
      "image/png": "[encoded data removed]",
      "text/plain": [
       "<Figure size 360x360 with 1 Axes>"
      ]
     },
     "metadata": {
      "needs_background": "light"
     },
     "output_type": "display_data"
    }
   ],
   "source": [
    "draw_roc(y_train_pred_final.Convert, y_train_pred_final.Convert_Prob)"
   ]
  },
  {
   "cell_type": "markdown",
   "id": "e7348450",
   "metadata": {},
   "source": [
    "#### The Area Under Curve(AUC) is 0.9, which is a good value for AUC"
   ]
  },
  {
   "cell_type": "markdown",
   "id": "dbc395de",
   "metadata": {},
   "source": [
    "#### Finding Optimal Cutoff Point"
   ]
  },
  {
   "cell_type": "markdown",
   "id": "13d29fcd",
   "metadata": {},
   "source": [
    "Optimal cutoff probability is that prob where we get balanced sensitivity and specificity"
   ]
  },
  {
   "cell_type": "code",
   "execution_count": 2692,
   "id": "5c6fa586",
   "metadata": {},
   "outputs": [
    {
     "data": {
      "text/html": [
       "<div>\n",
       "<style scoped>\n",
       "    .dataframe tbody tr th:only-of-type {\n",
       "        vertical-align: middle;\n",
       "    }\n",
       "\n",
       "    .dataframe tbody tr th {\n",
       "        vertical-align: top;\n",
       "    }\n",
       "\n",
       "    .dataframe thead th {\n",
       "        text-align: right;\n",
       "    }\n",
       "</style>\n",
       "<table border=\"1\" class=\"dataframe\">\n",
       "  <thead>\n",
       "    <tr style=\"text-align: right;\">\n",
       "      <th></th>\n",
       "      <th>Convert</th>\n",
       "      <th>Convert_Prob</th>\n",
       "      <th>Prospect ID</th>\n",
       "      <th>predicted</th>\n",
       "      <th>0.0</th>\n",
       "      <th>0.1</th>\n",
       "      <th>0.2</th>\n",
       "      <th>0.3</th>\n",
       "      <th>0.4</th>\n",
       "      <th>0.5</th>\n",
       "      <th>0.6</th>\n",
       "      <th>0.7</th>\n",
       "      <th>0.8</th>\n",
       "      <th>0.9</th>\n",
       "    </tr>\n",
       "  </thead>\n",
       "  <tbody>\n",
       "    <tr>\n",
       "      <th>0</th>\n",
       "      <td>0.0</td>\n",
       "      <td>0.067804</td>\n",
       "      <td>0</td>\n",
       "      <td>0</td>\n",
       "      <td>1</td>\n",
       "      <td>0</td>\n",
       "      <td>0</td>\n",
       "      <td>0</td>\n",
       "      <td>0</td>\n",
       "      <td>0</td>\n",
       "      <td>0</td>\n",
       "      <td>0</td>\n",
       "      <td>0</td>\n",
       "      <td>0</td>\n",
       "    </tr>\n",
       "    <tr>\n",
       "      <th>1</th>\n",
       "      <td>0.0</td>\n",
       "      <td>0.070652</td>\n",
       "      <td>1</td>\n",
       "      <td>0</td>\n",
       "      <td>1</td>\n",
       "      <td>0</td>\n",
       "      <td>0</td>\n",
       "      <td>0</td>\n",
       "      <td>0</td>\n",
       "      <td>0</td>\n",
       "      <td>0</td>\n",
       "      <td>0</td>\n",
       "      <td>0</td>\n",
       "      <td>0</td>\n",
       "    </tr>\n",
       "    <tr>\n",
       "      <th>2</th>\n",
       "      <td>1.0</td>\n",
       "      <td>0.855626</td>\n",
       "      <td>2</td>\n",
       "      <td>1</td>\n",
       "      <td>1</td>\n",
       "      <td>1</td>\n",
       "      <td>1</td>\n",
       "      <td>1</td>\n",
       "      <td>1</td>\n",
       "      <td>1</td>\n",
       "      <td>1</td>\n",
       "      <td>1</td>\n",
       "      <td>1</td>\n",
       "      <td>0</td>\n",
       "    </tr>\n",
       "    <tr>\n",
       "      <th>3</th>\n",
       "      <td>1.0</td>\n",
       "      <td>0.795629</td>\n",
       "      <td>3</td>\n",
       "      <td>1</td>\n",
       "      <td>1</td>\n",
       "      <td>1</td>\n",
       "      <td>1</td>\n",
       "      <td>1</td>\n",
       "      <td>1</td>\n",
       "      <td>1</td>\n",
       "      <td>1</td>\n",
       "      <td>1</td>\n",
       "      <td>0</td>\n",
       "      <td>0</td>\n",
       "    </tr>\n",
       "    <tr>\n",
       "      <th>4</th>\n",
       "      <td>1.0</td>\n",
       "      <td>0.843469</td>\n",
       "      <td>4</td>\n",
       "      <td>1</td>\n",
       "      <td>1</td>\n",
       "      <td>1</td>\n",
       "      <td>1</td>\n",
       "      <td>1</td>\n",
       "      <td>1</td>\n",
       "      <td>1</td>\n",
       "      <td>1</td>\n",
       "      <td>1</td>\n",
       "      <td>1</td>\n",
       "      <td>0</td>\n",
       "    </tr>\n",
       "  </tbody>\n",
       "</table>\n",
       "</div>"
      ],
      "text/plain": [
       "   Convert  Convert_Prob  Prospect ID  predicted  0.0  0.1  0.2  0.3  0.4  \\\n",
       "0      0.0      0.067804            0          0    1    0    0    0    0   \n",
       "1      0.0      0.070652            1          0    1    0    0    0    0   \n",
       "2      1.0      0.855626            2          1    1    1    1    1    1   \n",
       "3      1.0      0.795629            3          1    1    1    1    1    1   \n",
       "4      1.0      0.843469            4          1    1    1    1    1    1   \n",
       "\n",
       "   0.5  0.6  0.7  0.8  0.9  \n",
       "0    0    0    0    0    0  \n",
       "1    0    0    0    0    0  \n",
       "2    1    1    1    1    0  \n",
       "3    1    1    1    0    0  \n",
       "4    1    1    1    1    0  "
      ]
     },
     "execution_count": 2692,
     "metadata": {},
     "output_type": "execute_result"
    }
   ],
   "source": [
    "# Let's create columns with different probability cutoffs \n",
    "numbers = [float(x)/10 for x in range(10)]\n",
    "for i in numbers:\n",
    "    y_train_pred_final[i]= y_train_pred_final.Convert_Prob.map(lambda x: 1 if x > i else 0)\n",
    "y_train_pred_final.head()"
   ]
  },
  {
   "cell_type": "code",
   "execution_count": 2693,
   "id": "491050d8",
   "metadata": {},
   "outputs": [
    {
     "name": "stdout",
     "output_type": "stream",
     "text": [
      "     prob  accuracy     sensi     speci\n",
      "0.0   0.0  0.381477  1.000000  0.000000\n",
      "0.1   0.1  0.642936  0.972337  0.439776\n",
      "0.2   0.2  0.767680  0.915772  0.676343\n",
      "0.3   0.3  0.799968  0.872832  0.755029\n",
      "0.4   0.4  0.817294  0.784476  0.837535\n",
      "0.5   0.5  0.817767  0.705615  0.886937\n",
      "0.6   0.6  0.810994  0.633361  0.920550\n",
      "0.7   0.7  0.787053  0.530966  0.944996\n",
      "0.8   0.8  0.765632  0.433526  0.970461\n",
      "0.9   0.9  0.720586  0.287366  0.987777\n"
     ]
    }
   ],
   "source": [
    "# Now let's calculate accuracy sensitivity and specificity for various probability cutoffs.\n",
    "cutoff_df = pd.DataFrame( columns = ['prob','accuracy','sensi','speci'])\n",
    "from sklearn.metrics import confusion_matrix\n",
    "\n",
    "# TP = confusion[1,1] # true positive \n",
    "# TN = confusion[0,0] # true negatives\n",
    "# FP = confusion[0,1] # false positives\n",
    "# FN = confusion[1,0] # false negatives\n",
    "\n",
    "num = [0.0,0.1,0.2,0.3,0.4,0.5,0.6,0.7,0.8,0.9]\n",
    "for i in num:\n",
    "    cm1 = metrics.confusion_matrix(y_train_pred_final.Convert, y_train_pred_final[i] )\n",
    "    total1=sum(sum(cm1))\n",
    "    accuracy = (cm1[0,0]+cm1[1,1])/total1\n",
    "    \n",
    "    speci = cm1[0,0]/(cm1[0,0]+cm1[0,1])\n",
    "    sensi = cm1[1,1]/(cm1[1,0]+cm1[1,1])\n",
    "    cutoff_df.loc[i] =[ i ,accuracy,sensi,speci]\n",
    "print(cutoff_df)"
   ]
  },
  {
   "cell_type": "code",
   "execution_count": 2694,
   "id": "138e93f7",
   "metadata": {},
   "outputs": [
    {
     "data": {
      "image/png": "[encoded data removed]",
      "text/plain": [
       "<Figure size 432x288 with 1 Axes>"
      ]
     },
     "metadata": {
      "needs_background": "light"
     },
     "output_type": "display_data"
    }
   ],
   "source": [
    "# Let's plot accuracy sensitivity and specificity for various probabilities.\n",
    "cutoff_df.plot.line(x='prob', y=['accuracy','sensi','speci'])\n",
    "plt.title(\"Tradeoff between Accuracy, Sensitivity and Specificity\")\n",
    "plt.show()"
   ]
  },
  {
   "cell_type": "markdown",
   "id": "db7726a7",
   "metadata": {},
   "source": [
    "#### From the plot it can be seen that a probability of 40% can be used as the cutoff for having a balanced sensitivity-specificity"
   ]
  },
  {
   "cell_type": "code",
   "execution_count": 2695,
   "id": "1251fe1e",
   "metadata": {},
   "outputs": [
    {
     "data": {
      "text/html": [
       "<div>\n",
       "<style scoped>\n",
       "    .dataframe tbody tr th:only-of-type {\n",
       "        vertical-align: middle;\n",
       "    }\n",
       "\n",
       "    .dataframe tbody tr th {\n",
       "        vertical-align: top;\n",
       "    }\n",
       "\n",
       "    .dataframe thead th {\n",
       "        text-align: right;\n",
       "    }\n",
       "</style>\n",
       "<table border=\"1\" class=\"dataframe\">\n",
       "  <thead>\n",
       "    <tr style=\"text-align: right;\">\n",
       "      <th></th>\n",
       "      <th>Convert</th>\n",
       "      <th>Convert_Prob</th>\n",
       "      <th>Prospect ID</th>\n",
       "      <th>predicted</th>\n",
       "      <th>0.0</th>\n",
       "      <th>0.1</th>\n",
       "      <th>0.2</th>\n",
       "      <th>0.3</th>\n",
       "      <th>0.4</th>\n",
       "      <th>0.5</th>\n",
       "      <th>0.6</th>\n",
       "      <th>0.7</th>\n",
       "      <th>0.8</th>\n",
       "      <th>0.9</th>\n",
       "      <th>final_predicted</th>\n",
       "    </tr>\n",
       "  </thead>\n",
       "  <tbody>\n",
       "    <tr>\n",
       "      <th>0</th>\n",
       "      <td>0.0</td>\n",
       "      <td>0.067804</td>\n",
       "      <td>0</td>\n",
       "      <td>0</td>\n",
       "      <td>1</td>\n",
       "      <td>0</td>\n",
       "      <td>0</td>\n",
       "      <td>0</td>\n",
       "      <td>0</td>\n",
       "      <td>0</td>\n",
       "      <td>0</td>\n",
       "      <td>0</td>\n",
       "      <td>0</td>\n",
       "      <td>0</td>\n",
       "      <td>0</td>\n",
       "    </tr>\n",
       "    <tr>\n",
       "      <th>1</th>\n",
       "      <td>0.0</td>\n",
       "      <td>0.070652</td>\n",
       "      <td>1</td>\n",
       "      <td>0</td>\n",
       "      <td>1</td>\n",
       "      <td>0</td>\n",
       "      <td>0</td>\n",
       "      <td>0</td>\n",
       "      <td>0</td>\n",
       "      <td>0</td>\n",
       "      <td>0</td>\n",
       "      <td>0</td>\n",
       "      <td>0</td>\n",
       "      <td>0</td>\n",
       "      <td>0</td>\n",
       "    </tr>\n",
       "    <tr>\n",
       "      <th>2</th>\n",
       "      <td>1.0</td>\n",
       "      <td>0.855626</td>\n",
       "      <td>2</td>\n",
       "      <td>1</td>\n",
       "      <td>1</td>\n",
       "      <td>1</td>\n",
       "      <td>1</td>\n",
       "      <td>1</td>\n",
       "      <td>1</td>\n",
       "      <td>1</td>\n",
       "      <td>1</td>\n",
       "      <td>1</td>\n",
       "      <td>1</td>\n",
       "      <td>0</td>\n",
       "      <td>1</td>\n",
       "    </tr>\n",
       "    <tr>\n",
       "      <th>3</th>\n",
       "      <td>1.0</td>\n",
       "      <td>0.795629</td>\n",
       "      <td>3</td>\n",
       "      <td>1</td>\n",
       "      <td>1</td>\n",
       "      <td>1</td>\n",
       "      <td>1</td>\n",
       "      <td>1</td>\n",
       "      <td>1</td>\n",
       "      <td>1</td>\n",
       "      <td>1</td>\n",
       "      <td>1</td>\n",
       "      <td>0</td>\n",
       "      <td>0</td>\n",
       "      <td>1</td>\n",
       "    </tr>\n",
       "    <tr>\n",
       "      <th>4</th>\n",
       "      <td>1.0</td>\n",
       "      <td>0.843469</td>\n",
       "      <td>4</td>\n",
       "      <td>1</td>\n",
       "      <td>1</td>\n",
       "      <td>1</td>\n",
       "      <td>1</td>\n",
       "      <td>1</td>\n",
       "      <td>1</td>\n",
       "      <td>1</td>\n",
       "      <td>1</td>\n",
       "      <td>1</td>\n",
       "      <td>1</td>\n",
       "      <td>0</td>\n",
       "      <td>1</td>\n",
       "    </tr>\n",
       "  </tbody>\n",
       "</table>\n",
       "</div>"
      ],
      "text/plain": [
       "   Convert  Convert_Prob  Prospect ID  predicted  0.0  0.1  0.2  0.3  0.4  \\\n",
       "0      0.0      0.067804            0          0    1    0    0    0    0   \n",
       "1      0.0      0.070652            1          0    1    0    0    0    0   \n",
       "2      1.0      0.855626            2          1    1    1    1    1    1   \n",
       "3      1.0      0.795629            3          1    1    1    1    1    1   \n",
       "4      1.0      0.843469            4          1    1    1    1    1    1   \n",
       "\n",
       "   0.5  0.6  0.7  0.8  0.9  final_predicted  \n",
       "0    0    0    0    0    0                0  \n",
       "1    0    0    0    0    0                0  \n",
       "2    1    1    1    1    0                1  \n",
       "3    1    1    1    0    0                1  \n",
       "4    1    1    1    1    0                1  "
      ]
     },
     "execution_count": 2695,
     "metadata": {},
     "output_type": "execute_result"
    }
   ],
   "source": [
    "y_train_pred_final['final_predicted'] = y_train_pred_final.Convert_Prob.map( lambda x: 1 if x > 0.4 else 0)\n",
    "\n",
    "y_train_pred_final.head()"
   ]
  },
  {
   "cell_type": "code",
   "execution_count": 2696,
   "id": "7e4524a7",
   "metadata": {},
   "outputs": [
    {
     "data": {
      "text/plain": [
       "0.8172940620570168"
      ]
     },
     "execution_count": 2696,
     "metadata": {},
     "output_type": "execute_result"
    }
   ],
   "source": [
    "# Let's check the overall accuracy.\n",
    "metrics.accuracy_score(y_train_pred_final.Convert, y_train_pred_final.final_predicted)"
   ]
  },
  {
   "cell_type": "code",
   "execution_count": 2697,
   "id": "c7a4aca5",
   "metadata": {},
   "outputs": [
    {
     "data": {
      "text/plain": [
       "array([[3289,  638],\n",
       "       [ 522, 1900]], dtype=int64)"
      ]
     },
     "execution_count": 2697,
     "metadata": {},
     "output_type": "execute_result"
    }
   ],
   "source": [
    "confusion2 = metrics.confusion_matrix(y_train_pred_final.Convert, y_train_pred_final.final_predicted )\n",
    "confusion2"
   ]
  },
  {
   "cell_type": "code",
   "execution_count": 2698,
   "id": "c177f44f",
   "metadata": {},
   "outputs": [],
   "source": [
    "TP = confusion2[1,1] # true positive \n",
    "TN = confusion2[0,0] # true negatives\n",
    "FP = confusion2[0,1] # false positives\n",
    "FN = confusion2[1,0] # false negatives"
   ]
  },
  {
   "cell_type": "code",
   "execution_count": 2699,
   "id": "fc60df0f",
   "metadata": {},
   "outputs": [
    {
     "data": {
      "text/plain": [
       "0.7844756399669695"
      ]
     },
     "execution_count": 2699,
     "metadata": {},
     "output_type": "execute_result"
    }
   ],
   "source": [
    "# Let's see the sensitivity of our logistic regression model\n",
    "TP / float(TP+FN)"
   ]
  },
  {
   "cell_type": "code",
   "execution_count": 2700,
   "id": "193894a6",
   "metadata": {},
   "outputs": [
    {
     "data": {
      "text/plain": [
       "0.8375350140056023"
      ]
     },
     "execution_count": 2700,
     "metadata": {},
     "output_type": "execute_result"
    }
   ],
   "source": [
    "# Let us calculate specificity\n",
    "TN / float(TN+FP)"
   ]
  },
  {
   "cell_type": "code",
   "execution_count": 2701,
   "id": "8f3861ed",
   "metadata": {},
   "outputs": [
    {
     "name": "stdout",
     "output_type": "stream",
     "text": [
      "0.16246498599439776\n"
     ]
    }
   ],
   "source": [
    "# Calculate false postive rate - predicting churn when customer does not have churned\n",
    "print(FP/ float(TN+FP))"
   ]
  },
  {
   "cell_type": "code",
   "execution_count": 2702,
   "id": "71ca95f5",
   "metadata": {},
   "outputs": [
    {
     "name": "stdout",
     "output_type": "stream",
     "text": [
      "0.7486209613869188\n"
     ]
    }
   ],
   "source": [
    "# Positive predictive value \n",
    "print (TP / float(TP+FP))"
   ]
  },
  {
   "cell_type": "code",
   "execution_count": 2703,
   "id": "f7e463fc",
   "metadata": {},
   "outputs": [
    {
     "name": "stdout",
     "output_type": "stream",
     "text": [
      "0.8630280766203097\n"
     ]
    }
   ],
   "source": [
    "# Negative predictive value\n",
    "print (TN / float(TN+ FN))"
   ]
  },
  {
   "cell_type": "markdown",
   "id": "0ad82868",
   "metadata": {},
   "source": [
    "### Evaluating on Test set"
   ]
  },
  {
   "cell_type": "code",
   "execution_count": 2704,
   "id": "5f35daa0",
   "metadata": {},
   "outputs": [
    {
     "data": {
      "text/html": [
       "<div>\n",
       "<style scoped>\n",
       "    .dataframe tbody tr th:only-of-type {\n",
       "        vertical-align: middle;\n",
       "    }\n",
       "\n",
       "    .dataframe tbody tr th {\n",
       "        vertical-align: top;\n",
       "    }\n",
       "\n",
       "    .dataframe thead th {\n",
       "        text-align: right;\n",
       "    }\n",
       "</style>\n",
       "<table border=\"1\" class=\"dataframe\">\n",
       "  <thead>\n",
       "    <tr style=\"text-align: right;\">\n",
       "      <th></th>\n",
       "      <th>0</th>\n",
       "      <th>1</th>\n",
       "      <th>2</th>\n",
       "      <th>3</th>\n",
       "      <th>4</th>\n",
       "      <th>5</th>\n",
       "      <th>6</th>\n",
       "      <th>7</th>\n",
       "      <th>8</th>\n",
       "      <th>9</th>\n",
       "      <th>10</th>\n",
       "      <th>11</th>\n",
       "      <th>12</th>\n",
       "      <th>13</th>\n",
       "      <th>14</th>\n",
       "      <th>15</th>\n",
       "      <th>16</th>\n",
       "      <th>17</th>\n",
       "      <th>...</th>\n",
       "      <th>81</th>\n",
       "      <th>82</th>\n",
       "      <th>83</th>\n",
       "      <th>84</th>\n",
       "      <th>85</th>\n",
       "      <th>86</th>\n",
       "      <th>87</th>\n",
       "      <th>88</th>\n",
       "      <th>89</th>\n",
       "      <th>90</th>\n",
       "      <th>91</th>\n",
       "      <th>92</th>\n",
       "      <th>93</th>\n",
       "      <th>94</th>\n",
       "      <th>95</th>\n",
       "      <th>96</th>\n",
       "      <th>97</th>\n",
       "      <th>98</th>\n",
       "    </tr>\n",
       "  </thead>\n",
       "  <tbody>\n",
       "    <tr>\n",
       "      <th>0</th>\n",
       "      <td>0.0</td>\n",
       "      <td>0.0</td>\n",
       "      <td>1.0</td>\n",
       "      <td>0.121622</td>\n",
       "      <td>0.038292</td>\n",
       "      <td>0.187500</td>\n",
       "      <td>0.0</td>\n",
       "      <td>0.0</td>\n",
       "      <td>0.0</td>\n",
       "      <td>0.0</td>\n",
       "      <td>0.0</td>\n",
       "      <td>0.0</td>\n",
       "      <td>0.0</td>\n",
       "      <td>0.0</td>\n",
       "      <td>0.0</td>\n",
       "      <td>0.0</td>\n",
       "      <td>0.0</td>\n",
       "      <td>0.0</td>\n",
       "      <td>...</td>\n",
       "      <td>0.0</td>\n",
       "      <td>0.0</td>\n",
       "      <td>0.0</td>\n",
       "      <td>0.0</td>\n",
       "      <td>0.0</td>\n",
       "      <td>0.0</td>\n",
       "      <td>0.0</td>\n",
       "      <td>0.0</td>\n",
       "      <td>0.0</td>\n",
       "      <td>0.0</td>\n",
       "      <td>0.0</td>\n",
       "      <td>0.0</td>\n",
       "      <td>0.0</td>\n",
       "      <td>0.0</td>\n",
       "      <td>1.0</td>\n",
       "      <td>0.0</td>\n",
       "      <td>0.0</td>\n",
       "      <td>0.0</td>\n",
       "    </tr>\n",
       "    <tr>\n",
       "      <th>1</th>\n",
       "      <td>0.0</td>\n",
       "      <td>0.0</td>\n",
       "      <td>0.0</td>\n",
       "      <td>0.054054</td>\n",
       "      <td>0.634243</td>\n",
       "      <td>0.083333</td>\n",
       "      <td>0.0</td>\n",
       "      <td>0.0</td>\n",
       "      <td>0.0</td>\n",
       "      <td>0.0</td>\n",
       "      <td>0.0</td>\n",
       "      <td>0.0</td>\n",
       "      <td>0.0</td>\n",
       "      <td>0.0</td>\n",
       "      <td>0.0</td>\n",
       "      <td>0.0</td>\n",
       "      <td>0.0</td>\n",
       "      <td>0.0</td>\n",
       "      <td>...</td>\n",
       "      <td>0.0</td>\n",
       "      <td>0.0</td>\n",
       "      <td>1.0</td>\n",
       "      <td>0.0</td>\n",
       "      <td>0.0</td>\n",
       "      <td>0.0</td>\n",
       "      <td>0.0</td>\n",
       "      <td>0.0</td>\n",
       "      <td>0.0</td>\n",
       "      <td>0.0</td>\n",
       "      <td>1.0</td>\n",
       "      <td>0.0</td>\n",
       "      <td>0.0</td>\n",
       "      <td>0.0</td>\n",
       "      <td>0.0</td>\n",
       "      <td>0.0</td>\n",
       "      <td>0.0</td>\n",
       "      <td>0.0</td>\n",
       "    </tr>\n",
       "    <tr>\n",
       "      <th>2</th>\n",
       "      <td>0.0</td>\n",
       "      <td>0.0</td>\n",
       "      <td>0.0</td>\n",
       "      <td>0.094595</td>\n",
       "      <td>0.026408</td>\n",
       "      <td>0.291667</td>\n",
       "      <td>0.0</td>\n",
       "      <td>0.0</td>\n",
       "      <td>0.0</td>\n",
       "      <td>0.0</td>\n",
       "      <td>0.0</td>\n",
       "      <td>0.0</td>\n",
       "      <td>0.0</td>\n",
       "      <td>0.0</td>\n",
       "      <td>0.0</td>\n",
       "      <td>0.0</td>\n",
       "      <td>0.0</td>\n",
       "      <td>0.0</td>\n",
       "      <td>...</td>\n",
       "      <td>0.0</td>\n",
       "      <td>0.0</td>\n",
       "      <td>0.0</td>\n",
       "      <td>0.0</td>\n",
       "      <td>0.0</td>\n",
       "      <td>0.0</td>\n",
       "      <td>1.0</td>\n",
       "      <td>0.0</td>\n",
       "      <td>0.0</td>\n",
       "      <td>0.0</td>\n",
       "      <td>0.0</td>\n",
       "      <td>0.0</td>\n",
       "      <td>0.0</td>\n",
       "      <td>0.0</td>\n",
       "      <td>0.0</td>\n",
       "      <td>0.0</td>\n",
       "      <td>0.0</td>\n",
       "      <td>0.0</td>\n",
       "    </tr>\n",
       "    <tr>\n",
       "      <th>3</th>\n",
       "      <td>0.0</td>\n",
       "      <td>0.0</td>\n",
       "      <td>1.0</td>\n",
       "      <td>0.013514</td>\n",
       "      <td>0.018486</td>\n",
       "      <td>0.041667</td>\n",
       "      <td>0.0</td>\n",
       "      <td>0.0</td>\n",
       "      <td>0.0</td>\n",
       "      <td>0.0</td>\n",
       "      <td>0.0</td>\n",
       "      <td>0.0</td>\n",
       "      <td>0.0</td>\n",
       "      <td>0.0</td>\n",
       "      <td>0.0</td>\n",
       "      <td>0.0</td>\n",
       "      <td>0.0</td>\n",
       "      <td>1.0</td>\n",
       "      <td>...</td>\n",
       "      <td>0.0</td>\n",
       "      <td>0.0</td>\n",
       "      <td>0.0</td>\n",
       "      <td>0.0</td>\n",
       "      <td>0.0</td>\n",
       "      <td>0.0</td>\n",
       "      <td>0.0</td>\n",
       "      <td>0.0</td>\n",
       "      <td>0.0</td>\n",
       "      <td>0.0</td>\n",
       "      <td>1.0</td>\n",
       "      <td>0.0</td>\n",
       "      <td>0.0</td>\n",
       "      <td>0.0</td>\n",
       "      <td>0.0</td>\n",
       "      <td>0.0</td>\n",
       "      <td>0.0</td>\n",
       "      <td>0.0</td>\n",
       "    </tr>\n",
       "    <tr>\n",
       "      <th>4</th>\n",
       "      <td>1.0</td>\n",
       "      <td>0.0</td>\n",
       "      <td>0.0</td>\n",
       "      <td>0.013514</td>\n",
       "      <td>0.084507</td>\n",
       "      <td>0.041667</td>\n",
       "      <td>0.0</td>\n",
       "      <td>0.0</td>\n",
       "      <td>0.0</td>\n",
       "      <td>0.0</td>\n",
       "      <td>0.0</td>\n",
       "      <td>0.0</td>\n",
       "      <td>0.0</td>\n",
       "      <td>0.0</td>\n",
       "      <td>0.0</td>\n",
       "      <td>0.0</td>\n",
       "      <td>0.0</td>\n",
       "      <td>0.0</td>\n",
       "      <td>...</td>\n",
       "      <td>0.0</td>\n",
       "      <td>0.0</td>\n",
       "      <td>1.0</td>\n",
       "      <td>0.0</td>\n",
       "      <td>0.0</td>\n",
       "      <td>0.0</td>\n",
       "      <td>0.0</td>\n",
       "      <td>0.0</td>\n",
       "      <td>0.0</td>\n",
       "      <td>0.0</td>\n",
       "      <td>1.0</td>\n",
       "      <td>0.0</td>\n",
       "      <td>0.0</td>\n",
       "      <td>0.0</td>\n",
       "      <td>0.0</td>\n",
       "      <td>0.0</td>\n",
       "      <td>0.0</td>\n",
       "      <td>0.0</td>\n",
       "    </tr>\n",
       "  </tbody>\n",
       "</table>\n",
       "<p>5 rows × 99 columns</p>\n",
       "</div>"
      ],
      "text/plain": [
       "    0    1    2         3         4         5    6    7    8    9    10   11  \\\n",
       "0  0.0  0.0  1.0  0.121622  0.038292  0.187500  0.0  0.0  0.0  0.0  0.0  0.0   \n",
       "1  0.0  0.0  0.0  0.054054  0.634243  0.083333  0.0  0.0  0.0  0.0  0.0  0.0   \n",
       "2  0.0  0.0  0.0  0.094595  0.026408  0.291667  0.0  0.0  0.0  0.0  0.0  0.0   \n",
       "3  0.0  0.0  1.0  0.013514  0.018486  0.041667  0.0  0.0  0.0  0.0  0.0  0.0   \n",
       "4  1.0  0.0  0.0  0.013514  0.084507  0.041667  0.0  0.0  0.0  0.0  0.0  0.0   \n",
       "\n",
       "    12   13   14   15   16   17  ...   81   82   83   84   85   86   87   88  \\\n",
       "0  0.0  0.0  0.0  0.0  0.0  0.0  ...  0.0  0.0  0.0  0.0  0.0  0.0  0.0  0.0   \n",
       "1  0.0  0.0  0.0  0.0  0.0  0.0  ...  0.0  0.0  1.0  0.0  0.0  0.0  0.0  0.0   \n",
       "2  0.0  0.0  0.0  0.0  0.0  0.0  ...  0.0  0.0  0.0  0.0  0.0  0.0  1.0  0.0   \n",
       "3  0.0  0.0  0.0  0.0  0.0  1.0  ...  0.0  0.0  0.0  0.0  0.0  0.0  0.0  0.0   \n",
       "4  0.0  0.0  0.0  0.0  0.0  0.0  ...  0.0  0.0  1.0  0.0  0.0  0.0  0.0  0.0   \n",
       "\n",
       "    89   90   91   92   93   94   95   96   97   98  \n",
       "0  0.0  0.0  0.0  0.0  0.0  0.0  1.0  0.0  0.0  0.0  \n",
       "1  0.0  0.0  1.0  0.0  0.0  0.0  0.0  0.0  0.0  0.0  \n",
       "2  0.0  0.0  0.0  0.0  0.0  0.0  0.0  0.0  0.0  0.0  \n",
       "3  0.0  0.0  1.0  0.0  0.0  0.0  0.0  0.0  0.0  0.0  \n",
       "4  0.0  0.0  1.0  0.0  0.0  0.0  0.0  0.0  0.0  0.0  \n",
       "\n",
       "[5 rows x 99 columns]"
      ]
     },
     "execution_count": 2704,
     "metadata": {},
     "output_type": "execute_result"
    }
   ],
   "source": [
    "df_test=pd.DataFrame(df_test)\n",
    "df_test.head()"
   ]
  },
  {
   "cell_type": "code",
   "execution_count": 2705,
   "id": "05d321cf",
   "metadata": {},
   "outputs": [],
   "source": [
    "df_test.columns=df3.columns"
   ]
  },
  {
   "cell_type": "code",
   "execution_count": 2706,
   "id": "bf171097",
   "metadata": {},
   "outputs": [
    {
     "data": {
      "text/html": [
       "<div>\n",
       "<style scoped>\n",
       "    .dataframe tbody tr th:only-of-type {\n",
       "        vertical-align: middle;\n",
       "    }\n",
       "\n",
       "    .dataframe tbody tr th {\n",
       "        vertical-align: top;\n",
       "    }\n",
       "\n",
       "    .dataframe thead th {\n",
       "        text-align: right;\n",
       "    }\n",
       "</style>\n",
       "<table border=\"1\" class=\"dataframe\">\n",
       "  <thead>\n",
       "    <tr style=\"text-align: right;\">\n",
       "      <th></th>\n",
       "      <th>Do Not Email</th>\n",
       "      <th>Do Not Call</th>\n",
       "      <th>Converted</th>\n",
       "      <th>TotalVisits</th>\n",
       "      <th>Total Time Spent on Website</th>\n",
       "      <th>Page Views Per Visit</th>\n",
       "      <th>Search</th>\n",
       "      <th>Magazine</th>\n",
       "      <th>Newspaper Article</th>\n",
       "      <th>X Education Forums</th>\n",
       "      <th>Newspaper</th>\n",
       "      <th>Digital Advertisement</th>\n",
       "      <th>Through Recommendations</th>\n",
       "      <th>Receive More Updates About Our Courses</th>\n",
       "      <th>Update me on Supply Chain Content</th>\n",
       "      <th>Get updates on DM Content</th>\n",
       "      <th>I agree to pay the amount through cheque</th>\n",
       "      <th>A free copy of Mastering The Interview</th>\n",
       "      <th>...</th>\n",
       "      <th>CurrentOccupation_Working Professional</th>\n",
       "      <th>Outcome_Flexibility &amp; Convenience</th>\n",
       "      <th>Outcome_Other</th>\n",
       "      <th>LastNotableActivity_Email Bounced</th>\n",
       "      <th>LastNotableActivity_Email Link Clicked</th>\n",
       "      <th>LastNotableActivity_Email Marked Spam</th>\n",
       "      <th>LastNotableActivity_Email Opened</th>\n",
       "      <th>LastNotableActivity_Email Received</th>\n",
       "      <th>LastNotableActivity_Form Submitted on Website</th>\n",
       "      <th>LastNotableActivity_Had a Phone Conversation</th>\n",
       "      <th>LastNotableActivity_Modified</th>\n",
       "      <th>LastNotableActivity_Olark Chat Conversation</th>\n",
       "      <th>LastNotableActivity_Page Visited on Website</th>\n",
       "      <th>LastNotableActivity_Resubscribed to emails</th>\n",
       "      <th>LastNotableActivity_SMS Sent</th>\n",
       "      <th>LastNotableActivity_Unreachable</th>\n",
       "      <th>LastNotableActivity_Unsubscribed</th>\n",
       "      <th>LastNotableActivity_View in browser link Clicked</th>\n",
       "    </tr>\n",
       "  </thead>\n",
       "  <tbody>\n",
       "    <tr>\n",
       "      <th>0</th>\n",
       "      <td>0.0</td>\n",
       "      <td>0.0</td>\n",
       "      <td>1.0</td>\n",
       "      <td>0.121622</td>\n",
       "      <td>0.038292</td>\n",
       "      <td>0.187500</td>\n",
       "      <td>0.0</td>\n",
       "      <td>0.0</td>\n",
       "      <td>0.0</td>\n",
       "      <td>0.0</td>\n",
       "      <td>0.0</td>\n",
       "      <td>0.0</td>\n",
       "      <td>0.0</td>\n",
       "      <td>0.0</td>\n",
       "      <td>0.0</td>\n",
       "      <td>0.0</td>\n",
       "      <td>0.0</td>\n",
       "      <td>0.0</td>\n",
       "      <td>...</td>\n",
       "      <td>0.0</td>\n",
       "      <td>0.0</td>\n",
       "      <td>0.0</td>\n",
       "      <td>0.0</td>\n",
       "      <td>0.0</td>\n",
       "      <td>0.0</td>\n",
       "      <td>0.0</td>\n",
       "      <td>0.0</td>\n",
       "      <td>0.0</td>\n",
       "      <td>0.0</td>\n",
       "      <td>0.0</td>\n",
       "      <td>0.0</td>\n",
       "      <td>0.0</td>\n",
       "      <td>0.0</td>\n",
       "      <td>1.0</td>\n",
       "      <td>0.0</td>\n",
       "      <td>0.0</td>\n",
       "      <td>0.0</td>\n",
       "    </tr>\n",
       "    <tr>\n",
       "      <th>1</th>\n",
       "      <td>0.0</td>\n",
       "      <td>0.0</td>\n",
       "      <td>0.0</td>\n",
       "      <td>0.054054</td>\n",
       "      <td>0.634243</td>\n",
       "      <td>0.083333</td>\n",
       "      <td>0.0</td>\n",
       "      <td>0.0</td>\n",
       "      <td>0.0</td>\n",
       "      <td>0.0</td>\n",
       "      <td>0.0</td>\n",
       "      <td>0.0</td>\n",
       "      <td>0.0</td>\n",
       "      <td>0.0</td>\n",
       "      <td>0.0</td>\n",
       "      <td>0.0</td>\n",
       "      <td>0.0</td>\n",
       "      <td>0.0</td>\n",
       "      <td>...</td>\n",
       "      <td>0.0</td>\n",
       "      <td>0.0</td>\n",
       "      <td>1.0</td>\n",
       "      <td>0.0</td>\n",
       "      <td>0.0</td>\n",
       "      <td>0.0</td>\n",
       "      <td>0.0</td>\n",
       "      <td>0.0</td>\n",
       "      <td>0.0</td>\n",
       "      <td>0.0</td>\n",
       "      <td>1.0</td>\n",
       "      <td>0.0</td>\n",
       "      <td>0.0</td>\n",
       "      <td>0.0</td>\n",
       "      <td>0.0</td>\n",
       "      <td>0.0</td>\n",
       "      <td>0.0</td>\n",
       "      <td>0.0</td>\n",
       "    </tr>\n",
       "    <tr>\n",
       "      <th>2</th>\n",
       "      <td>0.0</td>\n",
       "      <td>0.0</td>\n",
       "      <td>0.0</td>\n",
       "      <td>0.094595</td>\n",
       "      <td>0.026408</td>\n",
       "      <td>0.291667</td>\n",
       "      <td>0.0</td>\n",
       "      <td>0.0</td>\n",
       "      <td>0.0</td>\n",
       "      <td>0.0</td>\n",
       "      <td>0.0</td>\n",
       "      <td>0.0</td>\n",
       "      <td>0.0</td>\n",
       "      <td>0.0</td>\n",
       "      <td>0.0</td>\n",
       "      <td>0.0</td>\n",
       "      <td>0.0</td>\n",
       "      <td>0.0</td>\n",
       "      <td>...</td>\n",
       "      <td>0.0</td>\n",
       "      <td>0.0</td>\n",
       "      <td>0.0</td>\n",
       "      <td>0.0</td>\n",
       "      <td>0.0</td>\n",
       "      <td>0.0</td>\n",
       "      <td>1.0</td>\n",
       "      <td>0.0</td>\n",
       "      <td>0.0</td>\n",
       "      <td>0.0</td>\n",
       "      <td>0.0</td>\n",
       "      <td>0.0</td>\n",
       "      <td>0.0</td>\n",
       "      <td>0.0</td>\n",
       "      <td>0.0</td>\n",
       "      <td>0.0</td>\n",
       "      <td>0.0</td>\n",
       "      <td>0.0</td>\n",
       "    </tr>\n",
       "    <tr>\n",
       "      <th>3</th>\n",
       "      <td>0.0</td>\n",
       "      <td>0.0</td>\n",
       "      <td>1.0</td>\n",
       "      <td>0.013514</td>\n",
       "      <td>0.018486</td>\n",
       "      <td>0.041667</td>\n",
       "      <td>0.0</td>\n",
       "      <td>0.0</td>\n",
       "      <td>0.0</td>\n",
       "      <td>0.0</td>\n",
       "      <td>0.0</td>\n",
       "      <td>0.0</td>\n",
       "      <td>0.0</td>\n",
       "      <td>0.0</td>\n",
       "      <td>0.0</td>\n",
       "      <td>0.0</td>\n",
       "      <td>0.0</td>\n",
       "      <td>1.0</td>\n",
       "      <td>...</td>\n",
       "      <td>0.0</td>\n",
       "      <td>0.0</td>\n",
       "      <td>0.0</td>\n",
       "      <td>0.0</td>\n",
       "      <td>0.0</td>\n",
       "      <td>0.0</td>\n",
       "      <td>0.0</td>\n",
       "      <td>0.0</td>\n",
       "      <td>0.0</td>\n",
       "      <td>0.0</td>\n",
       "      <td>1.0</td>\n",
       "      <td>0.0</td>\n",
       "      <td>0.0</td>\n",
       "      <td>0.0</td>\n",
       "      <td>0.0</td>\n",
       "      <td>0.0</td>\n",
       "      <td>0.0</td>\n",
       "      <td>0.0</td>\n",
       "    </tr>\n",
       "    <tr>\n",
       "      <th>4</th>\n",
       "      <td>1.0</td>\n",
       "      <td>0.0</td>\n",
       "      <td>0.0</td>\n",
       "      <td>0.013514</td>\n",
       "      <td>0.084507</td>\n",
       "      <td>0.041667</td>\n",
       "      <td>0.0</td>\n",
       "      <td>0.0</td>\n",
       "      <td>0.0</td>\n",
       "      <td>0.0</td>\n",
       "      <td>0.0</td>\n",
       "      <td>0.0</td>\n",
       "      <td>0.0</td>\n",
       "      <td>0.0</td>\n",
       "      <td>0.0</td>\n",
       "      <td>0.0</td>\n",
       "      <td>0.0</td>\n",
       "      <td>0.0</td>\n",
       "      <td>...</td>\n",
       "      <td>0.0</td>\n",
       "      <td>0.0</td>\n",
       "      <td>1.0</td>\n",
       "      <td>0.0</td>\n",
       "      <td>0.0</td>\n",
       "      <td>0.0</td>\n",
       "      <td>0.0</td>\n",
       "      <td>0.0</td>\n",
       "      <td>0.0</td>\n",
       "      <td>0.0</td>\n",
       "      <td>1.0</td>\n",
       "      <td>0.0</td>\n",
       "      <td>0.0</td>\n",
       "      <td>0.0</td>\n",
       "      <td>0.0</td>\n",
       "      <td>0.0</td>\n",
       "      <td>0.0</td>\n",
       "      <td>0.0</td>\n",
       "    </tr>\n",
       "  </tbody>\n",
       "</table>\n",
       "<p>5 rows × 99 columns</p>\n",
       "</div>"
      ],
      "text/plain": [
       "   Do Not Email  Do Not Call  Converted  TotalVisits  \\\n",
       "0           0.0          0.0        1.0     0.121622   \n",
       "1           0.0          0.0        0.0     0.054054   \n",
       "2           0.0          0.0        0.0     0.094595   \n",
       "3           0.0          0.0        1.0     0.013514   \n",
       "4           1.0          0.0        0.0     0.013514   \n",
       "\n",
       "   Total Time Spent on Website  Page Views Per Visit  Search  Magazine  \\\n",
       "0                     0.038292              0.187500     0.0       0.0   \n",
       "1                     0.634243              0.083333     0.0       0.0   \n",
       "2                     0.026408              0.291667     0.0       0.0   \n",
       "3                     0.018486              0.041667     0.0       0.0   \n",
       "4                     0.084507              0.041667     0.0       0.0   \n",
       "\n",
       "   Newspaper Article  X Education Forums  Newspaper  Digital Advertisement  \\\n",
       "0                0.0                 0.0        0.0                    0.0   \n",
       "1                0.0                 0.0        0.0                    0.0   \n",
       "2                0.0                 0.0        0.0                    0.0   \n",
       "3                0.0                 0.0        0.0                    0.0   \n",
       "4                0.0                 0.0        0.0                    0.0   \n",
       "\n",
       "   Through Recommendations  Receive More Updates About Our Courses  \\\n",
       "0                      0.0                                     0.0   \n",
       "1                      0.0                                     0.0   \n",
       "2                      0.0                                     0.0   \n",
       "3                      0.0                                     0.0   \n",
       "4                      0.0                                     0.0   \n",
       "\n",
       "   Update me on Supply Chain Content  Get updates on DM Content  \\\n",
       "0                                0.0                        0.0   \n",
       "1                                0.0                        0.0   \n",
       "2                                0.0                        0.0   \n",
       "3                                0.0                        0.0   \n",
       "4                                0.0                        0.0   \n",
       "\n",
       "   I agree to pay the amount through cheque  \\\n",
       "0                                       0.0   \n",
       "1                                       0.0   \n",
       "2                                       0.0   \n",
       "3                                       0.0   \n",
       "4                                       0.0   \n",
       "\n",
       "   A free copy of Mastering The Interview  ...  \\\n",
       "0                                     0.0  ...   \n",
       "1                                     0.0  ...   \n",
       "2                                     0.0  ...   \n",
       "3                                     1.0  ...   \n",
       "4                                     0.0  ...   \n",
       "\n",
       "   CurrentOccupation_Working Professional  Outcome_Flexibility & Convenience  \\\n",
       "0                                     0.0                                0.0   \n",
       "1                                     0.0                                0.0   \n",
       "2                                     0.0                                0.0   \n",
       "3                                     0.0                                0.0   \n",
       "4                                     0.0                                0.0   \n",
       "\n",
       "   Outcome_Other  LastNotableActivity_Email Bounced  \\\n",
       "0            0.0                                0.0   \n",
       "1            1.0                                0.0   \n",
       "2            0.0                                0.0   \n",
       "3            0.0                                0.0   \n",
       "4            1.0                                0.0   \n",
       "\n",
       "   LastNotableActivity_Email Link Clicked  \\\n",
       "0                                     0.0   \n",
       "1                                     0.0   \n",
       "2                                     0.0   \n",
       "3                                     0.0   \n",
       "4                                     0.0   \n",
       "\n",
       "   LastNotableActivity_Email Marked Spam  LastNotableActivity_Email Opened  \\\n",
       "0                                    0.0                               0.0   \n",
       "1                                    0.0                               0.0   \n",
       "2                                    0.0                               1.0   \n",
       "3                                    0.0                               0.0   \n",
       "4                                    0.0                               0.0   \n",
       "\n",
       "   LastNotableActivity_Email Received  \\\n",
       "0                                 0.0   \n",
       "1                                 0.0   \n",
       "2                                 0.0   \n",
       "3                                 0.0   \n",
       "4                                 0.0   \n",
       "\n",
       "   LastNotableActivity_Form Submitted on Website  \\\n",
       "0                                            0.0   \n",
       "1                                            0.0   \n",
       "2                                            0.0   \n",
       "3                                            0.0   \n",
       "4                                            0.0   \n",
       "\n",
       "   LastNotableActivity_Had a Phone Conversation  LastNotableActivity_Modified  \\\n",
       "0                                           0.0                           0.0   \n",
       "1                                           0.0                           1.0   \n",
       "2                                           0.0                           0.0   \n",
       "3                                           0.0                           1.0   \n",
       "4                                           0.0                           1.0   \n",
       "\n",
       "   LastNotableActivity_Olark Chat Conversation  \\\n",
       "0                                          0.0   \n",
       "1                                          0.0   \n",
       "2                                          0.0   \n",
       "3                                          0.0   \n",
       "4                                          0.0   \n",
       "\n",
       "   LastNotableActivity_Page Visited on Website  \\\n",
       "0                                          0.0   \n",
       "1                                          0.0   \n",
       "2                                          0.0   \n",
       "3                                          0.0   \n",
       "4                                          0.0   \n",
       "\n",
       "   LastNotableActivity_Resubscribed to emails  LastNotableActivity_SMS Sent  \\\n",
       "0                                         0.0                           1.0   \n",
       "1                                         0.0                           0.0   \n",
       "2                                         0.0                           0.0   \n",
       "3                                         0.0                           0.0   \n",
       "4                                         0.0                           0.0   \n",
       "\n",
       "   LastNotableActivity_Unreachable  LastNotableActivity_Unsubscribed  \\\n",
       "0                              0.0                               0.0   \n",
       "1                              0.0                               0.0   \n",
       "2                              0.0                               0.0   \n",
       "3                              0.0                               0.0   \n",
       "4                              0.0                               0.0   \n",
       "\n",
       "   LastNotableActivity_View in browser link Clicked  \n",
       "0                                               0.0  \n",
       "1                                               0.0  \n",
       "2                                               0.0  \n",
       "3                                               0.0  \n",
       "4                                               0.0  \n",
       "\n",
       "[5 rows x 99 columns]"
      ]
     },
     "execution_count": 2706,
     "metadata": {},
     "output_type": "execute_result"
    }
   ],
   "source": [
    "df_test.head()"
   ]
  },
  {
   "cell_type": "code",
   "execution_count": 2707,
   "id": "f3189a3b",
   "metadata": {},
   "outputs": [],
   "source": [
    "# Dividing into X and y sets for Model Building\n",
    "y_test=df_test.pop('Converted')\n",
    "X_test=df_test"
   ]
  },
  {
   "cell_type": "code",
   "execution_count": 2708,
   "id": "169f9ee8",
   "metadata": {},
   "outputs": [
    {
     "data": {
      "text/html": [
       "<div>\n",
       "<style scoped>\n",
       "    .dataframe tbody tr th:only-of-type {\n",
       "        vertical-align: middle;\n",
       "    }\n",
       "\n",
       "    .dataframe tbody tr th {\n",
       "        vertical-align: top;\n",
       "    }\n",
       "\n",
       "    .dataframe thead th {\n",
       "        text-align: right;\n",
       "    }\n",
       "</style>\n",
       "<table border=\"1\" class=\"dataframe\">\n",
       "  <thead>\n",
       "    <tr style=\"text-align: right;\">\n",
       "      <th></th>\n",
       "      <th>Do Not Email</th>\n",
       "      <th>TotalVisits</th>\n",
       "      <th>Total Time Spent on Website</th>\n",
       "      <th>Page Views Per Visit</th>\n",
       "      <th>LeadOrigin_Landing Page Submission</th>\n",
       "      <th>LeadSource_Olark Chat</th>\n",
       "      <th>LeadSource_Reference</th>\n",
       "      <th>LeadSource_Welingak Website</th>\n",
       "      <th>LastActivity_Had a Phone Conversation</th>\n",
       "      <th>LastActivity_Olark Chat Conversation</th>\n",
       "      <th>LastActivity_SMS Sent</th>\n",
       "      <th>Specialization_Unknown</th>\n",
       "      <th>CurrentOccupation_Housewife</th>\n",
       "      <th>CurrentOccupation_Working Professional</th>\n",
       "      <th>Outcome_Other</th>\n",
       "      <th>LastNotableActivity_Had a Phone Conversation</th>\n",
       "      <th>LastNotableActivity_Modified</th>\n",
       "      <th>LastNotableActivity_Unreachable</th>\n",
       "    </tr>\n",
       "  </thead>\n",
       "  <tbody>\n",
       "    <tr>\n",
       "      <th>0</th>\n",
       "      <td>0.0</td>\n",
       "      <td>0.121622</td>\n",
       "      <td>0.038292</td>\n",
       "      <td>0.187500</td>\n",
       "      <td>1.0</td>\n",
       "      <td>0.0</td>\n",
       "      <td>0.0</td>\n",
       "      <td>0.0</td>\n",
       "      <td>0.0</td>\n",
       "      <td>0.0</td>\n",
       "      <td>1.0</td>\n",
       "      <td>0.0</td>\n",
       "      <td>0.0</td>\n",
       "      <td>0.0</td>\n",
       "      <td>0.0</td>\n",
       "      <td>0.0</td>\n",
       "      <td>0.0</td>\n",
       "      <td>0.0</td>\n",
       "    </tr>\n",
       "    <tr>\n",
       "      <th>1</th>\n",
       "      <td>0.0</td>\n",
       "      <td>0.054054</td>\n",
       "      <td>0.634243</td>\n",
       "      <td>0.083333</td>\n",
       "      <td>1.0</td>\n",
       "      <td>0.0</td>\n",
       "      <td>0.0</td>\n",
       "      <td>0.0</td>\n",
       "      <td>0.0</td>\n",
       "      <td>0.0</td>\n",
       "      <td>0.0</td>\n",
       "      <td>0.0</td>\n",
       "      <td>0.0</td>\n",
       "      <td>0.0</td>\n",
       "      <td>1.0</td>\n",
       "      <td>0.0</td>\n",
       "      <td>1.0</td>\n",
       "      <td>0.0</td>\n",
       "    </tr>\n",
       "    <tr>\n",
       "      <th>2</th>\n",
       "      <td>0.0</td>\n",
       "      <td>0.094595</td>\n",
       "      <td>0.026408</td>\n",
       "      <td>0.291667</td>\n",
       "      <td>1.0</td>\n",
       "      <td>0.0</td>\n",
       "      <td>0.0</td>\n",
       "      <td>0.0</td>\n",
       "      <td>0.0</td>\n",
       "      <td>0.0</td>\n",
       "      <td>0.0</td>\n",
       "      <td>0.0</td>\n",
       "      <td>0.0</td>\n",
       "      <td>0.0</td>\n",
       "      <td>0.0</td>\n",
       "      <td>0.0</td>\n",
       "      <td>0.0</td>\n",
       "      <td>0.0</td>\n",
       "    </tr>\n",
       "    <tr>\n",
       "      <th>3</th>\n",
       "      <td>0.0</td>\n",
       "      <td>0.013514</td>\n",
       "      <td>0.018486</td>\n",
       "      <td>0.041667</td>\n",
       "      <td>1.0</td>\n",
       "      <td>0.0</td>\n",
       "      <td>0.0</td>\n",
       "      <td>0.0</td>\n",
       "      <td>0.0</td>\n",
       "      <td>0.0</td>\n",
       "      <td>0.0</td>\n",
       "      <td>0.0</td>\n",
       "      <td>0.0</td>\n",
       "      <td>0.0</td>\n",
       "      <td>0.0</td>\n",
       "      <td>0.0</td>\n",
       "      <td>1.0</td>\n",
       "      <td>0.0</td>\n",
       "    </tr>\n",
       "    <tr>\n",
       "      <th>4</th>\n",
       "      <td>1.0</td>\n",
       "      <td>0.013514</td>\n",
       "      <td>0.084507</td>\n",
       "      <td>0.041667</td>\n",
       "      <td>1.0</td>\n",
       "      <td>0.0</td>\n",
       "      <td>0.0</td>\n",
       "      <td>0.0</td>\n",
       "      <td>0.0</td>\n",
       "      <td>0.0</td>\n",
       "      <td>0.0</td>\n",
       "      <td>1.0</td>\n",
       "      <td>0.0</td>\n",
       "      <td>0.0</td>\n",
       "      <td>1.0</td>\n",
       "      <td>0.0</td>\n",
       "      <td>1.0</td>\n",
       "      <td>0.0</td>\n",
       "    </tr>\n",
       "  </tbody>\n",
       "</table>\n",
       "</div>"
      ],
      "text/plain": [
       "   Do Not Email  TotalVisits  Total Time Spent on Website  \\\n",
       "0           0.0     0.121622                     0.038292   \n",
       "1           0.0     0.054054                     0.634243   \n",
       "2           0.0     0.094595                     0.026408   \n",
       "3           0.0     0.013514                     0.018486   \n",
       "4           1.0     0.013514                     0.084507   \n",
       "\n",
       "   Page Views Per Visit  LeadOrigin_Landing Page Submission  \\\n",
       "0              0.187500                                 1.0   \n",
       "1              0.083333                                 1.0   \n",
       "2              0.291667                                 1.0   \n",
       "3              0.041667                                 1.0   \n",
       "4              0.041667                                 1.0   \n",
       "\n",
       "   LeadSource_Olark Chat  LeadSource_Reference  LeadSource_Welingak Website  \\\n",
       "0                    0.0                   0.0                          0.0   \n",
       "1                    0.0                   0.0                          0.0   \n",
       "2                    0.0                   0.0                          0.0   \n",
       "3                    0.0                   0.0                          0.0   \n",
       "4                    0.0                   0.0                          0.0   \n",
       "\n",
       "   LastActivity_Had a Phone Conversation  \\\n",
       "0                                    0.0   \n",
       "1                                    0.0   \n",
       "2                                    0.0   \n",
       "3                                    0.0   \n",
       "4                                    0.0   \n",
       "\n",
       "   LastActivity_Olark Chat Conversation  LastActivity_SMS Sent  \\\n",
       "0                                   0.0                    1.0   \n",
       "1                                   0.0                    0.0   \n",
       "2                                   0.0                    0.0   \n",
       "3                                   0.0                    0.0   \n",
       "4                                   0.0                    0.0   \n",
       "\n",
       "   Specialization_Unknown  CurrentOccupation_Housewife  \\\n",
       "0                     0.0                          0.0   \n",
       "1                     0.0                          0.0   \n",
       "2                     0.0                          0.0   \n",
       "3                     0.0                          0.0   \n",
       "4                     1.0                          0.0   \n",
       "\n",
       "   CurrentOccupation_Working Professional  Outcome_Other  \\\n",
       "0                                     0.0            0.0   \n",
       "1                                     0.0            1.0   \n",
       "2                                     0.0            0.0   \n",
       "3                                     0.0            0.0   \n",
       "4                                     0.0            1.0   \n",
       "\n",
       "   LastNotableActivity_Had a Phone Conversation  LastNotableActivity_Modified  \\\n",
       "0                                           0.0                           0.0   \n",
       "1                                           0.0                           1.0   \n",
       "2                                           0.0                           0.0   \n",
       "3                                           0.0                           1.0   \n",
       "4                                           0.0                           1.0   \n",
       "\n",
       "   LastNotableActivity_Unreachable  \n",
       "0                              0.0  \n",
       "1                              0.0  \n",
       "2                              0.0  \n",
       "3                              0.0  \n",
       "4                              0.0  "
      ]
     },
     "execution_count": 2708,
     "metadata": {},
     "output_type": "execute_result"
    }
   ],
   "source": [
    "# Creating X_train dataframe with RFE selected variables\n",
    "X_test = X_test[col]\n",
    "X_test.head()"
   ]
  },
  {
   "cell_type": "code",
   "execution_count": 2709,
   "id": "36b40939",
   "metadata": {},
   "outputs": [],
   "source": [
    "X_test_sm = sm.add_constant(X_test)"
   ]
  },
  {
   "cell_type": "markdown",
   "id": "5079264b",
   "metadata": {},
   "source": [
    "#### Making Predictions on Test set"
   ]
  },
  {
   "cell_type": "code",
   "execution_count": 2710,
   "id": "9608ce43",
   "metadata": {},
   "outputs": [],
   "source": [
    "y_test_pred = res.predict(X_test_sm)"
   ]
  },
  {
   "cell_type": "code",
   "execution_count": 2711,
   "id": "a6399c2f",
   "metadata": {},
   "outputs": [
    {
     "data": {
      "text/plain": [
       "0    0.401499\n",
       "1    0.273247\n",
       "2    0.116569\n",
       "3    0.065035\n",
       "4    0.002668\n",
       "5    0.090763\n",
       "6    0.523034\n",
       "7    0.050444\n",
       "8    0.932078\n",
       "9    0.116891\n",
       "dtype: float64"
      ]
     },
     "execution_count": 2711,
     "metadata": {},
     "output_type": "execute_result"
    }
   ],
   "source": [
    "y_test_pred[:10]"
   ]
  },
  {
   "cell_type": "code",
   "execution_count": 2712,
   "id": "96c0eaea",
   "metadata": {},
   "outputs": [
    {
     "data": {
      "text/html": [
       "<div>\n",
       "<style scoped>\n",
       "    .dataframe tbody tr th:only-of-type {\n",
       "        vertical-align: middle;\n",
       "    }\n",
       "\n",
       "    .dataframe tbody tr th {\n",
       "        vertical-align: top;\n",
       "    }\n",
       "\n",
       "    .dataframe thead th {\n",
       "        text-align: right;\n",
       "    }\n",
       "</style>\n",
       "<table border=\"1\" class=\"dataframe\">\n",
       "  <thead>\n",
       "    <tr style=\"text-align: right;\">\n",
       "      <th></th>\n",
       "      <th>0</th>\n",
       "    </tr>\n",
       "  </thead>\n",
       "  <tbody>\n",
       "    <tr>\n",
       "      <th>0</th>\n",
       "      <td>0.401499</td>\n",
       "    </tr>\n",
       "    <tr>\n",
       "      <th>1</th>\n",
       "      <td>0.273247</td>\n",
       "    </tr>\n",
       "    <tr>\n",
       "      <th>2</th>\n",
       "      <td>0.116569</td>\n",
       "    </tr>\n",
       "    <tr>\n",
       "      <th>3</th>\n",
       "      <td>0.065035</td>\n",
       "    </tr>\n",
       "    <tr>\n",
       "      <th>4</th>\n",
       "      <td>0.002668</td>\n",
       "    </tr>\n",
       "    <tr>\n",
       "      <th>...</th>\n",
       "      <td>...</td>\n",
       "    </tr>\n",
       "    <tr>\n",
       "      <th>2717</th>\n",
       "      <td>0.452514</td>\n",
       "    </tr>\n",
       "    <tr>\n",
       "      <th>2718</th>\n",
       "      <td>0.994220</td>\n",
       "    </tr>\n",
       "    <tr>\n",
       "      <th>2719</th>\n",
       "      <td>0.038118</td>\n",
       "    </tr>\n",
       "    <tr>\n",
       "      <th>2720</th>\n",
       "      <td>0.997374</td>\n",
       "    </tr>\n",
       "    <tr>\n",
       "      <th>2721</th>\n",
       "      <td>0.062561</td>\n",
       "    </tr>\n",
       "  </tbody>\n",
       "</table>\n",
       "<p>2722 rows × 1 columns</p>\n",
       "</div>"
      ],
      "text/plain": [
       "             0\n",
       "0     0.401499\n",
       "1     0.273247\n",
       "2     0.116569\n",
       "3     0.065035\n",
       "4     0.002668\n",
       "...        ...\n",
       "2717  0.452514\n",
       "2718  0.994220\n",
       "2719  0.038118\n",
       "2720  0.997374\n",
       "2721  0.062561\n",
       "\n",
       "[2722 rows x 1 columns]"
      ]
     },
     "execution_count": 2712,
     "metadata": {},
     "output_type": "execute_result"
    }
   ],
   "source": [
    "# Converting y_pred to a dataframe which is an array\n",
    "y_pred_1 = pd.DataFrame(y_test_pred)\n",
    "y_pred_1"
   ]
  },
  {
   "cell_type": "code",
   "execution_count": 2713,
   "id": "fdf7d2df",
   "metadata": {},
   "outputs": [
    {
     "data": {
      "text/html": [
       "<div>\n",
       "<style scoped>\n",
       "    .dataframe tbody tr th:only-of-type {\n",
       "        vertical-align: middle;\n",
       "    }\n",
       "\n",
       "    .dataframe tbody tr th {\n",
       "        vertical-align: top;\n",
       "    }\n",
       "\n",
       "    .dataframe thead th {\n",
       "        text-align: right;\n",
       "    }\n",
       "</style>\n",
       "<table border=\"1\" class=\"dataframe\">\n",
       "  <thead>\n",
       "    <tr style=\"text-align: right;\">\n",
       "      <th></th>\n",
       "      <th>Converted</th>\n",
       "    </tr>\n",
       "  </thead>\n",
       "  <tbody>\n",
       "    <tr>\n",
       "      <th>0</th>\n",
       "      <td>1.0</td>\n",
       "    </tr>\n",
       "    <tr>\n",
       "      <th>1</th>\n",
       "      <td>0.0</td>\n",
       "    </tr>\n",
       "    <tr>\n",
       "      <th>2</th>\n",
       "      <td>0.0</td>\n",
       "    </tr>\n",
       "    <tr>\n",
       "      <th>3</th>\n",
       "      <td>1.0</td>\n",
       "    </tr>\n",
       "    <tr>\n",
       "      <th>4</th>\n",
       "      <td>0.0</td>\n",
       "    </tr>\n",
       "    <tr>\n",
       "      <th>...</th>\n",
       "      <td>...</td>\n",
       "    </tr>\n",
       "    <tr>\n",
       "      <th>2717</th>\n",
       "      <td>1.0</td>\n",
       "    </tr>\n",
       "    <tr>\n",
       "      <th>2718</th>\n",
       "      <td>1.0</td>\n",
       "    </tr>\n",
       "    <tr>\n",
       "      <th>2719</th>\n",
       "      <td>0.0</td>\n",
       "    </tr>\n",
       "    <tr>\n",
       "      <th>2720</th>\n",
       "      <td>1.0</td>\n",
       "    </tr>\n",
       "    <tr>\n",
       "      <th>2721</th>\n",
       "      <td>0.0</td>\n",
       "    </tr>\n",
       "  </tbody>\n",
       "</table>\n",
       "<p>2722 rows × 1 columns</p>\n",
       "</div>"
      ],
      "text/plain": [
       "      Converted\n",
       "0           1.0\n",
       "1           0.0\n",
       "2           0.0\n",
       "3           1.0\n",
       "4           0.0\n",
       "...         ...\n",
       "2717        1.0\n",
       "2718        1.0\n",
       "2719        0.0\n",
       "2720        1.0\n",
       "2721        0.0\n",
       "\n",
       "[2722 rows x 1 columns]"
      ]
     },
     "execution_count": 2713,
     "metadata": {},
     "output_type": "execute_result"
    }
   ],
   "source": [
    "# Converting y_test to dataframe\n",
    "y_test_df = pd.DataFrame(y_test)\n",
    "y_test_df"
   ]
  },
  {
   "cell_type": "code",
   "execution_count": 2714,
   "id": "e5f2259a",
   "metadata": {},
   "outputs": [],
   "source": [
    "# Appending y_test_df and y_pred_1\n",
    "y_pred_final = pd.concat([y_test_df, y_pred_1],axis=1)"
   ]
  },
  {
   "cell_type": "code",
   "execution_count": 2715,
   "id": "3fdd7947",
   "metadata": {},
   "outputs": [
    {
     "data": {
      "text/html": [
       "<div>\n",
       "<style scoped>\n",
       "    .dataframe tbody tr th:only-of-type {\n",
       "        vertical-align: middle;\n",
       "    }\n",
       "\n",
       "    .dataframe tbody tr th {\n",
       "        vertical-align: top;\n",
       "    }\n",
       "\n",
       "    .dataframe thead th {\n",
       "        text-align: right;\n",
       "    }\n",
       "</style>\n",
       "<table border=\"1\" class=\"dataframe\">\n",
       "  <thead>\n",
       "    <tr style=\"text-align: right;\">\n",
       "      <th></th>\n",
       "      <th>Converted</th>\n",
       "      <th>0</th>\n",
       "    </tr>\n",
       "  </thead>\n",
       "  <tbody>\n",
       "    <tr>\n",
       "      <th>0</th>\n",
       "      <td>1.0</td>\n",
       "      <td>0.401499</td>\n",
       "    </tr>\n",
       "    <tr>\n",
       "      <th>1</th>\n",
       "      <td>0.0</td>\n",
       "      <td>0.273247</td>\n",
       "    </tr>\n",
       "    <tr>\n",
       "      <th>2</th>\n",
       "      <td>0.0</td>\n",
       "      <td>0.116569</td>\n",
       "    </tr>\n",
       "    <tr>\n",
       "      <th>3</th>\n",
       "      <td>1.0</td>\n",
       "      <td>0.065035</td>\n",
       "    </tr>\n",
       "    <tr>\n",
       "      <th>4</th>\n",
       "      <td>0.0</td>\n",
       "      <td>0.002668</td>\n",
       "    </tr>\n",
       "  </tbody>\n",
       "</table>\n",
       "</div>"
      ],
      "text/plain": [
       "   Converted         0\n",
       "0        1.0  0.401499\n",
       "1        0.0  0.273247\n",
       "2        0.0  0.116569\n",
       "3        1.0  0.065035\n",
       "4        0.0  0.002668"
      ]
     },
     "execution_count": 2715,
     "metadata": {},
     "output_type": "execute_result"
    }
   ],
   "source": [
    "y_pred_final.head()"
   ]
  },
  {
   "cell_type": "code",
   "execution_count": 2716,
   "id": "53e61e76",
   "metadata": {},
   "outputs": [],
   "source": [
    "# Renaming the column \n",
    "y_pred_final= y_pred_final.rename(columns={ 0 : 'Convert_Prob'})"
   ]
  },
  {
   "cell_type": "code",
   "execution_count": 2717,
   "id": "4ad39c18",
   "metadata": {},
   "outputs": [],
   "source": [
    "y_pred_final['final_predicted'] = y_pred_final.Convert_Prob.map(lambda x: 1 if x > 0.4 else 0)"
   ]
  },
  {
   "cell_type": "code",
   "execution_count": 2718,
   "id": "e02c55b0",
   "metadata": {},
   "outputs": [
    {
     "data": {
      "text/html": [
       "<div>\n",
       "<style scoped>\n",
       "    .dataframe tbody tr th:only-of-type {\n",
       "        vertical-align: middle;\n",
       "    }\n",
       "\n",
       "    .dataframe tbody tr th {\n",
       "        vertical-align: top;\n",
       "    }\n",
       "\n",
       "    .dataframe thead th {\n",
       "        text-align: right;\n",
       "    }\n",
       "</style>\n",
       "<table border=\"1\" class=\"dataframe\">\n",
       "  <thead>\n",
       "    <tr style=\"text-align: right;\">\n",
       "      <th></th>\n",
       "      <th>Converted</th>\n",
       "      <th>Convert_Prob</th>\n",
       "      <th>final_predicted</th>\n",
       "    </tr>\n",
       "  </thead>\n",
       "  <tbody>\n",
       "    <tr>\n",
       "      <th>0</th>\n",
       "      <td>1.0</td>\n",
       "      <td>0.401499</td>\n",
       "      <td>1</td>\n",
       "    </tr>\n",
       "    <tr>\n",
       "      <th>1</th>\n",
       "      <td>0.0</td>\n",
       "      <td>0.273247</td>\n",
       "      <td>0</td>\n",
       "    </tr>\n",
       "    <tr>\n",
       "      <th>2</th>\n",
       "      <td>0.0</td>\n",
       "      <td>0.116569</td>\n",
       "      <td>0</td>\n",
       "    </tr>\n",
       "    <tr>\n",
       "      <th>3</th>\n",
       "      <td>1.0</td>\n",
       "      <td>0.065035</td>\n",
       "      <td>0</td>\n",
       "    </tr>\n",
       "    <tr>\n",
       "      <th>4</th>\n",
       "      <td>0.0</td>\n",
       "      <td>0.002668</td>\n",
       "      <td>0</td>\n",
       "    </tr>\n",
       "  </tbody>\n",
       "</table>\n",
       "</div>"
      ],
      "text/plain": [
       "   Converted  Convert_Prob  final_predicted\n",
       "0        1.0      0.401499                1\n",
       "1        0.0      0.273247                0\n",
       "2        0.0      0.116569                0\n",
       "3        1.0      0.065035                0\n",
       "4        0.0      0.002668                0"
      ]
     },
     "execution_count": 2718,
     "metadata": {},
     "output_type": "execute_result"
    }
   ],
   "source": [
    "y_pred_final.head()"
   ]
  },
  {
   "cell_type": "code",
   "execution_count": 2719,
   "id": "3d1de9aa",
   "metadata": {},
   "outputs": [
    {
     "data": {
      "text/plain": [
       "0.8152094048493754"
      ]
     },
     "execution_count": 2719,
     "metadata": {},
     "output_type": "execute_result"
    }
   ],
   "source": [
    "# Let's check the overall accuracy.\n",
    "metrics.accuracy_score(y_pred_final.Converted, y_pred_final.final_predicted)"
   ]
  },
  {
   "cell_type": "markdown",
   "id": "9e68d688",
   "metadata": {},
   "source": [
    "#### It can be seen that there is only a reduction of 3% from train set accuracy"
   ]
  },
  {
   "cell_type": "code",
   "execution_count": 2720,
   "id": "c4ee3412",
   "metadata": {},
   "outputs": [
    {
     "data": {
      "text/plain": [
       "array([[1435,  275],\n",
       "       [ 228,  784]], dtype=int64)"
      ]
     },
     "execution_count": 2720,
     "metadata": {},
     "output_type": "execute_result"
    }
   ],
   "source": [
    "confusion2 = metrics.confusion_matrix(y_pred_final.Converted, y_pred_final.final_predicted )\n",
    "confusion2"
   ]
  },
  {
   "cell_type": "code",
   "execution_count": 2721,
   "id": "42cfb5ed",
   "metadata": {},
   "outputs": [],
   "source": [
    "TP = confusion2[1,1] # true positive \n",
    "TN = confusion2[0,0] # true negatives\n",
    "FP = confusion2[0,1] # false positives\n",
    "FN = confusion2[1,0] # false negatives"
   ]
  },
  {
   "cell_type": "code",
   "execution_count": 2722,
   "id": "70b97c31",
   "metadata": {},
   "outputs": [
    {
     "data": {
      "text/plain": [
       "0.7747035573122529"
      ]
     },
     "execution_count": 2722,
     "metadata": {},
     "output_type": "execute_result"
    }
   ],
   "source": [
    "# Let's see the sensitivity of our logistic regression model\n",
    "TP / float(TP+FN)"
   ]
  },
  {
   "cell_type": "code",
   "execution_count": 2723,
   "id": "bb2a17d4",
   "metadata": {},
   "outputs": [
    {
     "data": {
      "text/plain": [
       "0.8391812865497076"
      ]
     },
     "execution_count": 2723,
     "metadata": {},
     "output_type": "execute_result"
    }
   ],
   "source": [
    "# Let us calculate specificity\n",
    "TN / float(TN+FP)"
   ]
  },
  {
   "cell_type": "code",
   "execution_count": 2724,
   "id": "ee835acf",
   "metadata": {},
   "outputs": [],
   "source": [
    "y_pred_final['Lead_Score'] = y_pred_final.Convert_Prob.map(lambda x: x*100)"
   ]
  },
  {
   "cell_type": "code",
   "execution_count": 2725,
   "id": "0e101d97",
   "metadata": {},
   "outputs": [
    {
     "data": {
      "text/html": [
       "<div>\n",
       "<style scoped>\n",
       "    .dataframe tbody tr th:only-of-type {\n",
       "        vertical-align: middle;\n",
       "    }\n",
       "\n",
       "    .dataframe tbody tr th {\n",
       "        vertical-align: top;\n",
       "    }\n",
       "\n",
       "    .dataframe thead th {\n",
       "        text-align: right;\n",
       "    }\n",
       "</style>\n",
       "<table border=\"1\" class=\"dataframe\">\n",
       "  <thead>\n",
       "    <tr style=\"text-align: right;\">\n",
       "      <th></th>\n",
       "      <th>Converted</th>\n",
       "      <th>Convert_Prob</th>\n",
       "      <th>final_predicted</th>\n",
       "      <th>Lead_Score</th>\n",
       "    </tr>\n",
       "  </thead>\n",
       "  <tbody>\n",
       "    <tr>\n",
       "      <th>0</th>\n",
       "      <td>1.0</td>\n",
       "      <td>0.401499</td>\n",
       "      <td>1</td>\n",
       "      <td>40.149915</td>\n",
       "    </tr>\n",
       "    <tr>\n",
       "      <th>1</th>\n",
       "      <td>0.0</td>\n",
       "      <td>0.273247</td>\n",
       "      <td>0</td>\n",
       "      <td>27.324713</td>\n",
       "    </tr>\n",
       "    <tr>\n",
       "      <th>2</th>\n",
       "      <td>0.0</td>\n",
       "      <td>0.116569</td>\n",
       "      <td>0</td>\n",
       "      <td>11.656875</td>\n",
       "    </tr>\n",
       "    <tr>\n",
       "      <th>3</th>\n",
       "      <td>1.0</td>\n",
       "      <td>0.065035</td>\n",
       "      <td>0</td>\n",
       "      <td>6.503480</td>\n",
       "    </tr>\n",
       "    <tr>\n",
       "      <th>4</th>\n",
       "      <td>0.0</td>\n",
       "      <td>0.002668</td>\n",
       "      <td>0</td>\n",
       "      <td>0.266788</td>\n",
       "    </tr>\n",
       "    <tr>\n",
       "      <th>5</th>\n",
       "      <td>0.0</td>\n",
       "      <td>0.090763</td>\n",
       "      <td>0</td>\n",
       "      <td>9.076263</td>\n",
       "    </tr>\n",
       "    <tr>\n",
       "      <th>6</th>\n",
       "      <td>0.0</td>\n",
       "      <td>0.523034</td>\n",
       "      <td>1</td>\n",
       "      <td>52.303413</td>\n",
       "    </tr>\n",
       "    <tr>\n",
       "      <th>7</th>\n",
       "      <td>0.0</td>\n",
       "      <td>0.050444</td>\n",
       "      <td>0</td>\n",
       "      <td>5.044443</td>\n",
       "    </tr>\n",
       "    <tr>\n",
       "      <th>8</th>\n",
       "      <td>1.0</td>\n",
       "      <td>0.932078</td>\n",
       "      <td>1</td>\n",
       "      <td>93.207789</td>\n",
       "    </tr>\n",
       "    <tr>\n",
       "      <th>9</th>\n",
       "      <td>0.0</td>\n",
       "      <td>0.116891</td>\n",
       "      <td>0</td>\n",
       "      <td>11.689104</td>\n",
       "    </tr>\n",
       "  </tbody>\n",
       "</table>\n",
       "</div>"
      ],
      "text/plain": [
       "   Converted  Convert_Prob  final_predicted  Lead_Score\n",
       "0        1.0      0.401499                1   40.149915\n",
       "1        0.0      0.273247                0   27.324713\n",
       "2        0.0      0.116569                0   11.656875\n",
       "3        1.0      0.065035                0    6.503480\n",
       "4        0.0      0.002668                0    0.266788\n",
       "5        0.0      0.090763                0    9.076263\n",
       "6        0.0      0.523034                1   52.303413\n",
       "7        0.0      0.050444                0    5.044443\n",
       "8        1.0      0.932078                1   93.207789\n",
       "9        0.0      0.116891                0   11.689104"
      ]
     },
     "execution_count": 2725,
     "metadata": {},
     "output_type": "execute_result"
    }
   ],
   "source": [
    "y_pred_final.head(10)"
   ]
  },
  {
   "cell_type": "markdown",
   "id": "0d6c9487",
   "metadata": {},
   "source": [
    "#### The column \"Lead_Score\" is the value that the company may use to target leads. A score greater than 40 can be considered as a \"Hot Lead\" while a value lesser than 40 can be considered a \"Cold Lead\", The accuracy of a lead converting would be approximately 81.45% using the developed Logistic regression model.\n",
    "> 1. The model takes in to account 19 variables to predict if the potential lead would convert or not based on the historic data.</br>"
   ]
  },
  {
   "cell_type": "code",
   "execution_count": 2726,
   "id": "bc784b3d",
   "metadata": {},
   "outputs": [
    {
     "data": {
      "text/plain": [
       "0.3853896103896104"
      ]
     },
     "execution_count": 2726,
     "metadata": {},
     "output_type": "execute_result"
    }
   ],
   "source": [
    "df.Converted.sum()/len(df)"
   ]
  },
  {
   "cell_type": "markdown",
   "id": "cdd34979",
   "metadata": {},
   "source": [
    "> 2. The model improves resource usage by enabling focus onto \"Hot Leads\". Thus improving conversion rate from the earlier 38.53% to around 80% by sales personal focussing on the \"Hot Leads\".\n"
   ]
  },
  {
   "cell_type": "code",
   "execution_count": null,
   "id": "bf8b96c8",
   "metadata": {},
   "outputs": [],
   "source": []
  },
  {
   "cell_type": "code",
   "execution_count": null,
   "id": "8915afcb",
   "metadata": {},
   "outputs": [],
   "source": []
  }
 ],
 "metadata": {
  "kernelspec": {
   "display_name": "Python 3 (ipykernel)",
   "language": "python",
   "name": "python3"
  },
  "language_info": {
   "codemirror_mode": {
    "name": "ipython",
    "version": 3
   },
   "file_extension": ".py",
   "mimetype": "text/x-python",
   "name": "python",
   "nbconvert_exporter": "python",
   "pygments_lexer": "ipython3",
   "version": "3.9.12"
  }
 },
 "nbformat": 4,
 "nbformat_minor": 5
}
